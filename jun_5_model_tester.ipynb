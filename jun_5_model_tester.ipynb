{
 "cells": [
  {
   "cell_type": "code",
   "execution_count": 319,
   "metadata": {},
   "outputs": [
    {
     "name": "stdout",
     "output_type": "stream",
     "text": [
      "The autoreload extension is already loaded. To reload it, use:\n",
      "  %reload_ext autoreload\n"
     ]
    }
   ],
   "source": [
    "%load_ext autoreload\n",
    "%autoreload 2\n",
    "\n",
    "import warnings\n",
    "warnings.filterwarnings(\"ignore\")\n",
    "\n",
    "import torch\n",
    "from torch import nn\n",
    "from torch.utils.data import DataLoader\n",
    "import transformers\n",
    "import pandas as pd\n",
    "import numpy as np\n",
    "from transformers import BertModel, BertTokenizer\n",
    "from Scripts.utils.bert_utils import load_tokenizer\n",
    "from nltk.corpus import stopwords \n",
    "from Scripts.utils.preprocess_utils import preprocess_texts\n",
    "from sklearn.model_selection import train_test_split\n",
    "from sklearn import metrics\n",
    "import seaborn as sns\n",
    "import matplotlib.pyplot as plt\n",
    "from collections import defaultdict, Counter\n",
    "import random\n",
    "import itertools\n",
    "from Scripts.utils.bert_embeddings import load_bert_embeddings\n",
    "from Scripts.utils.clustering_utils import run_clustering, get_cluster_sizes, score_cluster, get_cluster_pairs, get_pairwise_dist, cluster2doc, filter_clusters, get_top_100_clusterpairs\n",
    "from Scripts.utils.general_utils import timer\n",
    "import Scripts.utils.config as CONFIG\n",
    "from attm_utils import load_pickle\n",
    "from attm_metrics import calculate_scores, calculate_scores_single, get_accuracy_from_logits,print_res\n",
    "from attm_model_utils import evaluate_mt, evaluate_st\n",
    "from Scripts.utils.bert_utils import load_tokenizer\n",
    "import  gc\n",
    "import time\n",
    "import pickle\n",
    "import dill\n",
    "from attm_utils import batch_text_gen, batch_gen_pred, tokenize_4bert_batch\n",
    "from Scripts.utils.bert_utils import load_model, load_tokenizer, batch_text_gen\n",
    "from tqdm import tqdm\n",
    "import h5py\n",
    "import random\n",
    "from sklearn.feature_extraction.text import TfidfVectorizer\n",
    "from sklearn.linear_model import LogisticRegression\n",
    "from nltk import word_tokenize"
   ]
  },
  {
   "cell_type": "code",
   "execution_count": 2,
   "metadata": {},
   "outputs": [],
   "source": [
    "SMALL_SIZE = 12\n",
    "MEDIUM_SIZE = 14\n",
    "BIGGER_SIZE = 16\n",
    "\n",
    "plt.rc('font', size=SMALL_SIZE)          # controls default text sizes\n",
    "plt.rc('axes', titlesize=SMALL_SIZE)     # fontsize of the axes title\n",
    "plt.rc('axes', labelsize=MEDIUM_SIZE)    # fontsize of the x and y labels\n",
    "plt.rc('xtick', labelsize=SMALL_SIZE)    # fontsize of the tick labels\n",
    "plt.rc('ytick', labelsize=SMALL_SIZE)    # fontsize of the tick labels\n",
    "plt.rc('legend', fontsize=SMALL_SIZE)    # legend fontsize\n",
    "plt.rc('figure', titlesize=BIGGER_SIZE)  # fontsize of the figure title\n",
    "plt.rcParams['axes.grid'] = True"
   ]
  },
  {
   "cell_type": "markdown",
   "metadata": {},
   "source": [
    "To-DO:\n",
    "* calc top 100 terms con vs lib\n",
    "* use this new loss "
   ]
  },
  {
   "cell_type": "markdown",
   "metadata": {},
   "source": [
    "# CODE"
   ]
  },
  {
   "cell_type": "markdown",
   "metadata": {},
   "source": [
    "## Data Split"
   ]
  },
  {
   "cell_type": "code",
   "execution_count": 3,
   "metadata": {},
   "outputs": [],
   "source": [
    "def balance_classes(df):\n",
    "    \"\"\"\n",
    "    \"\"\"\n",
    "    min_partisan = df.binary_ps.value_counts().min()\n",
    "    \n",
    "    df_0 = df[df.binary_ps == 0].sample(min_partisan,random_state=42)\n",
    "    df_1 = df[df.binary_ps == 1].sample(min_partisan,random_state=42)\n",
    "    \n",
    "    df = pd.concat((df_0,df_1)).sample(frac=1,random_state=42)\n",
    "    \n",
    "    return df\n",
    "\n",
    "def get_label_dist(labels):\n",
    "    \"\"\"\n",
    "    \"\"\"\n",
    "    print(\"1 : %s\" %str(sum(labels)))\n",
    "    print(\"0 : %s\" %str(len(labels) - sum(labels)))\n",
    "\n",
    "    \n",
    "def split_data_mixed(c1s,c2,cluster_2_doc_map,df,c2_train_perc=0.10):\n",
    "    \"\"\"\n",
    "    Train - 90 % from c1 mix + 10% from c2\n",
    "    Test - 50% from c1 mix and 50% from c2\n",
    "    \"\"\"\n",
    "    c1_sizes = [len(cluster_2_doc_map[c]) for c in c1s]\n",
    "    c2_size = len(cluster_2_doc_map[c2])\n",
    "    \n",
    "#     min_c_size = min(c1_sizes+[c2_size])\n",
    "    \n",
    "    data_2_split_size = sum(sorted(c1_sizes+[c2_size])[:len(c1s+[c2])-1])\n",
    "    \n",
    "#     min_c_size = int(sum(c1_sizes+[c2_size]) * 0.8)\n",
    "    \n",
    "    \n",
    "    train_size = 0.65 * data_2_split_size\n",
    "    test_size = 0.2 * data_2_split_size\n",
    "    val_size = 0.15 * data_2_split_size\n",
    "    \n",
    "    print(\"Selected data sizes : \")\n",
    "    print(\"Train Size : %s\" %str(train_size))\n",
    "    print(\"Test Size : %s\" %str(test_size))\n",
    "    print(\"Val Size : %s\" %str(val_size))\n",
    "    \n",
    "    c1_mix_train_size = 0.9 * train_size\n",
    "    c2_train_size = c2_train_perc * train_size\n",
    "    \n",
    "    print(\"Percentage of train size for c in c1mix : %s\"%str(c1_mix_train_size/len(c1s)))\n",
    "    \n",
    "    \n",
    "    c1_mix_val_size = 0.9 * val_size\n",
    "    c2_val_size = 0.1 * val_size\n",
    "    \n",
    "    print(\"Percentage of Val size for c in c1mix : %s\"%str(c1_mix_val_size/len(c1s)))\n",
    "    \n",
    "    c1_mix_test_size = 0.5 * test_size\n",
    "    c2_test_size = 0.5 * test_size\n",
    "    \n",
    "    print(\"Percentage of test size for c in c1mix : %s\"%str(c1_mix_test_size/len(c1s)))\n",
    "    \n",
    "    cmix_train = []\n",
    "    cmix_test = []\n",
    "    cmix_val = []\n",
    "    \n",
    "    strata_columns = \"binary_ps\"\n",
    "    \n",
    "    # Sample c1mix for train,val,test\n",
    "    for c in c1s:\n",
    "        c_df = df.iloc[cluster_2_doc_map[c]]\n",
    "        c_df[\"which_cluster\"] = [1]*c_df.shape[0]\n",
    "        c_df[\"context_pos_words_size\"] = c_df[\"context_pos_words\"].apply(lambda x: len(x))\n",
    "        c_df = c_df[c_df[\"context_pos_words_size\"] > 0]\n",
    "        c_df = balance_classes(c_df)\n",
    "        \n",
    "        c_train, c_test = train_test_split(c_df,test_size=int(c1_mix_test_size/len(c1s)), stratify=c_df[strata_columns], random_state=CONFIG.RANDOM_SEED)\n",
    "        c_train, c_val = train_test_split(c_train,test_size=int(c1_mix_val_size/len(c1s)), stratify=c_train[strata_columns], random_state=CONFIG.RANDOM_SEED)\n",
    "        \n",
    "        if c_train.shape[0] > int(c1_mix_train_size/len(c1s)):\n",
    "            c_train,_ = train_test_split(c_train,train_size=int(c1_mix_train_size/len(c1s)), stratify=c_train[strata_columns], random_state=CONFIG.RANDOM_SEED)\n",
    "        \n",
    "        \n",
    "        cmix_train.append(c_train)\n",
    "        cmix_test.append(c_test)\n",
    "        cmix_val.append(c_val)\n",
    "        \n",
    "     # Merge the cluster dfs\n",
    "    \n",
    "    cmix_train = pd.concat(cmix_train,axis=0)\n",
    "    cmix_test = pd.concat(cmix_test,axis=0)\n",
    "    cmix_val = pd.concat(cmix_val,axis=0)\n",
    "    \n",
    "    # Subsample to balance the sizes\n",
    "    \n",
    "    if cmix_train.shape[0] > c1_mix_train_size:\n",
    "        cmix_train,_ = train_test_split(cmix_train,train_size=int(c1_mix_train_size), stratify=cmix_train[strata_columns], random_state=CONFIG.RANDOM_SEED)\n",
    "    \n",
    "    if cmix_test.shape[0] > c1_mix_test_size:\n",
    "        cmix_test,_ = train_test_split(cmix_test,train_size=int(c1_mix_test_size), stratify=cmix_test[strata_columns], random_state=CONFIG.RANDOM_SEED)\n",
    "    \n",
    "    if cmix_val.shape[0] > c1_mix_val_size:\n",
    "        cmix_val,_ = train_test_split(cmix_val,train_size=int(c1_mix_val_size), stratify=cmix_val[strata_columns], random_state=CONFIG.RANDOM_SEED)\n",
    "        \n",
    "        \n",
    "    \n",
    "    # Sample from c2\n",
    "    c2_df = df.iloc[cluster_2_doc_map[c2]]\n",
    "    c2_df[\"which_cluster\"] = [2]*c2_df.shape[0]\n",
    "    c2_df[\"binary_ps\"] = c2_df[\"binary_ps\"].apply(lambda x: np.abs(x+(-1)))\n",
    "    c2_df[\"context_pos_words_size\"] = c2_df[\"context_pos_words\"].apply(lambda x: len(x))\n",
    "    c2_df = c2_df[c2_df[\"context_pos_words_size\"] > 0]\n",
    "    c2_df = balance_classes(c2_df)\n",
    "    \n",
    "    c2_train,c2_test = train_test_split(c2_df,test_size=int(c2_test_size), stratify=c2_df[strata_columns], random_state=CONFIG.RANDOM_SEED)\n",
    "    c2_train,c2_val = train_test_split(c2_train,test_size=int(c2_val_size), stratify=c2_train[strata_columns], random_state=CONFIG.RANDOM_SEED)\n",
    "    \n",
    "    # Subsample to balance the sizes\n",
    "    \n",
    "    if c2_train.shape[0] > c2_train_size:\n",
    "        c2_train,_ = train_test_split(c2_train,train_size=int(c2_train_size), stratify=c2_train[strata_columns], random_state=CONFIG.RANDOM_SEED)\n",
    "    \n",
    "    if c2_test.shape[0] > c2_test_size:\n",
    "        c2_test,_ = train_test_split(c2_test,train_size=int(c2_test_size), stratify=c2_test[strata_columns], random_state=CONFIG.RANDOM_SEED)\n",
    "    \n",
    "    if c2_val.shape[0] > c2_val_size:\n",
    "        c2_val,_ = train_test_split(c2_val,train_size=int(c2_val_size), stratify=c2_val[strata_columns], random_state=CONFIG.RANDOM_SEED)\n",
    "    \n",
    "    \n",
    "    # Combine c1mix with c2\n",
    "    train = pd.concat([cmix_train,c2_train],axis=0).sample(frac=1,random_state=42)\n",
    "    test = pd.concat([cmix_test,c2_test],axis=0).sample(frac=1,random_state=42)\n",
    "    val = pd.concat([cmix_val,c2_val],axis=0).sample(frac=1,random_state=42)\n",
    "    \n",
    "    print(\"\\nSampled Data Sizes: \")\n",
    "    print(\"Train Size : %s\" %str(train.shape))\n",
    "    get_label_dist(train[\"binary_ps\"])\n",
    "    print(\"Test Size : %s\" %str(test.shape))\n",
    "    get_label_dist(test[\"binary_ps\"])\n",
    "    print(\"Val Size : %s\" %str(val.shape))\n",
    "    get_label_dist(val[\"binary_ps\"])\n",
    "    \n",
    "    return train,test,val\n",
    "    \n"
   ]
  },
  {
   "cell_type": "markdown",
   "metadata": {},
   "source": [
    "## Torch Datasets"
   ]
  },
  {
   "cell_type": "code",
   "execution_count": 98,
   "metadata": {},
   "outputs": [],
   "source": [
    "class CPDatasetST(torch.utils.data.Dataset):\n",
    "    \"\"\"\n",
    "    Should return bert embedding, label, which cluster, actual text\n",
    "    Simple case no context word\n",
    "    \"\"\"\n",
    "    def __init__(self, df,hdf_file_path=\"/media/karthikshivaram/SABER_4TB/attm_bert_embeddings/token_bert_12_embeds_attm.hdf5\",glove_vocab_path=\"\",glove=False,max_length = 350):\n",
    "        self.df = df\n",
    "        self.glove = glove\n",
    "        if not self.glove :\n",
    "            self.hdf_path = hdf_file_path\n",
    "            self.h5file = h5py.File(self.hdf_path, \"r\")\n",
    "            self.d_set = self.h5file.get(\"bert_embeds\")\n",
    "        \n",
    "        if self.glove:\n",
    "            self.glove_path = glove_vocab_path\n",
    "            self.glove_vocab = load_pickle(self.glove_path)\n",
    "            self.glove_w2idx = {k: v for v, k in enumerate(self.glove_vocab)}\n",
    "            self.max_length = max_length\n",
    "\n",
    "    def __len__(self):\n",
    "        return len(self.df)\n",
    "\n",
    "    def __getitem__(self, index):\n",
    "        'Generates one sample of data'\n",
    "        t1 = self.df[\"all_text\"].iloc[index]\n",
    "        y1 = self.df[\"binary_ps\"].iloc[index]\n",
    "        wc = self.df[\"which_cluster\"].iloc[index]\n",
    "        \n",
    "        \n",
    "        y1 = torch.Tensor([y1])\n",
    "        wc = torch.Tensor([wc])\n",
    "        \n",
    "        x1 = None\n",
    "        \n",
    "        if not self.glove:\n",
    "            x1 = self.d_set[self.df[\"doc_indices\"].iloc[index],:,:]\n",
    "            x1 = torch.Tensor(x1)\n",
    "            \n",
    "        if self.glove:\n",
    "            x1_indices = [self.glove_w2idx[token] for token in word_tokenize(t1)]\n",
    "            \n",
    "            if len(x1_indices) > self.max_length:\n",
    "                x1_indices = x1_indices[:self.max_length]\n",
    "            \n",
    "            if len(x1_indices) < self.max_length:\n",
    "                to_pad = self.max_length - len(x1_indices)\n",
    "                x1_indices = x1_indices + [self.glove_w2idx[\"PAD\"]]* to_pad\n",
    "                \n",
    "            x1 = torch.LongTensor(x1_indices)\n",
    "        \n",
    "\n",
    "        return x1, y1, t1, wc\n",
    "\n",
    "# For the multitask, each _getitem_ will not return a single item for context words but the list of words, where multiple updates for each sample should occur in train\n",
    "\n",
    "def get_bert_embeddings(df,model,tokenizer):\n",
    "    \"\"\"\n",
    "    should return a list of dictionaries where dictionary has context word embedding and label\n",
    "    \"\"\"\n",
    "    \n",
    "    texts_pos = df[\"context_pos_words\"].tolist()\n",
    "    texts_neg = df[\"context_neg_words\"].tolist()\n",
    "    single_pos = [pos[0] for pos in texts_pos]\n",
    "    single_neg = [neg[0] for neg in texts_neg]\n",
    "    \n",
    "    embeds_list = []\n",
    "    \n",
    "    with torch.no_grad():\n",
    "        for i in tqdm(range(len(texts_pos)),total=len(texts_pos)):\n",
    "            \n",
    "            embed_dict = {}\n",
    "\n",
    "            encoded_pos = tokenizer.encode_plus(texts_pos[i], add_special_tokens=False, max_length = 1, padding='max_length', return_attention_mask = False,truncation=True, return_tensors = 'pt')\n",
    "            encoded_neg = tokenizer.encode_plus(texts_neg[i], add_special_tokens=False, max_length = 1, padding='max_length', return_attention_mask = False,truncation=True, return_tensors = 'pt')\n",
    "\n",
    "            token_pos = encoded_pos[\"input_ids\"]\n",
    "            token_neg = encoded_neg[\"input_ids\"]\n",
    "\n",
    "            token_tensors = torch.cat([token_pos,token_neg],dim=0)\n",
    "            token_tensors = token_tensors.to(torch.device('cuda:1'))\n",
    "            batch_out = model(token_tensors)\n",
    "            batch_hidden_states = batch_out[2]\n",
    "            batch_12_layer_tensor = batch_hidden_states[-1]\n",
    "\n",
    "            pos_embed = batch_12_layer_tensor[0,:,:].cpu()\n",
    "            neg_embed = batch_12_layer_tensor[1,:,:].cpu()\n",
    "            \n",
    "            embed_dict[\"pos\"] = pos_embed\n",
    "            embed_dict[\"neg\"] = neg_embed\n",
    "            \n",
    "            embeds_list.append(embed_dict)\n",
    "    \n",
    "    return embeds_list\n",
    "        \n",
    "\n",
    "class CPDatasetMT(torch.utils.data.Dataset):\n",
    "    \"\"\"\n",
    "    Should return bert embedding, label, which cluster, actual text\n",
    "    Simple case no context word\n",
    "    \"\"\"\n",
    "    def __init__(self, df,embeds_list,hdf_file_path=\"/media/karthikshivaram/SABER_4TB/attm_bert_embeddings/token_bert_12_embeds_attm.hdf5\",context_word_sample_size=2,glove_vocab_path=\"\",glove=False,max_length = 350):\n",
    "        self.df = df\n",
    "        self.glove = glove\n",
    "        \n",
    "        if not self.glove :\n",
    "            self.hdf_path = hdf_file_path\n",
    "            self.h5file = h5py.File(self.hdf_path, \"r\")\n",
    "            self.d_set = self.h5file.get(\"bert_embeds\")\n",
    "            self.embeds_list = embeds_list\n",
    "        \n",
    "        if self.glove:\n",
    "            self.glove_path = glove_vocab_path\n",
    "            self.glove_vocab = load_pickle(self.glove_path)\n",
    "            self.glove_w2idx = {k: v for v, k in enumerate(self.glove_vocab)}\n",
    "            self.max_length = max_length\n",
    "\n",
    "\n",
    "    def __len__(self):\n",
    "        return len(self.df)\n",
    "\n",
    "    def __getitem__(self, index):\n",
    "        'Generates one sample of data'\n",
    "        t1 = self.df[\"all_text\"].iloc[index]\n",
    "        y1 = self.df[\"binary_ps\"].iloc[index]\n",
    "        wc = self.df[\"which_cluster\"].iloc[index]\n",
    "        \n",
    "        \n",
    "        y1 = torch.Tensor([y1])\n",
    "        wc = torch.Tensor([wc])\n",
    "        \n",
    "        x1 = None\n",
    "        x2 = None\n",
    "        \n",
    "        if not self.glove:\n",
    "            x1 = self.d_set[self.df[\"doc_indices\"].iloc[index],:,:]\n",
    "            # create a dictionary of tensors here, with labels\n",
    "            #{pos_embeds, pos_labels, neg_embeds, neg_labels}\n",
    "            x2 = torch.cat([self.embeds_list[index][\"pos\"],self.embeds_list[index][\"neg\"]],dim=0)\n",
    "            x1 = torch.Tensor(x1)\n",
    "        \n",
    "        if self.glove:\n",
    "            context_pos_words = self.df[\"context_pos_words\"].iloc[index]\n",
    "            context_neg_words = self.df[\"context_neg_words\"].iloc[index]\n",
    "            \n",
    "            pos_glove_idx = torch.Tensor([self.glove_w2idx[context_pos_words[0]]])\n",
    "            neg_glove_idx = torch.Tensor([self.glove_w2idx[context_neg_words[0]]])\n",
    "            \n",
    "            x2 = torch.cat([pos_glove_idx,neg_glove_idx],dim=0)\n",
    "            x2 = x2.type(torch.LongTensor)\n",
    "            \n",
    "            x1_indices = [self.glove_w2idx[token] for token in word_tokenize(t1)]\n",
    "            \n",
    "            if len(x1_indices) > self.max_length:\n",
    "                x1_indices = x1_indices[:self.max_length]\n",
    "            \n",
    "            if len(x1_indices) < self.max_length:\n",
    "                to_pad = self.max_length - len(x1_indices)\n",
    "                x1_indices = x1_indices + [self.glove_w2idx[\"PAD\"]]* to_pad\n",
    "                \n",
    "            x1 = torch.LongTensor(x1_indices)\n",
    "            \n",
    "        return x1, x2, y1, t1, wc"
   ]
  },
  {
   "cell_type": "markdown",
   "metadata": {},
   "source": [
    "## Torch Models"
   ]
  },
  {
   "cell_type": "code",
   "execution_count": 306,
   "metadata": {},
   "outputs": [],
   "source": [
    "def create_emb_layer(weights_matrix, non_trainable=False):\n",
    "    \"\"\"\n",
    "    \"\"\"\n",
    "    num_embeddings, embedding_dim = weights_matrix.size()\n",
    "    emb_layer = nn.Embedding(num_embeddings, embedding_dim)\n",
    "    emb_layer.load_state_dict({'weight': weights_matrix})\n",
    "    if non_trainable:\n",
    "        emb_layer.weight.requires_grad = False\n",
    "\n",
    "    return emb_layer, num_embeddings, embedding_dim\n",
    "\n",
    "\n",
    "class AttentionST(nn.Module):\n",
    "    \n",
    "    def __init__(self,embedding_size=768,verbose=True,which_forward=2,with_attention=True,dropout=0.3,glove=False,weights_matrix=None):\n",
    "        super(AttentionST,self).__init__()\n",
    "        \n",
    "        self.with_attention = with_attention\n",
    "        self.embedding_size = embedding_size\n",
    "        \n",
    "        self.glove = glove\n",
    "        \n",
    "        if self.glove:\n",
    "        \n",
    "            self.embedding, num_embeddings, embedding_dim = create_emb_layer(weights_matrix, False)\n",
    "        \n",
    "        if self.glove:\n",
    "            self.embedding_size=300\n",
    "        \n",
    "        self.attention = nn.Linear(in_features=self.embedding_size,\n",
    "                                       out_features=1,\n",
    "                                       bias=False)\n",
    "        \n",
    "        \n",
    "        self.dropout = nn.Dropout(dropout)\n",
    "        \n",
    "        self.recom_pred = nn.Linear(in_features=self.embedding_size,\n",
    "                                    out_features=1,\n",
    "                                    bias=True)\n",
    "\n",
    "        \n",
    "        # Softmax Activation\n",
    "        self.softmax = nn.Softmax(dim=-1)\n",
    "        \n",
    "        # Sigmoid Activation\n",
    "        self.sigmoid = nn.Sigmoid()\n",
    "        \n",
    "    \n",
    "    def forward(self,embeddings):\n",
    "        \"\"\"\n",
    "        \"\"\"\n",
    "        \n",
    "        batch_size = embeddings.size(0)\n",
    "        \n",
    "        if self.with_attention:\n",
    "        # iterate over articles in a given batch\n",
    "            attention_vector_batch = []\n",
    "\n",
    "            for sent in range(batch_size):\n",
    "                \n",
    "                sent_embed_matrix = None\n",
    "                \n",
    "                if not self.glove:\n",
    "\n",
    "                    sent_embed_matrix = embeddings[sent,:,:] # 500 x 768\n",
    "                \n",
    "                if self.glove:\n",
    "                    sent_embed_matrix = self.embedding(embeddings[sent,:])\n",
    "\n",
    "                word_weights = self.dropout(self.attention(sent_embed_matrix)).squeeze()\n",
    "\n",
    "                self.normalized_word_weights = self.softmax(word_weights) # input is 500 x 1, output is 500 x 1\n",
    "\n",
    "                attention_vector = sent_embed_matrix.T .mul(self.normalized_word_weights).sum(dim=1)\n",
    "\n",
    "                attention_vector_batch.append(attention_vector.unsqueeze(-1).T) \n",
    "                \n",
    "\n",
    "            attention_vector_batch = torch.cat(attention_vector_batch,dim=0) # we get (batch_size,768)\n",
    "            \n",
    "            y_preds = self.sigmoid(self.recom_pred(attention_vector_batch)).squeeze()\n",
    "        \n",
    "            return y_preds\n",
    "        \n",
    "        else:\n",
    "            \n",
    "            y_pred = None\n",
    "            \n",
    "            if self.glove:\n",
    "                glove_embeds = torch.stack([torch.mean(self.embedding(embedding),dim=0) for embedding in embeddings])\n",
    "                y_pred = self.sigmoid(self.recom_pred(glove_embeds)).squeeze()\n",
    "            \n",
    "            if not self.glove:\n",
    "                y_pred = self.sigmoid(self.recom_pred(embeddings[:,0,:])).squeeze()\n",
    "            \n",
    "            return y_pred\n",
    "\n",
    "\n",
    "        \n",
    "\n",
    "class AttentionMT(nn.Module):\n",
    "    \n",
    "    def __init__(self,embedding_size=768,dropout=0.1,glove=False,weights_matrix=None,bad_embeds=None,use_loss2=False):\n",
    "        super(AttentionMT,self).__init__()\n",
    "        \n",
    "        self.glove = glove\n",
    "        self.embedding_size=embedding_size\n",
    "        \n",
    "        if self.glove:\n",
    "            self.embedding, num_embeddings, embedding_dim = create_emb_layer(weights_matrix, False)\n",
    "            \n",
    "            self.embedding_size = 300\n",
    "        \n",
    "        self.attention = nn.Linear(in_features=self.embedding_size,\n",
    "                                   out_features=1,\n",
    "                                   bias=False)\n",
    "        \n",
    "        self.interm_word = nn.Linear(in_features=self.embedding_size,\n",
    "                                    out_features=self.embedding_size,\n",
    "                                    bias=True)\n",
    "        \n",
    "        self.dropout = nn.Dropout(dropout)\n",
    "        \n",
    "        self.word_weights = nn.Linear(in_features=self.embedding_size,\n",
    "                                   out_features=1,\n",
    "                                   bias=True)\n",
    "        \n",
    "        # Recommendation Network\n",
    "        # ------------------------\n",
    "        \n",
    "        self.recom_pred = nn.Linear(in_features=self.embedding_size,\n",
    "                                    out_features=1,\n",
    "                                    bias=True)\n",
    "        \n",
    "        # Softmax Activation\n",
    "        self.softmax = nn.Softmax(dim=-1)\n",
    "        \n",
    "        # Sigmoid Activation\n",
    "        self.sigmoid = nn.Sigmoid()\n",
    "        \n",
    "        self.att_con_vec = None\n",
    "        \n",
    "        self.bad_embeds = bad_embeds\n",
    "        \n",
    "        self.use_loss2 = use_loss2\n",
    "    \n",
    "    def forward(self,text_embeds,context_embed):\n",
    "        \"\"\"\n",
    "        \"\"\"        \n",
    "        attention_vector_batch = []\n",
    "        \n",
    "        batch_size = text_embeds.size(0)\n",
    "        \n",
    "        for sent in range(batch_size):\n",
    "            \n",
    "            sent_embed_matrix = None\n",
    "\n",
    "            if not self.glove:\n",
    "\n",
    "                sent_embed_matrix = text_embeds[sent,:,:] # 500 x 768\n",
    "\n",
    "            if self.glove:\n",
    "                sent_embed_matrix = self.embedding(text_embeds[sent,:])\n",
    "\n",
    "#             sent_embed_matrix = text_embeds[sent,:,:] # 500 x 768\n",
    "\n",
    "            word_weights = self.dropout(self.attention(sent_embed_matrix)).squeeze()\n",
    "\n",
    "            self.normalized_word_weights = self.softmax(word_weights) # input is 500 x 1, output is 500 x 1\n",
    "\n",
    "            attention_vector = sent_embed_matrix.T.mul(self.normalized_word_weights).sum(dim=1)\n",
    "\n",
    "            attention_vector_batch.append(attention_vector.unsqueeze(-1).T) \n",
    "                \n",
    "                \n",
    "        self.att_con_vec  = torch.cat(attention_vector_batch,dim=0) # we get (batch_size,768)\n",
    "\n",
    "        y_preds = self.sigmoid(self.recom_pred(self.att_con_vec))\n",
    "        \n",
    "        w_loss = None\n",
    "        \n",
    "        if self.use_loss2:\n",
    "            \n",
    "            w_loss = torch.vstack([self.sigmoid(torch.mul(self.att_con_vec, bde).sum(axis=1).mean()) for bde in self.bad_embeds]).mean()\n",
    "        \n",
    "        \n",
    "        word_preds = None\n",
    "        \n",
    "        if context_embed is not None:\n",
    "        # Word Prediction Part\n",
    "        \n",
    "            # convert 3d to 2d matrix\n",
    "            if self.glove:\n",
    "                context_embed = self.embedding(context_embed)\n",
    "            \n",
    "            if not self.glove:\n",
    "                original_size = context_embed.size()\n",
    "                context_embed = context_embed.view(original_size[0],original_size[-1])\n",
    "\n",
    "            dot_prod_sim = torch.mul(self.att_con_vec, context_embed) # dot product between (N,768) and (N,768)\n",
    "\n",
    "            word_preds = self.sigmoid(self.word_weights(dot_prod_sim))\n",
    "\n",
    "            word_preds = word_preds.view(word_preds.size()[0],1)\n",
    "        \n",
    "        return y_preds,word_preds,self.att_con_vec,w_loss"
   ]
  },
  {
   "cell_type": "markdown",
   "metadata": {},
   "source": [
    "## Torch Model Trainers"
   ]
  },
  {
   "cell_type": "code",
   "execution_count": 249,
   "metadata": {},
   "outputs": [],
   "source": [
    "def count_words(X):\n",
    "    XX = X.copy()\n",
    "    XX.data /= XX.data\n",
    "    return XX.sum(axis=0).A1 / X.shape[0]\n",
    "\n",
    "def get_bad_terms(X, labels, vocab):\n",
    "    \"\"\"\n",
    "    bad terms correlate with class label across all documents\n",
    "    and are relatively frequent.\n",
    "    We fit a simple logistic regression on all documents, \n",
    "    find top 100 terms per class, then select 100 most frequent from those.\n",
    "    \"\"\"\n",
    "    clf = LogisticRegression(C=1, random_state=42, max_iter=1000)\n",
    "    clf.fit(X, labels)\n",
    "    c = clf.coef_[0]\n",
    "    bad_terms = []\n",
    "    feats = np.array(vocab.get_feature_names())\n",
    "    for i in np.argsort(c)[::-1][:200]:\n",
    "        bad_terms.append(feats[i])\n",
    "    for i in np.argsort(c)[:200]:\n",
    "        bad_terms.append(feats[i])\n",
    "    bad_terms = set(bad_terms)    \n",
    "    word_count = count_words(X)\n",
    "    f = sorted([(word_count[vocab.vocabulary_[w]], w)  for w in bad_terms])[::-1][:200]\n",
    "    return set(i[1] for i in f)\n",
    "\n",
    "def match_bad_terms(tokens_train, tokens_test, bad_terms):    \n",
    "    all_toks = set()\n",
    "    for t in tokens_train:\n",
    "        all_toks.update(t)\n",
    "    for t in tokens_test:\n",
    "        all_toks.update(t)\n",
    "    return sorted(list(bad_terms & all_toks))\n",
    "\n",
    "def get_bad_term_embeddings(bad_terms):\n",
    "    \"\"\"\n",
    "    \"\"\"\n",
    "    tokenizer = load_tokenizer()\n",
    "    model= load_model()\n",
    "    model.to(torch.device('cuda:0'))\n",
    "    bad_term_embeds = []\n",
    "    bad_term_tokens = []\n",
    "    for b in bad_terms:\n",
    "        bert_tok = tokenizer.encode_plus(b, add_special_tokens=False, max_length = 1, padding='max_length', return_attention_mask = False,truncation=True, return_tensors = 'pt')\n",
    "        \n",
    "        token_id = bert_tok[\"input_ids\"]\n",
    "        token = tokenizer.convert_ids_to_tokens(token_id)\n",
    "        bad_term_tokens.append(token)\n",
    "        token_tensors = token_id.to(torch.device('cuda:0'))\n",
    "        batch_out = model(token_tensors)\n",
    "        batch_hidden_states = batch_out[2]\n",
    "        batch_12_layer_tensor = batch_hidden_states[-1]\n",
    "        token_embed = batch_12_layer_tensor.cpu()\n",
    "        bad_term_embeds.append(token_embed)\n",
    "    \n",
    "    return bad_term_embeds,bad_term_tokens"
   ]
  },
  {
   "cell_type": "code",
   "execution_count": 358,
   "metadata": {},
   "outputs": [],
   "source": [
    "def seed_all(seed):\n",
    "    if not seed:\n",
    "        seed = 10\n",
    "\n",
    "    print(\"[ Using Seed : \", seed, \" ]\")\n",
    "\n",
    "    torch.manual_seed(seed)\n",
    "    torch.cuda.manual_seed_all(seed)\n",
    "    torch.cuda.manual_seed(seed)\n",
    "    np.random.seed(seed)\n",
    "    random.seed(seed)\n",
    "    torch.backends.cudnn.deterministic = True\n",
    "    torch.backends.cudnn.benchmark = False\n",
    "\n",
    "def seed_worker(worker_id):\n",
    "    worker_seed = torch.initial_seed() % 2**32\n",
    "    np.random.seed(worker_seed)\n",
    "    random.seed(worker_seed)\n",
    "\n",
    "# loss2 = self.sigmoid(torch.mul(self.e, bad_embeddings).sum(axis=1).mean())\n",
    "\n",
    "@timer\n",
    "def run_ssda_ST(train,test,val,lr,epochs=2,batch_size=8,dropout=0.1,cuda_device=torch.device('cuda:1'),num_workers=1,with_attention=True,cp=None,avg_type=\"binary\",glove=False,extreme=False):\n",
    "    \"\"\"\n",
    "    \"\"\"\n",
    "    seed_all(42)\n",
    "    \n",
    "    weights_matrix = None\n",
    "    \n",
    "    if glove:\n",
    "        if not extreme:\n",
    "            weights_matrix = load_pickle(\"Data_4_AttM/glove_mat.pkl\")\n",
    "            weights_matrix = torch.from_numpy(weights_matrix)\n",
    "        \n",
    "        if extreme:\n",
    "            weights_matrix = load_pickle(\"Data_4_AttM/glove_mat_extreme.pkl\")\n",
    "            weights_matrix = torch.from_numpy(weights_matrix)\n",
    "    \n",
    "    model = AttentionST(embedding_size=768,with_attention=with_attention,dropout = dropout,glove=glove,weights_matrix=weights_matrix)\n",
    "    model.to(cuda_device)\n",
    "    loss_func = nn.BCELoss()\n",
    "    opt = torch.optim.Adam(model.parameters(),lr=lr)\n",
    "    \n",
    "    epoch_losses = {}\n",
    "    total_losses = []\n",
    "    total_losses_val = []\n",
    "    word_losses = []\n",
    "    rs_losses = []\n",
    "    \n",
    "    glove_vocab_path = \"\"\n",
    "    \n",
    "    if glove:\n",
    "        if extreme:\n",
    "            glove_vocab_path = \"Data_4_AttM/vocab_target_glove_extreme.pkl\"\n",
    "        \n",
    "        if not extreme:\n",
    "            glove_vocab_path = \"Data_4_AttM/vocab_target_glove.pkl\"\n",
    "            \n",
    "    bert_hdf_file_path = None\n",
    "    \n",
    "    if extreme:\n",
    "        bert_hdf_file_path = \"/media/karthikshivaram/SABER_4TB/attm_bert_embeddings/token_bert_12_embeds_attm_extreme.hdf5\"\n",
    "    \n",
    "    if not extreme:\n",
    "        bert_hdf_file_path = \"/media/karthikshivaram/SABER_4TB/attm_bert_embeddings/token_bert_12_embeds_attm.hdf5\"\n",
    "    \n",
    "    train_dataset = CPDatasetST(train,hdf_file_path=bert_hdf_file_path,glove_vocab_path=glove_vocab_path,glove=glove)\n",
    "    test_dataset = CPDatasetST(test,hdf_file_path=bert_hdf_file_path,glove_vocab_path=glove_vocab_path,glove=glove)\n",
    "    val_dataset = CPDatasetST(val,hdf_file_path=bert_hdf_file_path,glove_vocab_path=glove_vocab_path,glove=glove)\n",
    "    \n",
    "    train_dataloader = DataLoader(train_dataset,batch_size=batch_size,num_workers=num_workers,shuffle=True,worker_init_fn=seed_worker)\n",
    "    test_dataloader = DataLoader(test_dataset,batch_size=100,num_workers=num_workers,shuffle=True,worker_init_fn=seed_worker)\n",
    "    val_dataloader = DataLoader(val_dataset,batch_size=100,num_workers=num_workers,shuffle=True,worker_init_fn=seed_worker)\n",
    "    \n",
    "    for epoch in tqdm(range(epochs),total=epochs):\n",
    "        batch_losses =  []\n",
    "        # Training\n",
    "        for batch_num, (x1,y1,t1,wc) in enumerate(train_dataloader):\n",
    "            \n",
    "            model.train()\n",
    "\n",
    "            x1,y1 = x1.to(cuda_device),y1.to(cuda_device)\n",
    "            \n",
    "            opt.zero_grad() # reset all the gradient information\n",
    "    \n",
    "            y_pred = model(x1)\n",
    "            \n",
    "            if batch_size == 1:\n",
    "                y1 = y1.view(1)\n",
    "            \n",
    "            if batch_size > 1:\n",
    "                y1 = y1.squeeze()\n",
    "            \n",
    "            total_loss = loss_func(y_pred,y1.squeeze()) \n",
    "            \n",
    "            total_loss.backward()\n",
    "            \n",
    "            opt.step()\n",
    "            \n",
    "            batch_losses.append(total_loss.item())\n",
    "        \n",
    "        # Validation\n",
    "        batch_losses_val =  []\n",
    "        for bn_v, (xv1,yv1,tv1,wcv) in enumerate(val_dataloader):\n",
    "            \n",
    "            model.eval()\n",
    "            with torch.no_grad():\n",
    "                xv1,yv1 = xv1.to(cuda_device),yv1.to(cuda_device)\n",
    "\n",
    "                y_pred = model(xv1)\n",
    "                \n",
    "                if batch_size == 1:\n",
    "                    yv1 = yv1.view(1)\n",
    "            \n",
    "                if batch_size > 1:\n",
    "                    yv1 = yv1.squeeze()\n",
    "\n",
    "                total_loss_val = loss_func(y_pred,yv1) \n",
    "                batch_losses_val.append(total_loss_val.item())\n",
    "        \n",
    "        avg_batch_loss = np.mean(batch_losses)\n",
    "        avg_batch_loss_val = np.mean(batch_losses_val)\n",
    "        total_losses.append(avg_batch_loss)\n",
    "        total_losses_val.append(avg_batch_loss_val)\n",
    "\n",
    "        \n",
    "    epoch_losses[\"total_loss\"] = total_losses\n",
    "    epoch_losses[\"total_loss_val\"] = total_losses_val\n",
    "        \n",
    "    scores_train = evaluate_st(model,train_dataloader,device=cuda_device,avg_type=avg_type)\n",
    "    scores_val = evaluate_st(model,val_dataloader,device=cuda_device,avg_type=avg_type)\n",
    "    scores_test = evaluate_st(model,test_dataloader,device=cuda_device,avg_type=avg_type)\n",
    "    \n",
    "    x1 = None\n",
    "    y1 = None\n",
    "    total_loss = None\n",
    "    opt = None\n",
    "    \n",
    "\n",
    "    del x1\n",
    "    del y1\n",
    "\n",
    "    gc.collect()\n",
    "    torch.cuda.empty_cache()\n",
    "    \n",
    "    return model, epoch_losses, scores_train, scores_test, scores_val\n",
    "\n",
    "\n",
    "@timer\n",
    "def run_ssda_MT(train,test,val,cw_embed_train,cw_embed_test,cw_embed_val,lr,word_loss_w,epochs=2,batch_size=8,dropout=0.1,cuda_device=torch.device('cuda:1'),num_workers=1,l2=0.05,avg_type=\"binary\",glove=False,extreme=False,loss2=False,bad_term_embeds=None):\n",
    "    \"\"\"\n",
    "    \"\"\"\n",
    "    seed_all(42)\n",
    "    \n",
    "    weights_matrix = None\n",
    "    \n",
    "    if glove:\n",
    "        if not extreme:\n",
    "            weights_matrix = load_pickle(\"Data_4_AttM/glove_mat.pkl\")\n",
    "            weights_matrix = torch.from_numpy(weights_matrix)\n",
    "        \n",
    "        if extreme:\n",
    "            weights_matrix = load_pickle(\"Data_4_AttM/glove_mat_extreme.pkl\")\n",
    "            weights_matrix = torch.from_numpy(weights_matrix)\n",
    "    \n",
    "    if loss2 and bad_term_embeds != None:\n",
    "        bad_term_embeds = bad_term_embeds.to(cuda_device)\n",
    " \n",
    "    \n",
    "    model = AttentionMT(embedding_size=768,dropout=dropout,glove=glove,weights_matrix=weights_matrix,bad_embeds = bad_term_embeds,use_loss2=loss2)\n",
    "    model.to(cuda_device)\n",
    "    loss_func = nn.BCELoss()\n",
    "    opt = torch.optim.Adam(model.parameters(),lr=lr)\n",
    "    \n",
    "    epoch_losses = {}\n",
    "    total_losses = []\n",
    "    word_losses = []\n",
    "    rs_losses = []\n",
    "    total_losses_val = []\n",
    "    word_losses_val = []\n",
    "    rs_losses_val = []\n",
    "    \n",
    "    glove_vocab_path = \"\"\n",
    "    \n",
    "    if glove:\n",
    "        if extreme:\n",
    "            glove_vocab_path = \"Data_4_AttM/vocab_target_glove_extreme.pkl\"\n",
    "        \n",
    "        if not extreme:\n",
    "            glove_vocab_path = \"Data_4_AttM/vocab_target_glove.pkl\"\n",
    "            \n",
    "    bert_hdf_file_path = None\n",
    "    \n",
    "    if extreme:\n",
    "        bert_hdf_file_path = \"/media/karthikshivaram/SABER_4TB/attm_bert_embeddings/token_bert_12_embeds_attm_extreme.hdf5\"\n",
    "    \n",
    "    if not extreme:\n",
    "        bert_hdf_file_path = \"/media/karthikshivaram/SABER_4TB/attm_bert_embeddings/token_bert_12_embeds_attm.hdf5\"\n",
    "    \n",
    "    train_dataset = CPDatasetMT(train,cw_embed_train,hdf_file_path=bert_hdf_file_path,glove_vocab_path=glove_vocab_path,glove=glove)\n",
    "    test_dataset = CPDatasetMT(test,cw_embed_test,hdf_file_path=bert_hdf_file_path,glove_vocab_path=glove_vocab_path,glove=glove)\n",
    "    val_dataset = CPDatasetMT(val,cw_embed_val,hdf_file_path=bert_hdf_file_path,glove_vocab_path=glove_vocab_path,glove=glove)\n",
    "    \n",
    "    train_dataloader = DataLoader(train_dataset,batch_size=batch_size,num_workers=num_workers, shuffle=True,worker_init_fn=seed_worker)\n",
    "    test_dataloader = DataLoader(test_dataset,batch_size=batch_size,num_workers=num_workers,shuffle=True,worker_init_fn=seed_worker)\n",
    "    val_dataloader = DataLoader(val_dataset,batch_size=batch_size,num_workers=num_workers,shuffle=True,worker_init_fn=seed_worker)\n",
    "        \n",
    "    for epoch in tqdm(range(epochs),total=epochs):\n",
    "        \n",
    "        batch_losses_total = []\n",
    "        batch_losses_rec = []\n",
    "        batch_losses_word = []\n",
    "        \n",
    "        for batch_num, (x1, x2, y1, t1, wc) in enumerate(train_dataloader):\n",
    "            \n",
    "            text_x = x1\n",
    "            if not loss2:\n",
    "                for label_cw in range(2):\n",
    "                    # expand the context words \n",
    "                    context_word_embed = None\n",
    "                    if glove:\n",
    "                        context_word_embed = x2[:,label_cw]\n",
    "                    if not glove:\n",
    "                        context_word_embed = x2[:,label_cw,:]\n",
    "                    if label_cw == 0:\n",
    "                        word_labels = torch.Tensor([1]*x2.size()[0])\n",
    "                    if label_cw == 1:\n",
    "                        word_labels = torch.Tensor([0]*x2.size()[0])\n",
    "                    model.train()\n",
    "                    text_x,context_word_embed,y1,word_labels = text_x.to(cuda_device),context_word_embed.to(cuda_device),y1.to(cuda_device),word_labels.to(cuda_device)\n",
    "                    opt.zero_grad() # reset all the gradient information\n",
    "                    y_pred, context_pred,attcvec,_ = model(text_x, context_word_embed)\n",
    "                    rec_loss = loss_func(y_pred,y1)\n",
    "                    word_loss = loss_func(context_pred.squeeze(),word_labels)\n",
    "                    total_loss = (1 - word_loss_w)*rec_loss + (word_loss_w * word_loss) + model.word_weights.weight.norm(p=2) * l2\n",
    "                    total_loss.backward()\n",
    "                    opt.step()\n",
    "                    \n",
    "                batch_losses_rec.append(rec_loss.item())\n",
    "                batch_losses_word.append(word_loss.item())\n",
    "                batch_losses_total.append(total_loss.item())\n",
    "                \n",
    "#             if loss2:\n",
    "#                 model.train()\n",
    "#                 text_x,y1 = text_x.to(cuda_device),y1.to(cuda_device)\n",
    "#                 opt.zero_grad() \n",
    "#                 y_pred, context_pred,attcvec,w_loss = model(text_x, None)\n",
    "#                 word_loss = w_loss.item()\n",
    "# #                 print(word_loss)\n",
    "# #                 print(y1.requires_grad)\n",
    "# #                 print(y_pred.requires_grad)\n",
    "# #                 print(w_loss.requires_grad)\n",
    "#                 rec_loss = loss_func(y_pred,y1)\n",
    "# #                 print(rec_loss.requires_grad)\n",
    "#                 total_loss = (1 - word_loss_w)*rec_loss + (word_loss_w * word_loss) \n",
    "#                 total_loss.backward()\n",
    "#                 opt.step()\n",
    "#                 batch_losses_rec.append(rec_loss.item())\n",
    "#                 batch_losses_word.append(word_loss)\n",
    "#                 batch_losses_total.append(total_loss.item())\n",
    "            \n",
    "            \n",
    "        avg_batch_losses_total = np.mean(batch_losses_total)\n",
    "        avg_batch_losses_rec = np.mean(batch_losses_rec)\n",
    "        avg_batch_losses_word = np.mean(batch_losses_word)\n",
    "#         print(\"Avg Batch Total Loss Train : %s\" %str(avg_batch_losses_total))\n",
    "        \n",
    "        \n",
    "        batch_losses_total_val = []\n",
    "        batch_losses_rec_val = []\n",
    "        batch_losses_word_val = []\n",
    "\n",
    "        for bn_v, (x1v, x2v, y1v, t1v, wcv) in enumerate(val_dataloader):\n",
    "\n",
    "            model.eval()\n",
    "            with torch.no_grad():\n",
    "                \n",
    "                for label_cw in range(2):\n",
    "                    \n",
    "                    context_word_embed = None\n",
    "                    if glove:\n",
    "                        context_word_embed = x2v[:,label_cw]\n",
    "\n",
    "                    if not glove:\n",
    "                        context_word_embed = x2v[:,label_cw,:]\n",
    "                        \n",
    "                    if label_cw == 0:\n",
    "                        word_labels = torch.Tensor([1]*x1v.size()[0])\n",
    "\n",
    "                    if label_cw == 1:\n",
    "                        word_labels = torch.Tensor([0]*x1v.size()[0])\n",
    "\n",
    "#                     context_word_embeds = torch.cat(context_word_embed,dim=0)\n",
    "            \n",
    "                    x1v,context_word_embed,y1v,word_labels = x1v.to(cuda_device),context_word_embed.to(cuda_device),y1v.to(cuda_device),word_labels.to(cuda_device)\n",
    "\n",
    "                    y_pred, context_pred,attcvec,w_loss = model(x1v, context_word_embed)\n",
    "\n",
    "                    if batch_size == 1:\n",
    "                        y_pred = y_pred.view(1,1)\n",
    "                        context_pred = context_pred.view(1,1)\n",
    "\n",
    "                    rec_loss = loss_func(y_pred,y1v)\n",
    "                    word_loss = None\n",
    "                    \n",
    "                    if not loss2:\n",
    "                        if context_pred.squeeze().size() != word_labels.size():\n",
    "                            word_loss = loss_func(context_pred,word_labels.view(1,1))\n",
    "                        else:  \n",
    "                            word_loss = loss_func(context_pred.squeeze(),word_labels)\n",
    "                    \n",
    "                    if loss2:\n",
    "                         word_loss = w_loss.item()\n",
    "\n",
    "                    total_loss = (1 - word_loss_w)*rec_loss + (word_loss_w * word_loss)\n",
    "\n",
    "                    batch_losses_total_val.append(rec_loss.item())\n",
    "                    batch_losses_word_val.append(word_loss.item())\n",
    "                    batch_losses_rec_val.append(total_loss.item())\n",
    "        \n",
    "\n",
    "        avg_batch_losses_total_val =np.mean(batch_losses_total_val)\n",
    "        avg_batch_losses_rec_val = np.mean(batch_losses_rec_val)\n",
    "        avg_batch_losses_word_val =np.mean(batch_losses_word_val)\n",
    "#         print(\"Avg Batch Toal Loss Val : %s\" %str(avg_batch_losses_total_val))\n",
    "\n",
    "        total_losses.append(avg_batch_losses_total)\n",
    "        word_losses.append(avg_batch_losses_word)\n",
    "        rs_losses.append(avg_batch_losses_rec)\n",
    "        total_losses_val.append(avg_batch_losses_total_val)\n",
    "        word_losses_val.append(avg_batch_losses_word_val)\n",
    "        rs_losses_val.append(avg_batch_losses_rec_val)\n",
    "            \n",
    "    epoch_losses[\"rs_loss\"] = rs_losses\n",
    "    epoch_losses[\"word_loss\"] = word_losses\n",
    "    epoch_losses[\"total_loss\"] = total_losses\n",
    "    epoch_losses[\"rs_loss_val\"] = rs_losses_val\n",
    "    epoch_losses[\"word_loss_val\"] = word_losses_val\n",
    "    epoch_losses[\"total_loss_val\"] = total_losses_val\n",
    "\n",
    "    scores_train = evaluate_mt(model,train_dataloader,device=cuda_device,avg_type=avg_type)\n",
    "    scores_val = evaluate_mt(model,val_dataloader,device=cuda_device,avg_type=avg_type)\n",
    "    scores_test = evaluate_mt(model,test_dataloader,device=cuda_device,avg_type=avg_type)\n",
    "    \n",
    "    x1 = None\n",
    "    x2 = None\n",
    "    y1 = None\n",
    "    y2 = None\n",
    "#     rec_loss = None\n",
    "#     total_loss = None\n",
    "#     word_loss = None\n",
    "    opt = None\n",
    "    \n",
    "\n",
    "    del x1\n",
    "    del x2\n",
    "    del y1\n",
    "    del y2\n",
    "\n",
    "    gc.collect()\n",
    "    torch.cuda.empty_cache()\n",
    "    \n",
    "    return model, epoch_losses, scores_train, scores_test, scores_val"
   ]
  },
  {
   "cell_type": "markdown",
   "metadata": {},
   "source": [
    "## Loss Plotters"
   ]
  },
  {
   "cell_type": "code",
   "execution_count": 7,
   "metadata": {},
   "outputs": [],
   "source": [
    "def plot_epoch_loss(epoch_losses):\n",
    "    \"\"\"\n",
    "    \"\"\"\n",
    "    fig,ax = plt.subplots(nrows=1,ncols=1,figsize=(25,10))\n",
    "    ax.plot(range(len(epoch_losses[\"total_loss\"])),epoch_losses[\"total_loss\"],c=\"green\",label=\"Training Loss\")\n",
    "    ax.plot(range(len(epoch_losses[\"total_loss_val\"])),epoch_losses[\"total_loss_val\"],c=\"red\",label=\"Validation Loss\")\n",
    "    ax.set_xlabel(\"Epoch\")\n",
    "    ax.set_ylabel(\"Training Loss\")\n",
    "    plt.legend()\n",
    "    plt.show()\n",
    "\n",
    "def plot_epoch_loss_multi(epoch_losses):\n",
    "    \"\"\"\n",
    "    \"\"\"\n",
    "    fig,ax = plt.subplots(nrows=1,ncols=2,figsize=(25,10))\n",
    "    \n",
    "    axes = ax.ravel()\n",
    "    \n",
    "    ax[0].plot(range(len(epoch_losses[\"total_loss\"])),epoch_losses[\"total_loss\"],c=\"green\",alpha=0.4,label=\"Total Loss\")\n",
    "    ax[0].plot(range(len(epoch_losses[\"word_loss\"])),epoch_losses[\"word_loss\"],c=\"blue\",alpha=0.3,label=\"Word Loss\")\n",
    "    ax[0].plot(range(len(epoch_losses[\"rs_loss\"])),epoch_losses[\"rs_loss\"],c=\"red\",label=\"RS Loss\")\n",
    "    ax[0].set_xlabel(\"Epoch\")\n",
    "    ax[0].set_ylabel(\"Training Loss\")\n",
    "    ax[0].set_title(\"Training Loss for ATMT\")\n",
    "    \n",
    "    ax[1].plot(range(len(epoch_losses[\"total_loss_val\"])),epoch_losses[\"total_loss_val\"],c=\"green\",alpha=0.4,label=\"Total Loss\")\n",
    "    ax[1].plot(range(len(epoch_losses[\"word_loss_val\"])),epoch_losses[\"word_loss_val\"],c=\"blue\",alpha=0.3,label=\"Word Loss\")\n",
    "    ax[1].plot(range(len(epoch_losses[\"rs_loss_val\"])),epoch_losses[\"rs_loss_val\"],c=\"red\",label=\"RS Loss\")\n",
    "    ax[1].set_xlabel(\"Epoch\")\n",
    "    ax[1].set_ylabel(\"Validation Loss\")\n",
    "    ax[1].set_title(\"Validation Loss for ATMT\")\n",
    "    plt.legend()\n",
    "    plt.show()"
   ]
  },
  {
   "cell_type": "markdown",
   "metadata": {},
   "source": [
    "## Main Runners"
   ]
  },
  {
   "cell_type": "code",
   "execution_count": 271,
   "metadata": {},
   "outputs": [],
   "source": [
    "def run_ssda_cp_st(df,c1s,c2,doc_2_cluster_map,\n",
    "                   c2_train_perc=0.1,\n",
    "                   learning_rates=[0.0001,0.001,0.01,0.1],\n",
    "                   epochs=[3],\n",
    "                   batch_sizes=[8],\n",
    "                   dropouts=[0.0,0.1,0.3,0.5],\n",
    "                   with_attention=True,\n",
    "                   cuda_device=torch.device('cuda:1'), \n",
    "                   return_model=False,avg_type=\"binary\",glove=False,extreme=False):\n",
    "    \"\"\"\n",
    "    Uses a self supervised domain adaptation setting to train the model\n",
    "    \n",
    "    * train = 90% c1 data + 10% c2 data\n",
    "    * test = 50% c1 data + 50% c2 data\n",
    "    \n",
    "    * From cluster 1 choose 70% of the data for train, 30% for test\n",
    "    * From cluster 2 choose 10% of 70% from c1 for train, \n",
    "    \n",
    "    * Loss check\n",
    "    * Metrics = F1, recall, precision, accuracy, roc\n",
    "    \"\"\"\n",
    "#     train, test, val = split_data(cluster_pair=cp,cluster_2_doc_map=doc_2_cluster_map,df=df)\n",
    "    \n",
    "    train, test, val = split_data_mixed(c1s,c2,doc_2_cluster_map,df,c2_train_perc=c2_train_perc)\n",
    "    \n",
    "#     train = train[train.doc_indices <= 99402 ]\n",
    "#     test = test[test.doc_indices <= 99402 ]\n",
    "#     val = val[val.doc_indices <= 99402 ]\n",
    "    \n",
    "#     train = train.loc[train.context_pos_words_size> 0 ]\n",
    "#     test = test.loc[test.context_pos_words_size> 0 ]\n",
    "#     val = val.loc[val.context_pos_words_size > 0 ]\n",
    "    \n",
    "    metrics_train = {}\n",
    "    metrics_test = {}\n",
    "    metrics_val = {}\n",
    "    losses_train = {}\n",
    "    model_dict = {}\n",
    "    # train ssda func\n",
    "    params = [learning_rates,epochs,batch_sizes,dropouts]\n",
    "    \n",
    "    params_all_combo = list(itertools.product(*params))\n",
    "    \n",
    "    print(\"Number of param combinations : %s\" %str(len(params_all_combo)))\n",
    "    \n",
    "    for p_id,param_list in enumerate(params_all_combo):\n",
    "        \n",
    "        print(\"Param_setting : %s\" %str(p_id))\n",
    "        \n",
    "        lr = param_list[0]\n",
    "        epoch = param_list[1]\n",
    "        batch_size = param_list[2]\n",
    "        dropout=param_list[3]\n",
    "        \n",
    "        print(\"Running model for ----\\n lr : %s\\n epoch : %s\\n batch_size : %s\\n dropout : %s\\n\"%(str(lr),str(epoch),str(batch_size),str(dropout)))\n",
    "        \n",
    "        model = None\n",
    "        gc.collect()\n",
    "        torch.cuda.empty_cache()\n",
    "        \n",
    "        model, epoch_losses, scores_train, scores_test,scores_val  = run_ssda_ST(train,\n",
    "                                                                     test,\n",
    "                                                                     val,\n",
    "                                                                     lr,\n",
    "                                                                     epochs=epoch,\n",
    "                                                                     batch_size=batch_size,\n",
    "                                                                     dropout = dropout,\n",
    "                                                                     cuda_device=cuda_device,\n",
    "                                                                     num_workers=1,\n",
    "                                                                     with_attention=with_attention,avg_type=avg_type,glove=glove,extreme=extreme)\n",
    "\n",
    "        metrics_train[(lr,epoch,batch_size,dropout)] = scores_train\n",
    "        metrics_val[(lr,epoch,batch_size,dropout)] = scores_val\n",
    "        metrics_test[(lr,epoch,batch_size,dropout)] = scores_test\n",
    "        losses_train[(lr,epoch,batch_size,dropout)] = epoch_losses\n",
    "        \n",
    "        if return_model:\n",
    "            model_dict[(lr,epoch,batch_size,dropout)] = model\n",
    "            \n",
    "    return metrics_train,metrics_test, metrics_val,losses_train,model_dict\n",
    "\n",
    "\n",
    "\n",
    "def run_ssda_cp_mt(df,c1s,c2,doc_2_cluster_map,\n",
    "                    c2_train_perc=0.1,\n",
    "                   learning_rates=[0.0001,0.001,0.01,0.1],\n",
    "                   epochs=[3],\n",
    "                   word_pred_loss_weights=[0.3,0.8],\n",
    "                   batch_sizes=[8],\n",
    "                   dropouts=[0.1],\n",
    "                   l2s=[0.05],\n",
    "                   cuda_device=torch.device('cuda:1'), \n",
    "                   return_model=False,avg_type=\"binary\",glove=False,extreme=False,loss2=False,bad_term_embeds=None):\n",
    "    \"\"\"\n",
    "    Uses a self supervised domain adaptation setting to train the model\n",
    "    \n",
    "    * train = 90% c1 data + 10% c2 data\n",
    "    * test = 50% c1 data + 50% c2 data\n",
    "    \n",
    "    * From cluster 1 choose 70% of the data for train, 30% for test\n",
    "    * From cluster 2 choose 10% of 70% from c1 for train, \n",
    "    \n",
    "    * Loss check\n",
    "    * Metrics = F1, recall, precision, accuracy, roc\n",
    "    \"\"\"\n",
    "    train, test, val = split_data_mixed(c1s,c2,doc_2_cluster_map,df,c2_train_perc=c2_train_perc)\n",
    "    \n",
    "#     train, test, val = split_data(cluster_pair=cp,cluster_2_doc_map=doc_2_cluster_map,df=df)\n",
    "    \n",
    "#     train = train[train.doc_indices <= 99402 ]\n",
    "#     test = test[test.doc_indices <= 99402 ]\n",
    "#     val = val[val.doc_indices <= 99402 ]\n",
    "    \n",
    "#     train = train.loc[train.context_pos_words_size> 0 ]\n",
    "#     test = test.loc[test.context_pos_words_size> 0 ]\n",
    "#     val = val.loc[val.context_pos_words_size > 0 ]\n",
    "    \n",
    "    bmodel = load_model()\n",
    "    bmodel.to(torch.device('cuda:1'))\n",
    "    bmodel.eval()\n",
    "    tokenizer = load_tokenizer()\n",
    "\n",
    "    cw_embed_train = get_bert_embeddings(train,bmodel,tokenizer)\n",
    "    cw_embed_test = get_bert_embeddings(test,bmodel,tokenizer)\n",
    "    cw_embed_val = get_bert_embeddings(val,bmodel,tokenizer)\n",
    "    \n",
    "    \n",
    "    metrics_train = {}\n",
    "    metrics_test = {}\n",
    "    metrics_val = {}\n",
    "    losses_train = {}\n",
    "    model_dict = {}\n",
    "    params = [learning_rates,epochs,batch_sizes,dropouts,word_pred_loss_weights,l2s]\n",
    "    \n",
    "    params_all_combo = list(itertools.product(*params))\n",
    "    \n",
    "    print(\"Number of param combinations : %s\" %str(len(params_all_combo)))\n",
    "    \n",
    "    for p_id,param_list in enumerate(params_all_combo):\n",
    "        \n",
    "        print(\"Param_setting : %s\" %str(p_id))\n",
    "        \n",
    "        lr = param_list[0]\n",
    "        epoch = param_list[1]\n",
    "        batch_size = param_list[2]\n",
    "        dropout=param_list[3]\n",
    "        wlw = param_list[4]\n",
    "        l2 = param_list[5]\n",
    "        \n",
    "        print(\"Running model for ----\\n lr : %s\\n epoch : %s\\n batch_size : %s\\n dropout : %s\\n\"%(str(lr),str(epoch),str(batch_size),str(dropout)))\n",
    "        \n",
    "        model = None\n",
    "        gc.collect()\n",
    "        torch.cuda.empty_cache()\n",
    "        \n",
    "\n",
    "        model, epoch_losses, scores_train, scores_test,scores_val = run_ssda_MT(train,test,val,cw_embed_train,cw_embed_test,cw_embed_val,\n",
    "                                                                     lr,wlw,epochs=epoch,batch_size=batch_size,dropout=dropout,cuda_device=cuda_device,num_workers=1,avg_type=avg_type,l2=l2,glove=glove,extreme=extreme,loss2=loss2,bad_term_embeds=bad_term_embeds)\n",
    "        metrics_train[(lr,epoch,batch_size,dropout,wlw,l2)] = scores_train\n",
    "        metrics_test[(lr,epoch,batch_size,dropout,wlw,l2)] = scores_test\n",
    "        metrics_val[(lr,epoch,batch_size,dropout,wlw,l2)] = scores_val\n",
    "        losses_train[(lr,epoch,batch_size,dropout,wlw,l2)] = epoch_losses\n",
    "        if return_model:\n",
    "            model_dict[(lr,epoch,batch_size,dropout,wlw,l2)] = model\n",
    "            \n",
    "    return metrics_train,metrics_test,metrics_val, losses_train,model_dict"
   ]
  },
  {
   "cell_type": "markdown",
   "metadata": {},
   "source": [
    "## C1 vs C2 Performance"
   ]
  },
  {
   "cell_type": "code",
   "execution_count": 9,
   "metadata": {},
   "outputs": [],
   "source": [
    "def plot_clus1_vs_clus2_acc(epoch_scores,ss=100):\n",
    "    \"\"\"\n",
    "    \"\"\"\n",
    "    c1_f1s = []\n",
    "    c2_f1s =[]\n",
    "    c1_p =[]\n",
    "    c2_p =[]\n",
    "    c1_r =[]\n",
    "    c2_r =[]\n",
    "    c1_acc =[]\n",
    "    c2_acc = []\n",
    "    for param,hyper_setting_df in print_res(epoch_scores).groupby(\"Settings\"):\n",
    "        c1_score = hyper_setting_df.loc[hyper_setting_df.Score_type == \"cluster1\"]\n",
    "        c2_score = hyper_setting_df.loc[hyper_setting_df.Score_type == \"cluster2\"]\n",
    "        \n",
    "        assert c1_score.shape[0] == 1\n",
    "        assert c2_score.shape[0] == 1\n",
    "        \n",
    "        c1_f1s.append(c1_score[\"F1\"].tolist()[0])\n",
    "        c1_p.append(c1_score[\"Precision\"].tolist()[0])\n",
    "        c1_r.append(c1_score[\"Recall\"].tolist()[0])\n",
    "        c1_acc.append(c1_score[\"Accuracy\"].tolist()[0])\n",
    "        \n",
    "        c2_f1s.append(c2_score[\"F1\"].tolist()[0])\n",
    "        c2_p.append(c2_score[\"Precision\"].tolist()[0])\n",
    "        c2_r.append(c2_score[\"Recall\"].tolist()[0])\n",
    "        c2_acc.append(c2_score[\"Accuracy\"].tolist()[0])\n",
    "    \n",
    "    \n",
    "    fig,ax = plt.subplots(nrows=2,ncols=2,figsize=(20,15))\n",
    "    axes = ax.ravel()\n",
    "    \n",
    "    axes[0].scatter(c1_f1s,c2_f1s,c=\"blue\",alpha=0.8,s=ss,label=\"F1 - Scores\")\n",
    "    axes[0].plot([0, 1], [0, 1],c=\"red\",alpha=0.8,linestyle='dashed',linewidth=3, transform=axes[0].transAxes)\n",
    "    axes[0].set_xlim([0,1])\n",
    "    axes[0].set_ylim([0,1])\n",
    "    axes[0].set_xlabel(\"C1-Score\")\n",
    "    axes[0].set_ylabel(\"C2-Score\")\n",
    "    axes[0].set_title(\"F1 Comparison\")\n",
    "    \n",
    "    axes[1].scatter(c1_p,c2_p,c=\"blue\",alpha=0.8,s=ss,label=\"Precision\")\n",
    "    axes[1].plot([0, 1], [0, 1],c=\"red\",alpha=0.8,linestyle='dashed',linewidth=3, transform=axes[1].transAxes)\n",
    "    axes[1].set_xlim([0,1])\n",
    "    axes[1].set_ylim([0,1])\n",
    "    axes[1].set_xlabel(\"C1-Score\")\n",
    "    axes[1].set_ylabel(\"C2-Score\")\n",
    "    axes[1].set_title(\"Precision Comparison\")\n",
    "    \n",
    "    axes[2].scatter(c1_r,c2_r,c=\"blue\",alpha=0.8,s=ss,label=\"Recall\")\n",
    "    axes[2].plot([0, 1], [0, 1],c=\"red\",alpha=0.8,linestyle='dashed',linewidth=3, transform=axes[2].transAxes)\n",
    "    axes[2].set_xlim([0,1])\n",
    "    axes[2].set_ylim([0,1])\n",
    "    axes[2].set_xlabel(\"C1-Score\")\n",
    "    axes[2].set_ylabel(\"C2-Score\")\n",
    "    axes[2].set_title(\"Recall Comparison\")\n",
    "    \n",
    "    axes[3].scatter(c1_acc,c2_acc,c=\"blue\",alpha=0.8,s=ss,label=\"Accuracy\")\n",
    "    axes[3].plot([0, 1], [0, 1],c=\"red\",alpha=0.8, linestyle='dashed',linewidth=3,transform=axes[3].transAxes)\n",
    "    axes[3].set_xlim([0,1])\n",
    "    axes[3].set_ylim([0,1])\n",
    "    axes[3].set_xlabel(\"C1-Score\")\n",
    "    axes[3].set_ylabel(\"C2-Score\")\n",
    "    axes[3].set_title(\"Accuracy Comparison\")\n",
    "    \n",
    "    fig.suptitle(\"Pairwise Score Comparison\")\n",
    "    plt.tight_layout()\n",
    "    plt.show()"
   ]
  },
  {
   "cell_type": "markdown",
   "metadata": {},
   "source": [
    "## Attention Weight Checks"
   ]
  },
  {
   "cell_type": "code",
   "execution_count": 337,
   "metadata": {},
   "outputs": [],
   "source": [
    "def get_test_vocab(test):\n",
    "    \"\"\"\n",
    "    \"\"\"\n",
    "    tokenizer = load_tokenizer()\n",
    "    tokens_vocab = Counter()\n",
    "    for text in test:\n",
    "        encoded_batch = tokenizer.batch_encode_plus(batched_text, add_special_tokens=True, max_length = 350, padding='max_length', return_attention_mask = False,truncation=True, return_tensors = 'pt')\n",
    "        token_tensors = encoded_batch[\"input_ids\"]\n",
    "        tokens = tokenizer.covert_ids_to_tokens(token_tensors)\n",
    "        tokens_vocab.update(tokens)\n",
    "    return tokens_vocab.keys()\n",
    "\n",
    "def get_count_vec_vocab(test):\n",
    "    \"\"\"\n",
    "    \"\"\"\n",
    "    tfidf_vectorizer = TfidfVectorizer(min_df=15, binary=True, max_df=0.90, stop_words='english',max_features=None)\n",
    "    tfidf_vectorizer.fit(test)\n",
    "    \n",
    "    vocab = tfidf_vectorizer.get_feature_names()\n",
    "    return vocab\n",
    "    \n",
    "        \n",
    "def get_attention_weights(model,test,single=True):\n",
    "    \"\"\"\n",
    "    \"\"\"\n",
    "    # RUn throught the test set and get corresponding attentions scores for words in our test vocabulary\n",
    "    # aggregate and return\n",
    "    tokenizer = load_tokenizer()\n",
    "    \n",
    "    bmodel = load_model()\n",
    "    bmodel.to(torch.device('cuda:1'))\n",
    "    bmodel.eval()\n",
    "    \n",
    "    cw_embed_val = get_bert_embeddings(test,bmodel,tokenizer)\n",
    "    \n",
    "    vocab = get_count_vec_vocab(test[\"all_text\"])\n",
    "    \n",
    "    if single:\n",
    "        test = CPDatasetST(test)\n",
    "    \n",
    "    if not single:\n",
    "        test = CPDatasetMT(test,cw_embed_val)\n",
    "    \n",
    "    test_dataloader = DataLoader(test,batch_size=1,num_workers=1, shuffle=True)\n",
    "    tokenizer = load_tokenizer()\n",
    "    \n",
    "    attention_weights = defaultdict(list)\n",
    "    \n",
    "    model.eval()\n",
    "    \n",
    "    with torch.no_grad():\n",
    "        for batch_num, data in enumerate(test_dataloader):\n",
    "\n",
    "            if single:\n",
    "                x1 = data[0]\n",
    "                y1 = data[1]\n",
    "                t1 = data[2]\n",
    "                wc = data[3]\n",
    "\n",
    "\n",
    "            if not single:\n",
    "                x1 = data[0]\n",
    "                x2 = data[1]\n",
    "                y1 = data[2]\n",
    "                t1 = data[3]\n",
    "                wc = data[4]\n",
    "            \n",
    "            tokens = tokenizer.encode(t1[0], add_special_tokens=True, max_length = 350, padding='max_length', return_attention_mask = False,truncation=True, return_tensors = 'pt')\n",
    "            token_ids = tokenizer.convert_ids_to_tokens(tokens.flatten())\n",
    "\n",
    "            x1 = x1.to(torch.device('cuda:1'))\n",
    "\n",
    "            if single:\n",
    "                y_pred = model(x1)\n",
    "\n",
    "            if not single:\n",
    "                y_pred, context_pred,_,_ = model(x1,None)\n",
    "\n",
    "            att_w = model.normalized_word_weights.cpu().numpy()\n",
    "\n",
    "            for i in range(350):\n",
    "                \n",
    "                if token_ids[i] in vocab:\n",
    "\n",
    "                    attention_weights[token_ids[i]].append(att_w[i])\n",
    "    \n",
    "    return attention_weights\n",
    "\n",
    "def aggregate_attW(attw):\n",
    "    \"\"\"\n",
    "    \"\"\"\n",
    "    agg_att_w = {}\n",
    "    total_sum = []\n",
    "    for token in attw.keys():\n",
    "        agg_att_w[token] = np.sum(attw[token],axis=0)\n",
    "    \n",
    "    total_sum = sum(agg_att_w.values())\n",
    "    for token in agg_att_w.keys():\n",
    "        agg_att_w[token] /= total_sum\n",
    "    \n",
    "    return agg_att_w\n",
    "\n",
    "def rank_weights(attw):\n",
    "    \"\"\"\n",
    "    \"\"\"\n",
    "    sortedattw = sorted(attw.items(),key=lambda x:x[1],reverse=True)\n",
    "    token_ranks = {}\n",
    "    for rank, token_tuple in enumerate(sortedattw):\n",
    "        token_ranks[token_tuple[0]] = rank\n",
    "    \n",
    "    return token_ranks\n",
    "    \n",
    "\n",
    "def calc_change_in_rank(testwa1,testwa2):\n",
    "    \"\"\"\n",
    "    iterate through words in vocab and check difference in ranks\n",
    "    \"\"\"\n",
    "    agg_aw1 = aggregate_attW(testwa1)\n",
    "    agg_aw2 = aggregate_attW(testwa2)\n",
    "    \n",
    "    aw1_ranks = rank_weights(agg_aw1)\n",
    "    aw2_ranks = rank_weights(agg_aw2)\n",
    "    \n",
    "    assert len(aw1_ranks.keys()) == len(aw2_ranks.keys())\n",
    "    \n",
    "    change_in_rank = {}\n",
    "    for token in aw1_ranks.keys():\n",
    "        change_in_rank[token] = aw1_ranks[token] - aw2_ranks[token]\n",
    "    \n",
    "    return change_in_rank\n"
   ]
  },
  {
   "cell_type": "code",
   "execution_count": 11,
   "metadata": {},
   "outputs": [],
   "source": [
    "def save_obj(path,obj):\n",
    "    \"\"\"\n",
    "    \"\"\"\n",
    "    with open(path,\"wb\") as wb:\n",
    "        pickle.dump(obj,wb)"
   ]
  },
  {
   "cell_type": "code",
   "execution_count": 125,
   "metadata": {},
   "outputs": [],
   "source": [
    "def select_top_settings(scores,metric_type=\"F1\"):\n",
    "    \"\"\"\n",
    "    \"\"\"\n",
    "    score_df = print_res(scores)\n",
    "    \n",
    "    # Select the setting with best overall F1 and best overall Acc\n",
    "    \n",
    "    overall_df = score_df.loc[score_df.Score_type == \"overall\"]\n",
    "    overall_df = overall_df.reset_index(drop=True)\n",
    "    best_setting = overall_df.iloc[overall_df[metric_type].idxmax()].tolist()[0]\n",
    "    score_df_best = score_df.loc[score_df.Settings == best_setting]\n",
    "    return score_df_best"
   ]
  },
  {
   "cell_type": "markdown",
   "metadata": {},
   "source": [
    "# Load Data"
   ]
  },
  {
   "cell_type": "code",
   "execution_count": 12,
   "metadata": {},
   "outputs": [],
   "source": [
    "rel_df = load_pickle(\"Data_4_AttM/rel_df.pkl\")\n",
    "rel_df_extreme = load_pickle(\"Data_4_AttM/rel_df_extreme.pkl\")\n",
    "d2c_map = load_pickle(\"Data_4_AttM/doc_2_cluster_map.pkl\")\n",
    "d2c_map_extreme = load_pickle(\"Data_4_AttM/doc_2_cluster_map_extreme.pkl\")\n",
    "glove_mat = load_pickle(\"Data_4_AttM/glove_mat.pkl\")\n",
    "glove_mat_extreme = load_pickle(\"Data_4_AttM/glove_mat_extreme.pkl\")\n",
    "vocab_target_glove = load_pickle(\"Data_4_AttM/vocab_target_glove.pkl\")\n",
    "vocab_target_glove_extreme = load_pickle(\"Data_4_AttM/vocab_target_glove_extreme.pkl\")"
   ]
  },
  {
   "cell_type": "code",
   "execution_count": 13,
   "metadata": {},
   "outputs": [
    {
     "name": "stdout",
     "output_type": "stream",
     "text": [
      "(102446, 300)\n",
      "(71461, 300)\n"
     ]
    }
   ],
   "source": [
    "print(glove_mat.shape)\n",
    "print(glove_mat_extreme.shape)"
   ]
  },
  {
   "cell_type": "code",
   "execution_count": 14,
   "metadata": {},
   "outputs": [
    {
     "name": "stdout",
     "output_type": "stream",
     "text": [
      "102446\n",
      "71461\n"
     ]
    }
   ],
   "source": [
    "print(len(vocab_target_glove))\n",
    "print(len(vocab_target_glove_extreme))"
   ]
  },
  {
   "cell_type": "code",
   "execution_count": 15,
   "metadata": {},
   "outputs": [],
   "source": [
    "# pad_row = np.random.normal(scale=0.6, size=(300, ))"
   ]
  },
  {
   "cell_type": "code",
   "execution_count": 16,
   "metadata": {},
   "outputs": [],
   "source": [
    "# glove_mat = np.vstack([glove_mat,pad_row])\n",
    "# glove_mat_extreme = np.vstack([glove_mat_extreme,pad_row])"
   ]
  },
  {
   "cell_type": "code",
   "execution_count": 17,
   "metadata": {},
   "outputs": [],
   "source": [
    "# print(glove_mat.shape)\n",
    "# print(glove_mat_extreme.shape)"
   ]
  },
  {
   "cell_type": "code",
   "execution_count": 18,
   "metadata": {},
   "outputs": [],
   "source": [
    "# vocab_target_glove = vocab_target_glove+ [\"PAD\"]\n",
    "# vocab_target_glove_extreme = vocab_target_glove_extreme+ [\"PAD\"]"
   ]
  },
  {
   "cell_type": "code",
   "execution_count": 19,
   "metadata": {},
   "outputs": [],
   "source": [
    "# print(len(vocab_target_glove))\n",
    "# print(len(vocab_target_glove_extreme))"
   ]
  },
  {
   "cell_type": "code",
   "execution_count": 20,
   "metadata": {},
   "outputs": [],
   "source": [
    "# save_obj(path=\"Data_4_AttM/glove_mat.pkl\",obj=glove_mat)\n",
    "# save_obj(path=\"Data_4_AttM/glove_mat_extreme.pkl\",obj=glove_mat_extreme)\n",
    "# save_obj(path=\"Data_4_AttM/vocab_target_glove.pkl\",obj=vocab_target_glove)\n",
    "# save_obj(path=\"Data_4_AttM/vocab_target_glove_extreme.pkl\",obj=vocab_target_glove_extreme)"
   ]
  },
  {
   "cell_type": "code",
   "execution_count": 21,
   "metadata": {},
   "outputs": [],
   "source": [
    "rel_df[\"doc_indices\"] = rel_df.index\n",
    "rel_df_extreme[\"doc_indices\"] = rel_df_extreme.index"
   ]
  },
  {
   "cell_type": "code",
   "execution_count": 235,
   "metadata": {},
   "outputs": [
    {
     "data": {
      "text/plain": [
       "Index(['title', 'text', 'source_partisan_score', 'binary_ps', 'processed_text',\n",
       "       'all_text', 'processed_title', 'Num_Tokens', 'context_pos_words',\n",
       "       'context_neg_words', 'context_pos_word_len', 'doc_indices'],\n",
       "      dtype='object')"
      ]
     },
     "execution_count": 235,
     "metadata": {},
     "output_type": "execute_result"
    }
   ],
   "source": [
    "rel_df.columns"
   ]
  },
  {
   "cell_type": "markdown",
   "metadata": {},
   "source": [
    "# Bad Term Embeddings"
   ]
  },
  {
   "cell_type": "code",
   "execution_count": 236,
   "metadata": {},
   "outputs": [],
   "source": [
    "tfidf_vectorizer = TfidfVectorizer(min_df=30, binary=False, max_df=0.90, stop_words='english',max_features=None)\n",
    "tfidf_vectorizer_extreme = TfidfVectorizer(min_df=30, binary=False, max_df=0.90, stop_words='english',max_features=None)"
   ]
  },
  {
   "cell_type": "code",
   "execution_count": 237,
   "metadata": {},
   "outputs": [],
   "source": [
    "X = tfidf_vectorizer.fit_transform(rel_df[\"all_text\"])\n",
    "X_extreme = tfidf_vectorizer_extreme.fit_transform(rel_df_extreme[\"all_text\"])"
   ]
  },
  {
   "cell_type": "code",
   "execution_count": 261,
   "metadata": {},
   "outputs": [],
   "source": [
    "bad_terms = get_bad_terms(X, labels=rel_df[\"binary_ps\"], vocab=tfidf_vectorizer)\n",
    "bad_term_embeds,bad_term_tokens = get_bad_term_embeddings(bad_terms)\n",
    "bad_term_embeds = torch.vstack(bad_term_embeds).squeeze(1)\n",
    "\n",
    "bad_terms_ex = get_bad_terms(X_extreme, labels=rel_df_extreme[\"binary_ps\"], vocab=tfidf_vectorizer_extreme)\n",
    "bad_term_embeds_ex,bad_term_tokens_ex = get_bad_term_embeddings(bad_terms_ex)\n",
    "bad_term_embeds_ex = torch.vstack(bad_term_embeds_ex).squeeze(1)"
   ]
  },
  {
   "cell_type": "code",
   "execution_count": 262,
   "metadata": {},
   "outputs": [
    {
     "name": "stdout",
     "output_type": "stream",
     "text": [
      "torch.Size([200, 768])\n",
      "torch.Size([200, 768])\n"
     ]
    }
   ],
   "source": [
    "print(bad_term_embeds.size())\n",
    "print(bad_term_embeds_ex.size())"
   ]
  },
  {
   "cell_type": "code",
   "execution_count": 263,
   "metadata": {},
   "outputs": [
    {
     "data": {
      "text/plain": [
       "[['theory'],\n",
       " ['statement'],\n",
       " ['reporters'],\n",
       " ['corona'],\n",
       " ['wasn'],\n",
       " ['helped'],\n",
       " ['pol'],\n",
       " ['conservatives'],\n",
       " ['nbc'],\n",
       " ['brief'],\n",
       " ['claimed'],\n",
       " ['progressive'],\n",
       " ['shift'],\n",
       " ['seriously'],\n",
       " ['donald'],\n",
       " ['bid'],\n",
       " ['vice'],\n",
       " ['nancy'],\n",
       " ['evidence'],\n",
       " ['friends']]"
      ]
     },
     "execution_count": 263,
     "metadata": {},
     "output_type": "execute_result"
    }
   ],
   "source": [
    "bad_term_tokens[:20]"
   ]
  },
  {
   "cell_type": "code",
   "execution_count": 264,
   "metadata": {},
   "outputs": [
    {
     "data": {
      "text/plain": [
       "[['reporters'],\n",
       " ['controversial'],\n",
       " ['wasn'],\n",
       " ['quickly'],\n",
       " ['helped'],\n",
       " ['pol'],\n",
       " ['conservatives'],\n",
       " ['china'],\n",
       " ['american'],\n",
       " ['immediately'],\n",
       " ['fellow'],\n",
       " ['responded'],\n",
       " ['disease'],\n",
       " ['alleged'],\n",
       " ['words'],\n",
       " ['seriously'],\n",
       " ['richard'],\n",
       " ['donald'],\n",
       " ['bid'],\n",
       " ['vice']]"
      ]
     },
     "execution_count": 264,
     "metadata": {},
     "output_type": "execute_result"
    }
   ],
   "source": [
    "bad_term_tokens_ex[:20]"
   ]
  },
  {
   "cell_type": "markdown",
   "metadata": {},
   "source": [
    "# Test Data Split"
   ]
  },
  {
   "cell_type": "code",
   "execution_count": 35,
   "metadata": {
    "scrolled": true
   },
   "outputs": [
    {
     "name": "stdout",
     "output_type": "stream",
     "text": [
      "Selected data sizes : \n",
      "Train Size : 1136.8500000000001\n",
      "Test Size : 349.8\n",
      "Val Size : 262.34999999999997\n",
      "Percentage of train size for c in c1mix : 1023.1650000000002\n",
      "Percentage of Val size for c in c1mix : 236.11499999999998\n",
      "Percentage of test size for c in c1mix : 174.9\n",
      "\n",
      "Sampled Data Sizes: \n",
      "Train Size : (1136, 14)\n",
      "1 : 569\n",
      "0 : 567\n",
      "Test Size : (348, 14)\n",
      "1 : 174\n",
      "0 : 174\n",
      "Val Size : (262, 14)\n",
      "1 : 131\n",
      "0 : 131\n",
      "Selected data sizes : \n",
      "Train Size : 2163.2000000000003\n",
      "Test Size : 665.6\n",
      "Val Size : 499.2\n",
      "Percentage of train size for c in c1mix : 973.4400000000002\n",
      "Percentage of Val size for c in c1mix : 224.64\n",
      "Percentage of test size for c in c1mix : 166.4\n",
      "\n",
      "Sampled Data Sizes: \n",
      "Train Size : (1973, 14)\n",
      "1 : 987\n",
      "0 : 986\n",
      "Test Size : (664, 14)\n",
      "1 : 332\n",
      "0 : 332\n",
      "Val Size : (497, 14)\n",
      "1 : 248\n",
      "0 : 249\n",
      "Selected data sizes : \n",
      "Train Size : 2956.85\n",
      "Test Size : 909.8000000000001\n",
      "Val Size : 682.35\n",
      "Percentage of train size for c in c1mix : 887.055\n",
      "Percentage of Val size for c in c1mix : 204.705\n",
      "Percentage of test size for c in c1mix : 151.63333333333335\n",
      "\n",
      "Sampled Data Sizes: \n",
      "Train Size : (2744, 14)\n",
      "1 : 1374\n",
      "0 : 1370\n",
      "Test Size : (907, 14)\n",
      "1 : 452\n",
      "0 : 455\n",
      "Val Size : (680, 14)\n",
      "1 : 340\n",
      "0 : 340\n"
     ]
    }
   ],
   "source": [
    "train_n,test,val = split_data_mixed(c1s=[26],c2=77,cluster_2_doc_map=d2c_map,df=rel_df,c2_train_perc=0.10)\n",
    "train,test,val = split_data_mixed(c1s=[26,64],c2=77,cluster_2_doc_map=d2c_map,df=rel_df,c2_train_perc=0.10)\n",
    "train,test,val = split_data_mixed(c1s=[26,64,94],c2=77,cluster_2_doc_map=d2c_map,df=rel_df,c2_train_perc=0.10)"
   ]
  },
  {
   "cell_type": "code",
   "execution_count": 23,
   "metadata": {
    "scrolled": true
   },
   "outputs": [
    {
     "name": "stdout",
     "output_type": "stream",
     "text": [
      "Selected data sizes : \n",
      "Train Size : 456.95\n",
      "Test Size : 140.6\n",
      "Val Size : 105.45\n",
      "Percentage of train size for c in c1mix : 411.255\n",
      "Percentage of Val size for c in c1mix : 94.905\n",
      "Percentage of test size for c in c1mix : 70.3\n",
      "\n",
      "Sampled Data Sizes: \n",
      "Train Size : (319, 14)\n",
      "1 : 160\n",
      "0 : 159\n",
      "Test Size : (140, 14)\n",
      "1 : 70\n",
      "0 : 70\n",
      "Val Size : (104, 14)\n",
      "1 : 52\n",
      "0 : 52\n",
      "Selected data sizes : \n",
      "Train Size : 882.0500000000001\n",
      "Test Size : 271.40000000000003\n",
      "Val Size : 203.54999999999998\n",
      "Percentage of train size for c in c1mix : 396.9225\n",
      "Percentage of Val size for c in c1mix : 91.5975\n",
      "Percentage of test size for c in c1mix : 67.85000000000001\n",
      "\n",
      "Sampled Data Sizes: \n",
      "Train Size : (764, 14)\n",
      "1 : 382\n",
      "0 : 382\n",
      "Test Size : (269, 14)\n",
      "1 : 133\n",
      "0 : 136\n",
      "Val Size : (202, 14)\n",
      "1 : 102\n",
      "0 : 100\n",
      "Selected data sizes : \n",
      "Train Size : 1503.45\n",
      "Test Size : 462.6\n",
      "Val Size : 346.95\n",
      "Percentage of train size for c in c1mix : 451.035\n",
      "Percentage of Val size for c in c1mix : 104.085\n",
      "Percentage of test size for c in c1mix : 77.10000000000001\n",
      "\n",
      "Sampled Data Sizes: \n",
      "Train Size : (1293, 14)\n",
      "1 : 648\n",
      "0 : 645\n",
      "Test Size : (462, 14)\n",
      "1 : 229\n",
      "0 : 233\n",
      "Val Size : (346, 14)\n",
      "1 : 173\n",
      "0 : 173\n"
     ]
    }
   ],
   "source": [
    "train_e,test,val = split_data_mixed(c1s=[35],c2=36,cluster_2_doc_map=d2c_map_extreme,df=rel_df_extreme,c2_train_perc=0.10)\n",
    "train,test,val = split_data_mixed(c1s=[35,3],c2=36,cluster_2_doc_map=d2c_map_extreme,df=rel_df_extreme,c2_train_perc=0.10)\n",
    "train,test,val = split_data_mixed(c1s=[35,3,44],c2=36,cluster_2_doc_map=d2c_map_extreme,df=rel_df_extreme,c2_train_perc=0.10)"
   ]
  },
  {
   "cell_type": "markdown",
   "metadata": {},
   "source": [
    "# Test Pytorch Datasets"
   ]
  },
  {
   "cell_type": "code",
   "execution_count": 24,
   "metadata": {},
   "outputs": [
    {
     "name": "stdout",
     "output_type": "stream",
     "text": [
      "0\n",
      "torch.Size([32, 350, 768])\n",
      "torch.Size([32, 1])\n",
      "torch.Size([32, 1])\n",
      "0\n",
      "torch.Size([32, 300, 768])\n",
      "torch.Size([32, 1])\n",
      "torch.Size([32, 1])\n"
     ]
    }
   ],
   "source": [
    "train_dataset = CPDatasetST(df=train_n,hdf_file_path=\"/media/karthikshivaram/SABER_4TB/attm_bert_embeddings/token_bert_12_embeds_attm.hdf5\",glove_vocab_path=\"Data_4_AttM/vocab_target_glove.pkl\",glove=False)\n",
    "train_dataloader = DataLoader(train_dataset,batch_size=32,num_workers=1,shuffle=True)\n",
    "\n",
    "for batch_num, (x1,y1,t1,wc) in enumerate(train_dataloader):\n",
    "    print(batch_num)\n",
    "    print(x1.shape)\n",
    "    print(y1.shape)\n",
    "    print(wc.shape)\n",
    "    break\n",
    "    \n",
    "\n",
    "train_dataset = CPDatasetST(df=train_e,hdf_file_path=\"/media/karthikshivaram/SABER_4TB/attm_bert_embeddings/token_bert_12_embeds_attm_extreme.hdf5\",glove_vocab_path=\"Data_4_AttM/vocab_target_glove_extreme.pkl\",glove=False)\n",
    "train_dataloader = DataLoader(train_dataset,batch_size=32,num_workers=1,shuffle=True)\n",
    "\n",
    "for batch_num, (x1,y1,t1,wc) in enumerate(train_dataloader):\n",
    "    print(batch_num)\n",
    "    print(x1.shape)\n",
    "    print(y1.shape)\n",
    "    print(wc.shape)\n",
    "    break"
   ]
  },
  {
   "cell_type": "code",
   "execution_count": 25,
   "metadata": {},
   "outputs": [
    {
     "name": "stdout",
     "output_type": "stream",
     "text": [
      "0\n",
      "torch.Size([32, 350])\n",
      "torch.Size([32, 1])\n",
      "torch.Size([32, 1])\n",
      "0\n",
      "torch.Size([32, 300])\n",
      "torch.Size([32, 1])\n",
      "torch.Size([32, 1])\n"
     ]
    }
   ],
   "source": [
    "train_dataset = CPDatasetST(df=train_n,hdf_file_path=\"/media/karthikshivaram/SABER_4TB/attm_bert_embeddings/token_bert_12_embeds_attm.hdf5\",glove_vocab_path=\"Data_4_AttM/vocab_target_glove.pkl\",glove=True,max_length = 350)\n",
    "train_dataloader = DataLoader(train_dataset,batch_size=32,num_workers=1,shuffle=True)\n",
    "\n",
    "for batch_num, (x1,y1,t1,wc) in enumerate(train_dataloader):\n",
    "    print(batch_num)\n",
    "    print(x1.shape)\n",
    "    print(y1.shape)\n",
    "    print(wc.shape)\n",
    "    break\n",
    "    \n",
    "\n",
    "train_dataset = CPDatasetST(df=train_e,hdf_file_path=\"/media/karthikshivaram/SABER_4TB/attm_bert_embeddings/token_bert_12_embeds_attm_extreme.hdf5\",glove_vocab_path=\"Data_4_AttM/vocab_target_glove_extreme.pkl\",glove=True,max_length = 300)\n",
    "train_dataloader = DataLoader(train_dataset,batch_size=32,num_workers=1,shuffle=True)\n",
    "\n",
    "for batch_num, (x1,y1,t1,wc) in enumerate(train_dataloader):\n",
    "    print(batch_num)\n",
    "    print(x1.shape)\n",
    "    print(y1.shape)\n",
    "    print(wc.shape)\n",
    "    break"
   ]
  },
  {
   "cell_type": "code",
   "execution_count": 26,
   "metadata": {},
   "outputs": [
    {
     "name": "stderr",
     "output_type": "stream",
     "text": [
      "100%|██████████| 1136/1136 [00:07<00:00, 143.14it/s]\n"
     ]
    }
   ],
   "source": [
    "model = load_model()\n",
    "model.to(torch.device('cuda:1'))\n",
    "model.eval()\n",
    "tokenizer = load_tokenizer()\n",
    "\n",
    "embeds_list_hl_context_words = get_bert_embeddings(train_n,model,tokenizer)"
   ]
  },
  {
   "cell_type": "code",
   "execution_count": 30,
   "metadata": {},
   "outputs": [
    {
     "name": "stdout",
     "output_type": "stream",
     "text": [
      "0\n",
      "torch.Size([32, 350, 768])\n",
      "torch.Size([32, 2, 768])\n",
      "torch.Size([32, 1])\n",
      "torch.Size([32, 1])\n",
      "0\n",
      "torch.Size([32, 300, 768])\n",
      "torch.Size([32, 2, 768])\n",
      "torch.Size([32, 1])\n",
      "torch.Size([32, 1])\n"
     ]
    }
   ],
   "source": [
    "train_mt = CPDatasetMT(train_n,embeds_list_hl_context_words,hdf_file_path=\"/media/karthikshivaram/SABER_4TB/attm_bert_embeddings/token_bert_12_embeds_attm.hdf5\")\n",
    "train_dataloader = DataLoader(train_mt,batch_size=32,num_workers=1,shuffle=True)\n",
    "\n",
    "for batch_num, (x1, x2, y1, t1, wc) in enumerate(train_dataloader):\n",
    "    print(batch_num)\n",
    "    print(x1.shape)\n",
    "    print(x2.shape)\n",
    "    print(y1.shape)\n",
    "    print(wc.shape)\n",
    "    \n",
    "#     print(x2)\n",
    "    break\n",
    "\n",
    "train_mt = CPDatasetMT(train_e,embeds_list_hl_context_words,hdf_file_path=\"/media/karthikshivaram/SABER_4TB/attm_bert_embeddings/token_bert_12_embeds_attm_extreme.hdf5\")\n",
    "train_dataloader = DataLoader(train_mt,batch_size=32,num_workers=1,shuffle=True)\n",
    "\n",
    "for batch_num, (x1, x2, y1, t1, wc) in enumerate(train_dataloader):\n",
    "    print(batch_num)\n",
    "    print(x1.shape)\n",
    "    print(x2.shape)\n",
    "    print(y1.shape)\n",
    "    print(wc.shape)\n",
    "    \n",
    "#     print(x2)\n",
    "    break"
   ]
  },
  {
   "cell_type": "code",
   "execution_count": 34,
   "metadata": {},
   "outputs": [
    {
     "name": "stdout",
     "output_type": "stream",
     "text": [
      "0\n",
      "torch.Size([32, 350])\n",
      "torch.Size([32, 2])\n",
      "torch.Size([32, 1])\n",
      "torch.Size([32, 1])\n",
      "0\n",
      "torch.Size([32, 300])\n",
      "torch.Size([32, 2])\n",
      "torch.Size([32, 1])\n",
      "torch.Size([32, 1])\n"
     ]
    }
   ],
   "source": [
    "train_mt = CPDatasetMT(train_n,embeds_list_hl_context_words,hdf_file_path=\"/media/karthikshivaram/SABER_4TB/attm_bert_embeddings/token_bert_12_embeds_attm.hdf5\",glove_vocab_path=\"Data_4_AttM/vocab_target_glove.pkl\",glove=True,max_length = 350)\n",
    "train_dataloader = DataLoader(train_mt,batch_size=32,num_workers=1,shuffle=True)\n",
    "\n",
    "for batch_num, (x1, x2, y1, t1, wc) in enumerate(train_dataloader):\n",
    "    print(batch_num)\n",
    "    print(x1.shape)\n",
    "    print(x2.shape)\n",
    "    print(y1.shape)\n",
    "    print(wc.shape)\n",
    "    \n",
    "#     print(x2)\n",
    "    break\n",
    "\n",
    "train_mt = CPDatasetMT(train_e,embeds_list_hl_context_words,hdf_file_path=\"/media/karthikshivaram/SABER_4TB/attm_bert_embeddings/token_bert_12_embeds_attm_extreme.hdf5\",glove_vocab_path=\"Data_4_AttM/vocab_target_glove_extreme.pkl\",glove=True,max_length = 300)\n",
    "train_dataloader = DataLoader(train_mt,batch_size=32,num_workers=1,shuffle=True)\n",
    "\n",
    "for batch_num, (x1, x2, y1, t1, wc) in enumerate(train_dataloader):\n",
    "    print(batch_num)\n",
    "    print(x1.shape)\n",
    "    print(x2.shape)\n",
    "    print(y1.shape)\n",
    "    print(wc.shape)\n",
    "    \n",
    "#     print(x2)\n",
    "    break"
   ]
  },
  {
   "cell_type": "markdown",
   "metadata": {},
   "source": [
    "# Test Pytorch Models"
   ]
  },
  {
   "cell_type": "markdown",
   "metadata": {},
   "source": [
    "## Single Task with Attention Bert - Normal Dataset"
   ]
  },
  {
   "cell_type": "code",
   "execution_count": 49,
   "metadata": {
    "scrolled": true
   },
   "outputs": [
    {
     "name": "stdout",
     "output_type": "stream",
     "text": [
      "Selected data sizes : \n",
      "Train Size : 1136.8500000000001\n",
      "Test Size : 349.8\n",
      "Val Size : 262.34999999999997\n",
      "Percentage of train size for c in c1mix : 1023.1650000000002\n",
      "Percentage of Val size for c in c1mix : 236.11499999999998\n",
      "Percentage of test size for c in c1mix : 174.9\n",
      "\n",
      "Sampled Data Sizes: \n",
      "Train Size : (1136, 14)\n",
      "1 : 569\n",
      "0 : 567\n",
      "Test Size : (348, 14)\n",
      "1 : 174\n",
      "0 : 174\n",
      "Val Size : (262, 14)\n",
      "1 : 131\n",
      "0 : 131\n"
     ]
    }
   ],
   "source": [
    "train_n,test,val = split_data_mixed(c1s=[26],c2=77,cluster_2_doc_map=d2c_map,df=rel_df,c2_train_perc=0.10)"
   ]
  },
  {
   "cell_type": "code",
   "execution_count": 50,
   "metadata": {
    "scrolled": true
   },
   "outputs": [
    {
     "name": "stderr",
     "output_type": "stream",
     "text": [
      "  0%|          | 0/5 [00:00<?, ?it/s]"
     ]
    },
    {
     "name": "stdout",
     "output_type": "stream",
     "text": [
      "[ Using Seed :  42  ]\n"
     ]
    },
    {
     "name": "stderr",
     "output_type": "stream",
     "text": [
      "100%|██████████| 5/5 [00:06<00:00,  1.39s/it]\n"
     ]
    },
    {
     "name": "stdout",
     "output_type": "stream",
     "text": [
      "Y1 Pred Dist : \n",
      "1 : 431\n",
      "0 : 705\n",
      "Predicted Label Shape : (1136,)\n",
      "True Label Shape : (1136,)\n",
      "Predicted Label Shape : (1023,)\n",
      "True Label Shape : (1023,)\n",
      "Predicted Label Shape : (113,)\n",
      "True Label Shape : (113,)\n",
      "\n",
      "Finished running 'evaluate_st' in 0.0170 mins\n",
      "\n",
      "Y1 Pred Dist : \n",
      "1 : 98\n",
      "0 : 164\n",
      "Predicted Label Shape : (262,)\n",
      "True Label Shape : (262,)\n",
      "Predicted Label Shape : (236,)\n",
      "True Label Shape : (236,)\n",
      "Predicted Label Shape : (26,)\n",
      "True Label Shape : (26,)\n",
      "\n",
      "Finished running 'evaluate_st' in 0.0063 mins\n",
      "\n",
      "Y1 Pred Dist : \n",
      "1 : 113\n",
      "0 : 235\n",
      "Predicted Label Shape : (348,)\n",
      "True Label Shape : (348,)\n",
      "Predicted Label Shape : (174,)\n",
      "True Label Shape : (174,)\n",
      "Predicted Label Shape : (174,)\n",
      "True Label Shape : (174,)\n",
      "\n",
      "Finished running 'evaluate_st' in 0.0073 mins\n",
      "\n",
      "\n",
      "Finished running 'run_ssda_ST' in 0.2326 mins\n",
      "\n"
     ]
    }
   ],
   "source": [
    "model, epoch_losses, scores_train, scores_test, scores_val = run_ssda_ST(train_n,\n",
    "                                                                         test,\n",
    "                                                                         val,\n",
    "                                                                         lr=0.01,\n",
    "                                                                         epochs=5,\n",
    "                                                                         batch_size=16,\n",
    "                                                                         dropout=0.1,\n",
    "                                                                         cuda_device=torch.device('cuda:1'),\n",
    "                                                                         num_workers=1,\n",
    "                                                                         with_attention=True,\n",
    "                                                                         cp=None,\n",
    "                                                                         avg_type=\"binary\",\n",
    "                                                                         glove=False,\n",
    "                                                                         extreme=False)"
   ]
  },
  {
   "cell_type": "code",
   "execution_count": 51,
   "metadata": {
    "scrolled": true
   },
   "outputs": [
    {
     "data": {
      "text/plain": [
       "defaultdict(<function attm_metrics.calculate_scores_single.<locals>.<lambda>()>,\n",
       "            {'overall': defaultdict(<function attm_metrics.calculate_scores_single.<locals>.<lambda>.<locals>.<lambda>()>,\n",
       "                         {'class_scores': defaultdict(float,\n",
       "                                      {'f1': 0.5226480836236933,\n",
       "                                       'precision': 0.6637168141592921,\n",
       "                                       'recall': 0.43103448275862066,\n",
       "                                       'accuracy': 0.6063218390804597,\n",
       "                                       'roc_auc': 0.6063218390804598})}),\n",
       "             'cluster1': defaultdict(<function attm_metrics.calculate_scores_single.<locals>.<lambda>.<locals>.<lambda>()>,\n",
       "                         {'class_scores': defaultdict(float,\n",
       "                                      {'f1': 0.6493506493506493,\n",
       "                                       'precision': 0.746268656716418,\n",
       "                                       'recall': 0.5747126436781609,\n",
       "                                       'accuracy': 0.6896551724137931,\n",
       "                                       'roc_auc': 0.6896551724137931})}),\n",
       "             'cluster2': defaultdict(<function attm_metrics.calculate_scores_single.<locals>.<lambda>.<locals>.<lambda>()>,\n",
       "                         {'class_scores': defaultdict(float,\n",
       "                                      {'f1': 0.37593984962406013,\n",
       "                                       'precision': 0.5434782608695652,\n",
       "                                       'recall': 0.28735632183908044,\n",
       "                                       'accuracy': 0.5229885057471264,\n",
       "                                       'roc_auc': 0.5229885057471264})})})"
      ]
     },
     "execution_count": 51,
     "metadata": {},
     "output_type": "execute_result"
    }
   ],
   "source": [
    "scores_test"
   ]
  },
  {
   "cell_type": "markdown",
   "metadata": {},
   "source": [
    "## Single Task with Attention Glove - Normal Dataset"
   ]
  },
  {
   "cell_type": "code",
   "execution_count": 60,
   "metadata": {
    "scrolled": true
   },
   "outputs": [
    {
     "name": "stdout",
     "output_type": "stream",
     "text": [
      "[ Using Seed :  42  ]\n"
     ]
    },
    {
     "name": "stderr",
     "output_type": "stream",
     "text": [
      "100%|██████████| 5/5 [00:18<00:00,  3.73s/it]\n"
     ]
    },
    {
     "name": "stdout",
     "output_type": "stream",
     "text": [
      "Y1 Pred Dist : \n",
      "1 : 576\n",
      "0 : 560\n",
      "Predicted Label Shape : (1136,)\n",
      "True Label Shape : (1136,)\n",
      "Predicted Label Shape : (1023,)\n",
      "True Label Shape : (1023,)\n",
      "Predicted Label Shape : (113,)\n",
      "True Label Shape : (113,)\n",
      "\n",
      "Finished running 'evaluate_st' in 0.0184 mins\n",
      "\n",
      "Y1 Pred Dist : \n",
      "1 : 148\n",
      "0 : 114\n",
      "Predicted Label Shape : (262,)\n",
      "True Label Shape : (262,)\n",
      "Predicted Label Shape : (236,)\n",
      "True Label Shape : (236,)\n",
      "Predicted Label Shape : (26,)\n",
      "True Label Shape : (26,)\n",
      "\n",
      "Finished running 'evaluate_st' in 0.0063 mins\n",
      "\n",
      "Y1 Pred Dist : \n",
      "1 : 221\n",
      "0 : 127\n",
      "Predicted Label Shape : (348,)\n",
      "True Label Shape : (348,)\n",
      "Predicted Label Shape : (174,)\n",
      "True Label Shape : (174,)\n",
      "Predicted Label Shape : (174,)\n",
      "True Label Shape : (174,)\n",
      "\n",
      "Finished running 'evaluate_st' in 0.0072 mins\n",
      "\n",
      "\n",
      "Finished running 'run_ssda_ST' in 0.3526 mins\n",
      "\n"
     ]
    }
   ],
   "source": [
    "model, epoch_losses, scores_train, scores_test, scores_val = run_ssda_ST(train_n,\n",
    "                                                                         test,\n",
    "                                                                         val,\n",
    "                                                                         lr=0.01,\n",
    "                                                                         epochs=5,\n",
    "                                                                         batch_size=16,\n",
    "                                                                         dropout=0.1,\n",
    "                                                                         cuda_device=torch.device('cuda:1'),\n",
    "                                                                         num_workers=1,\n",
    "                                                                         with_attention=True,\n",
    "                                                                         cp=None,\n",
    "                                                                         avg_type=\"binary\",\n",
    "                                                                         glove=True,\n",
    "                                                                         extreme=False)"
   ]
  },
  {
   "cell_type": "code",
   "execution_count": 61,
   "metadata": {
    "scrolled": true
   },
   "outputs": [
    {
     "data": {
      "text/plain": [
       "defaultdict(<function attm_metrics.calculate_scores_single.<locals>.<lambda>()>,\n",
       "            {'overall': defaultdict(<function attm_metrics.calculate_scores_single.<locals>.<lambda>.<locals>.<lambda>()>,\n",
       "                         {'class_scores': defaultdict(float,\n",
       "                                      {'f1': 0.6481012658227848,\n",
       "                                       'precision': 0.579185520361991,\n",
       "                                       'recall': 0.735632183908046,\n",
       "                                       'accuracy': 0.6005747126436782,\n",
       "                                       'roc_auc': 0.6005747126436781})}),\n",
       "             'cluster1': defaultdict(<function attm_metrics.calculate_scores_single.<locals>.<lambda>.<locals>.<lambda>()>,\n",
       "                         {'class_scores': defaultdict(float,\n",
       "                                      {'f1': 0.6900000000000001,\n",
       "                                       'precision': 0.6106194690265486,\n",
       "                                       'recall': 0.7931034482758621,\n",
       "                                       'accuracy': 0.6436781609195402,\n",
       "                                       'roc_auc': 0.6436781609195402})}),\n",
       "             'cluster2': defaultdict(<function attm_metrics.calculate_scores_single.<locals>.<lambda>.<locals>.<lambda>()>,\n",
       "                         {'class_scores': defaultdict(float,\n",
       "                                      {'f1': 0.6051282051282051,\n",
       "                                       'precision': 0.5462962962962963,\n",
       "                                       'recall': 0.6781609195402298,\n",
       "                                       'accuracy': 0.5574712643678161,\n",
       "                                       'roc_auc': 0.5574712643678161})})})"
      ]
     },
     "execution_count": 61,
     "metadata": {},
     "output_type": "execute_result"
    }
   ],
   "source": [
    "scores_test"
   ]
  },
  {
   "cell_type": "markdown",
   "metadata": {},
   "source": [
    "## Single Task with Attention Bert - Extreme Dataset"
   ]
  },
  {
   "cell_type": "code",
   "execution_count": 62,
   "metadata": {
    "scrolled": true
   },
   "outputs": [
    {
     "name": "stdout",
     "output_type": "stream",
     "text": [
      "Selected data sizes : \n",
      "Train Size : 456.95\n",
      "Test Size : 140.6\n",
      "Val Size : 105.45\n",
      "Percentage of train size for c in c1mix : 411.255\n",
      "Percentage of Val size for c in c1mix : 94.905\n",
      "Percentage of test size for c in c1mix : 70.3\n",
      "\n",
      "Sampled Data Sizes: \n",
      "Train Size : (319, 14)\n",
      "1 : 160\n",
      "0 : 159\n",
      "Test Size : (140, 14)\n",
      "1 : 70\n",
      "0 : 70\n",
      "Val Size : (104, 14)\n",
      "1 : 52\n",
      "0 : 52\n"
     ]
    }
   ],
   "source": [
    "train_e,test,val = split_data_mixed(c1s=[35],c2=36,cluster_2_doc_map=d2c_map_extreme,df=rel_df_extreme,c2_train_perc=0.10)"
   ]
  },
  {
   "cell_type": "code",
   "execution_count": 42,
   "metadata": {
    "scrolled": true
   },
   "outputs": [
    {
     "name": "stderr",
     "output_type": "stream",
     "text": [
      "  0%|          | 0/5 [00:00<?, ?it/s]"
     ]
    },
    {
     "name": "stdout",
     "output_type": "stream",
     "text": [
      "[ Using Seed :  42  ]\n"
     ]
    },
    {
     "name": "stderr",
     "output_type": "stream",
     "text": [
      "100%|██████████| 5/5 [00:03<00:00,  1.25it/s]\n"
     ]
    },
    {
     "name": "stdout",
     "output_type": "stream",
     "text": [
      "Y1 Pred Dist : \n",
      "1 : 93\n",
      "0 : 226\n",
      "Predicted Label Shape : (319,)\n",
      "True Label Shape : (319,)\n",
      "Predicted Label Shape : (274,)\n",
      "True Label Shape : (274,)\n",
      "Predicted Label Shape : (45,)\n",
      "True Label Shape : (45,)\n",
      "\n",
      "Finished running 'evaluate_st' in 0.0060 mins\n",
      "\n",
      "Y1 Pred Dist : \n",
      "1 : 22\n",
      "0 : 82\n",
      "Predicted Label Shape : (104,)\n",
      "True Label Shape : (104,)\n",
      "Predicted Label Shape : (94,)\n",
      "True Label Shape : (94,)\n",
      "Predicted Label Shape : (10,)\n",
      "True Label Shape : (10,)\n",
      "One class predicitions for class labels\n",
      "\n",
      "Finished running 'evaluate_st' in 0.0042 mins\n",
      "\n",
      "Y1 Pred Dist : \n",
      "1 : 17\n",
      "0 : 123\n",
      "Predicted Label Shape : (140,)\n",
      "True Label Shape : (140,)\n",
      "Predicted Label Shape : (70,)\n",
      "True Label Shape : (70,)\n",
      "Predicted Label Shape : (70,)\n",
      "True Label Shape : (70,)\n",
      "\n",
      "Finished running 'evaluate_st' in 0.0150 mins\n",
      "\n",
      "\n",
      "Finished running 'run_ssda_ST' in 0.1780 mins\n",
      "\n"
     ]
    }
   ],
   "source": [
    "model, epoch_losses, scores_train, scores_test, scores_val = run_ssda_ST(train_e,\n",
    "                                                                         test,\n",
    "                                                                         val,\n",
    "                                                                         lr=0.01,\n",
    "                                                                         epochs=5,\n",
    "                                                                         batch_size=16,\n",
    "                                                                         dropout=0.1,\n",
    "                                                                         cuda_device=torch.device('cuda:1'),\n",
    "                                                                         num_workers=1,\n",
    "                                                                         with_attention=True,\n",
    "                                                                         cp=None,\n",
    "                                                                         avg_type=\"binary\",\n",
    "                                                                         glove=False,\n",
    "                                                                         extreme=True)"
   ]
  },
  {
   "cell_type": "code",
   "execution_count": 43,
   "metadata": {
    "scrolled": true
   },
   "outputs": [
    {
     "data": {
      "text/plain": [
       "defaultdict(<function attm_metrics.calculate_scores_single.<locals>.<lambda>()>,\n",
       "            {'overall': defaultdict(<function attm_metrics.calculate_scores_single.<locals>.<lambda>.<locals>.<lambda>()>,\n",
       "                         {'class_scores': defaultdict(float,\n",
       "                                      {'f1': 0.3218390804597701,\n",
       "                                       'precision': 0.8235294117647058,\n",
       "                                       'recall': 0.2,\n",
       "                                       'accuracy': 0.5785714285714286,\n",
       "                                       'roc_auc': 0.5785714285714286})}),\n",
       "             'cluster1': defaultdict(<function attm_metrics.calculate_scores_single.<locals>.<lambda>.<locals>.<lambda>()>,\n",
       "                         {'class_scores': defaultdict(float,\n",
       "                                      {'f1': 0.5106382978723404,\n",
       "                                       'precision': 1.0,\n",
       "                                       'recall': 0.34285714285714286,\n",
       "                                       'accuracy': 0.6714285714285715,\n",
       "                                       'roc_auc': 0.6714285714285714})}),\n",
       "             'cluster2': defaultdict(<function attm_metrics.calculate_scores_single.<locals>.<lambda>.<locals>.<lambda>()>,\n",
       "                         {'class_scores': defaultdict(float,\n",
       "                                      {'f1': 0.09999999999999999,\n",
       "                                       'precision': 0.4,\n",
       "                                       'recall': 0.05714285714285714,\n",
       "                                       'accuracy': 0.48571428571428565,\n",
       "                                       'roc_auc': 0.4857142857142857})})})"
      ]
     },
     "execution_count": 43,
     "metadata": {},
     "output_type": "execute_result"
    }
   ],
   "source": [
    "scores_test"
   ]
  },
  {
   "cell_type": "markdown",
   "metadata": {},
   "source": [
    "## Single Task with Attention Glove - Extreme Dataset"
   ]
  },
  {
   "cell_type": "code",
   "execution_count": 63,
   "metadata": {
    "scrolled": true
   },
   "outputs": [
    {
     "name": "stdout",
     "output_type": "stream",
     "text": [
      "[ Using Seed :  42  ]\n"
     ]
    },
    {
     "name": "stderr",
     "output_type": "stream",
     "text": [
      "100%|██████████| 5/5 [00:05<00:00,  1.06s/it]\n"
     ]
    },
    {
     "name": "stdout",
     "output_type": "stream",
     "text": [
      "Y1 Pred Dist : \n",
      "1 : 160\n",
      "0 : 159\n",
      "Predicted Label Shape : (319,)\n",
      "True Label Shape : (319,)\n",
      "Predicted Label Shape : (274,)\n",
      "True Label Shape : (274,)\n",
      "Predicted Label Shape : (45,)\n",
      "True Label Shape : (45,)\n",
      "\n",
      "Finished running 'evaluate_st' in 0.0069 mins\n",
      "\n",
      "Y1 Pred Dist : \n",
      "1 : 44\n",
      "0 : 60\n",
      "Predicted Label Shape : (104,)\n",
      "True Label Shape : (104,)\n",
      "Predicted Label Shape : (94,)\n",
      "True Label Shape : (94,)\n",
      "Predicted Label Shape : (10,)\n",
      "True Label Shape : (10,)\n",
      "\n",
      "Finished running 'evaluate_st' in 0.0041 mins\n",
      "\n",
      "Y1 Pred Dist : \n",
      "1 : 64\n",
      "0 : 76\n",
      "Predicted Label Shape : (140,)\n",
      "True Label Shape : (140,)\n",
      "Predicted Label Shape : (70,)\n",
      "True Label Shape : (70,)\n",
      "Predicted Label Shape : (70,)\n",
      "True Label Shape : (70,)\n",
      "\n",
      "Finished running 'evaluate_st' in 0.0045 mins\n",
      "\n",
      "\n",
      "Finished running 'run_ssda_ST' in 0.1104 mins\n",
      "\n"
     ]
    }
   ],
   "source": [
    "model, epoch_losses, scores_train, scores_test, scores_val = run_ssda_ST(train_e,\n",
    "                                                                         test,\n",
    "                                                                         val,\n",
    "                                                                         lr=0.01,\n",
    "                                                                         epochs=5,\n",
    "                                                                         batch_size=16,\n",
    "                                                                         dropout=0.1,\n",
    "                                                                         cuda_device=torch.device('cuda:1'),\n",
    "                                                                         num_workers=1,\n",
    "                                                                         with_attention=True,\n",
    "                                                                         cp=None,\n",
    "                                                                         avg_type=\"binary\",\n",
    "                                                                         glove=True,\n",
    "                                                                         extreme=True)"
   ]
  },
  {
   "cell_type": "code",
   "execution_count": 64,
   "metadata": {
    "scrolled": true
   },
   "outputs": [
    {
     "data": {
      "text/plain": [
       "defaultdict(<function attm_metrics.calculate_scores_single.<locals>.<lambda>()>,\n",
       "            {'overall': defaultdict(<function attm_metrics.calculate_scores_single.<locals>.<lambda>.<locals>.<lambda>()>,\n",
       "                         {'class_scores': defaultdict(float,\n",
       "                                      {'f1': 0.5373134328358209,\n",
       "                                       'precision': 0.5625,\n",
       "                                       'recall': 0.5142857142857142,\n",
       "                                       'accuracy': 0.557142857142857,\n",
       "                                       'roc_auc': 0.5571428571428572})}),\n",
       "             'cluster1': defaultdict(<function attm_metrics.calculate_scores_single.<locals>.<lambda>.<locals>.<lambda>()>,\n",
       "                         {'class_scores': defaultdict(float,\n",
       "                                      {'f1': 0.53125,\n",
       "                                       'precision': 0.5862068965517241,\n",
       "                                       'recall': 0.4857142857142857,\n",
       "                                       'accuracy': 0.5714285714285714,\n",
       "                                       'roc_auc': 0.5714285714285714})}),\n",
       "             'cluster2': defaultdict(<function attm_metrics.calculate_scores_single.<locals>.<lambda>.<locals>.<lambda>()>,\n",
       "                         {'class_scores': defaultdict(float,\n",
       "                                      {'f1': 0.5428571428571428,\n",
       "                                       'precision': 0.5428571428571428,\n",
       "                                       'recall': 0.5428571428571428,\n",
       "                                       'accuracy': 0.5428571428571429,\n",
       "                                       'roc_auc': 0.5428571428571428})})})"
      ]
     },
     "execution_count": 64,
     "metadata": {},
     "output_type": "execute_result"
    }
   ],
   "source": [
    "scores_test"
   ]
  },
  {
   "cell_type": "markdown",
   "metadata": {},
   "source": [
    "## Single Task without Attention Bert - Extreme Dataset"
   ]
  },
  {
   "cell_type": "code",
   "execution_count": 65,
   "metadata": {
    "scrolled": true
   },
   "outputs": [
    {
     "name": "stderr",
     "output_type": "stream",
     "text": [
      "  0%|          | 0/5 [00:00<?, ?it/s]"
     ]
    },
    {
     "name": "stdout",
     "output_type": "stream",
     "text": [
      "[ Using Seed :  42  ]\n"
     ]
    },
    {
     "name": "stderr",
     "output_type": "stream",
     "text": [
      "100%|██████████| 5/5 [00:02<00:00,  1.68it/s]\n"
     ]
    },
    {
     "name": "stdout",
     "output_type": "stream",
     "text": [
      "Y1 Pred Dist : \n",
      "1 : 91\n",
      "0 : 228\n",
      "Predicted Label Shape : (319,)\n",
      "True Label Shape : (319,)\n",
      "Predicted Label Shape : (274,)\n",
      "True Label Shape : (274,)\n",
      "Predicted Label Shape : (45,)\n",
      "True Label Shape : (45,)\n",
      "\n",
      "Finished running 'evaluate_st' in 0.0061 mins\n",
      "\n",
      "Y1 Pred Dist : \n",
      "1 : 23\n",
      "0 : 81\n",
      "Predicted Label Shape : (104,)\n",
      "True Label Shape : (104,)\n",
      "Predicted Label Shape : (94,)\n",
      "True Label Shape : (94,)\n",
      "Predicted Label Shape : (10,)\n",
      "True Label Shape : (10,)\n",
      "\n",
      "Finished running 'evaluate_st' in 0.0044 mins\n",
      "\n",
      "Y1 Pred Dist : \n",
      "1 : 26\n",
      "0 : 114\n",
      "Predicted Label Shape : (140,)\n",
      "True Label Shape : (140,)\n",
      "Predicted Label Shape : (70,)\n",
      "True Label Shape : (70,)\n",
      "Predicted Label Shape : (70,)\n",
      "True Label Shape : (70,)\n",
      "\n",
      "Finished running 'evaluate_st' in 0.0068 mins\n",
      "\n",
      "\n",
      "Finished running 'run_ssda_ST' in 0.0686 mins\n",
      "\n"
     ]
    }
   ],
   "source": [
    "model, epoch_losses, scores_train, scores_test, scores_val = run_ssda_ST(train_e,\n",
    "                                                                         test,\n",
    "                                                                         val,\n",
    "                                                                         lr=0.01,\n",
    "                                                                         epochs=5,\n",
    "                                                                         batch_size=16,\n",
    "                                                                         dropout=0.1,\n",
    "                                                                         cuda_device=torch.device('cuda:1'),\n",
    "                                                                         num_workers=1,\n",
    "                                                                         with_attention=False,\n",
    "                                                                         cp=None,\n",
    "                                                                         avg_type=\"binary\",\n",
    "                                                                         glove=False,\n",
    "                                                                         extreme=True)"
   ]
  },
  {
   "cell_type": "code",
   "execution_count": 66,
   "metadata": {
    "scrolled": true
   },
   "outputs": [
    {
     "data": {
      "text/plain": [
       "defaultdict(<function attm_metrics.calculate_scores_single.<locals>.<lambda>()>,\n",
       "            {'overall': defaultdict(<function attm_metrics.calculate_scores_single.<locals>.<lambda>.<locals>.<lambda>()>,\n",
       "                         {'class_scores': defaultdict(float,\n",
       "                                      {'f1': 0.35416666666666663,\n",
       "                                       'precision': 0.6538461538461539,\n",
       "                                       'recall': 0.24285714285714285,\n",
       "                                       'accuracy': 0.5571428571428572,\n",
       "                                       'roc_auc': 0.5571428571428572})}),\n",
       "             'cluster1': defaultdict(<function attm_metrics.calculate_scores_single.<locals>.<lambda>.<locals>.<lambda>()>,\n",
       "                         {'class_scores': defaultdict(float,\n",
       "                                      {'f1': 0.42553191489361697,\n",
       "                                       'precision': 0.8333333333333334,\n",
       "                                       'recall': 0.2857142857142857,\n",
       "                                       'accuracy': 0.6142857142857142,\n",
       "                                       'roc_auc': 0.6142857142857143})}),\n",
       "             'cluster2': defaultdict(<function attm_metrics.calculate_scores_single.<locals>.<lambda>.<locals>.<lambda>()>,\n",
       "                         {'class_scores': defaultdict(float,\n",
       "                                      {'f1': 0.28571428571428575,\n",
       "                                       'precision': 0.5,\n",
       "                                       'recall': 0.2,\n",
       "                                       'accuracy': 0.5,\n",
       "                                       'roc_auc': 0.5})})})"
      ]
     },
     "execution_count": 66,
     "metadata": {},
     "output_type": "execute_result"
    }
   ],
   "source": [
    "scores_test"
   ]
  },
  {
   "cell_type": "markdown",
   "metadata": {},
   "source": [
    "## Single Task without Attention Glove - Extreme Dataset"
   ]
  },
  {
   "cell_type": "code",
   "execution_count": 83,
   "metadata": {
    "scrolled": true
   },
   "outputs": [
    {
     "name": "stdout",
     "output_type": "stream",
     "text": [
      "[ Using Seed :  42  ]\n"
     ]
    },
    {
     "name": "stderr",
     "output_type": "stream",
     "text": [
      "100%|██████████| 5/5 [00:05<00:00,  1.01s/it]\n"
     ]
    },
    {
     "name": "stdout",
     "output_type": "stream",
     "text": [
      "Y1 Pred Dist : \n",
      "1 : 161\n",
      "0 : 158\n",
      "Predicted Label Shape : (319,)\n",
      "True Label Shape : (319,)\n",
      "Predicted Label Shape : (274,)\n",
      "True Label Shape : (274,)\n",
      "Predicted Label Shape : (45,)\n",
      "True Label Shape : (45,)\n",
      "\n",
      "Finished running 'evaluate_st' in 0.0072 mins\n",
      "\n",
      "Y1 Pred Dist : \n",
      "1 : 55\n",
      "0 : 49\n",
      "Predicted Label Shape : (104,)\n",
      "True Label Shape : (104,)\n",
      "Predicted Label Shape : (94,)\n",
      "True Label Shape : (94,)\n",
      "Predicted Label Shape : (10,)\n",
      "True Label Shape : (10,)\n",
      "\n",
      "Finished running 'evaluate_st' in 0.0042 mins\n",
      "\n",
      "Y1 Pred Dist : \n",
      "1 : 82\n",
      "0 : 58\n",
      "Predicted Label Shape : (140,)\n",
      "True Label Shape : (140,)\n",
      "Predicted Label Shape : (70,)\n",
      "True Label Shape : (70,)\n",
      "Predicted Label Shape : (70,)\n",
      "True Label Shape : (70,)\n",
      "\n",
      "Finished running 'evaluate_st' in 0.0049 mins\n",
      "\n",
      "\n",
      "Finished running 'run_ssda_ST' in 0.1083 mins\n",
      "\n"
     ]
    }
   ],
   "source": [
    "model, epoch_losses, scores_train, scores_test, scores_val = run_ssda_ST(train_e,\n",
    "                                                                         test,\n",
    "                                                                         val,\n",
    "                                                                         lr=0.01,\n",
    "                                                                         epochs=5,\n",
    "                                                                         batch_size=16,\n",
    "                                                                         dropout=0.1,\n",
    "                                                                         cuda_device=torch.device('cuda:1'),\n",
    "                                                                         num_workers=1,\n",
    "                                                                         with_attention=False,\n",
    "                                                                         cp=None,\n",
    "                                                                         avg_type=\"binary\",\n",
    "                                                                         glove=True,\n",
    "                                                                         extreme=True)"
   ]
  },
  {
   "cell_type": "code",
   "execution_count": 84,
   "metadata": {
    "scrolled": true
   },
   "outputs": [
    {
     "data": {
      "text/plain": [
       "defaultdict(<function attm_metrics.calculate_scores_single.<locals>.<lambda>()>,\n",
       "            {'overall': defaultdict(<function attm_metrics.calculate_scores_single.<locals>.<lambda>.<locals>.<lambda>()>,\n",
       "                         {'class_scores': defaultdict(float,\n",
       "                                      {'f1': 0.6447368421052633,\n",
       "                                       'precision': 0.5975609756097561,\n",
       "                                       'recall': 0.7,\n",
       "                                       'accuracy': 0.6142857142857143,\n",
       "                                       'roc_auc': 0.6142857142857143})}),\n",
       "             'cluster1': defaultdict(<function attm_metrics.calculate_scores_single.<locals>.<lambda>.<locals>.<lambda>()>,\n",
       "                         {'class_scores': defaultdict(float,\n",
       "                                      {'f1': 0.75,\n",
       "                                       'precision': 0.7297297297297297,\n",
       "                                       'recall': 0.7714285714285715,\n",
       "                                       'accuracy': 0.7428571428571429,\n",
       "                                       'roc_auc': 0.7428571428571429})}),\n",
       "             'cluster2': defaultdict(<function attm_metrics.calculate_scores_single.<locals>.<lambda>.<locals>.<lambda>()>,\n",
       "                         {'class_scores': defaultdict(float,\n",
       "                                      {'f1': 0.5499999999999999,\n",
       "                                       'precision': 0.4888888888888889,\n",
       "                                       'recall': 0.6285714285714286,\n",
       "                                       'accuracy': 0.48571428571428577,\n",
       "                                       'roc_auc': 0.4857142857142857})})})"
      ]
     },
     "execution_count": 84,
     "metadata": {},
     "output_type": "execute_result"
    }
   ],
   "source": [
    "scores_test"
   ]
  },
  {
   "cell_type": "markdown",
   "metadata": {},
   "source": [
    "## MultiTask Bert - Extreme Dataset"
   ]
  },
  {
   "cell_type": "code",
   "execution_count": 85,
   "metadata": {
    "scrolled": true
   },
   "outputs": [
    {
     "name": "stdout",
     "output_type": "stream",
     "text": [
      "Selected data sizes : \n",
      "Train Size : 456.95\n",
      "Test Size : 140.6\n",
      "Val Size : 105.45\n",
      "Percentage of train size for c in c1mix : 411.255\n",
      "Percentage of Val size for c in c1mix : 94.905\n",
      "Percentage of test size for c in c1mix : 70.3\n",
      "\n",
      "Sampled Data Sizes: \n",
      "Train Size : (319, 14)\n",
      "1 : 160\n",
      "0 : 159\n",
      "Test Size : (140, 14)\n",
      "1 : 70\n",
      "0 : 70\n",
      "Val Size : (104, 14)\n",
      "1 : 52\n",
      "0 : 52\n"
     ]
    },
    {
     "name": "stderr",
     "output_type": "stream",
     "text": [
      "100%|██████████| 319/319 [00:02<00:00, 140.61it/s]\n",
      "100%|██████████| 140/140 [00:00<00:00, 141.63it/s]\n",
      "100%|██████████| 104/104 [00:00<00:00, 141.58it/s]\n",
      "  0%|          | 0/5 [00:00<?, ?it/s]"
     ]
    },
    {
     "name": "stdout",
     "output_type": "stream",
     "text": [
      "Number of param combinations : 1\n",
      "Param_setting : 0\n",
      "Running model for ----\n",
      " lr : 0.01\n",
      " epoch : 5\n",
      " batch_size : 16\n",
      " dropout : 0.1\n",
      "\n",
      "[ Using Seed :  42  ]\n"
     ]
    },
    {
     "name": "stderr",
     "output_type": "stream",
     "text": [
      "100%|██████████| 5/5 [00:03<00:00,  1.46it/s]\n"
     ]
    },
    {
     "name": "stdout",
     "output_type": "stream",
     "text": [
      "Y1 Pred Dist : \n",
      "1 : 177\n",
      "0 : 142\n",
      "Y2 Pred Dist : \n",
      "1 : 0\n",
      "0 : 319\n",
      "Predicted Label Shape : (319,)\n",
      "True Label Shape : (319,)\n",
      "One class predictions for word labels\n",
      "ROC Error\n",
      "Predicted Label Shape : (274,)\n",
      "True Label Shape : (274,)\n",
      "One class predictions for word labels\n",
      "ROC Error\n",
      "Predicted Label Shape : (45,)\n",
      "True Label Shape : (45,)\n",
      "One class predictions for word labels\n",
      "ROC Error\n",
      "\n",
      "Finished running 'evaluate_mt' in 0.0065 mins\n",
      "\n",
      "Y1 Pred Dist : \n",
      "1 : 60\n",
      "0 : 44\n",
      "Y2 Pred Dist : \n",
      "1 : 0\n",
      "0 : 104\n",
      "Predicted Label Shape : (104,)\n",
      "True Label Shape : (104,)\n",
      "One class predictions for word labels\n",
      "ROC Error\n",
      "Predicted Label Shape : (94,)\n",
      "True Label Shape : (94,)\n",
      "One class predictions for word labels\n",
      "ROC Error\n",
      "Predicted Label Shape : (10,)\n",
      "True Label Shape : (10,)\n",
      "One class predictions for word labels\n",
      "ROC Error\n",
      "\n",
      "Finished running 'evaluate_mt' in 0.0038 mins\n",
      "\n",
      "Y1 Pred Dist : \n",
      "1 : 80\n",
      "0 : 60\n",
      "Y2 Pred Dist : \n",
      "1 : 0\n",
      "0 : 140\n",
      "Predicted Label Shape : (140,)\n",
      "True Label Shape : (140,)\n",
      "One class predictions for word labels\n",
      "ROC Error\n",
      "Predicted Label Shape : (70,)\n",
      "True Label Shape : (70,)\n",
      "One class predictions for word labels\n",
      "ROC Error\n",
      "Predicted Label Shape : (70,)\n",
      "True Label Shape : (70,)\n",
      "One class predictions for word labels\n",
      "ROC Error\n",
      "\n",
      "Finished running 'evaluate_mt' in 0.0043 mins\n",
      "\n",
      "\n",
      "Finished running 'run_ssda_MT' in 0.0732 mins\n",
      "\n"
     ]
    }
   ],
   "source": [
    "metrics_train,metrics_test,metrics_val, losses_train,model_dict = run_ssda_cp_mt(df=rel_df_extreme,\n",
    "                                                                                 c1s=[35],\n",
    "                                                                                 c2=36,\n",
    "                                                                                 doc_2_cluster_map=d2c_map_extreme,\n",
    "                                                                                c2_train_perc=0.1,\n",
    "                                                                                   learning_rates=[0.01],\n",
    "                                                                                   epochs=[5],\n",
    "                                                                                   word_pred_loss_weights=[0.3],\n",
    "                                                                                   batch_sizes=[16],\n",
    "                                                                                   dropouts=[0.1],\n",
    "                                                                                   l2s=[0.05],\n",
    "                                                                                   cuda_device=torch.device('cuda:1'), \n",
    "                                                                                   return_model=False,\n",
    "                                                                                 avg_type=\"binary\",\n",
    "                                                                                 glove=False,\n",
    "                                                                                 extreme=True)"
   ]
  },
  {
   "cell_type": "code",
   "execution_count": 86,
   "metadata": {},
   "outputs": [
    {
     "data": {
      "text/html": [
       "<div>\n",
       "<style scoped>\n",
       "    .dataframe tbody tr th:only-of-type {\n",
       "        vertical-align: middle;\n",
       "    }\n",
       "\n",
       "    .dataframe tbody tr th {\n",
       "        vertical-align: top;\n",
       "    }\n",
       "\n",
       "    .dataframe thead th {\n",
       "        text-align: right;\n",
       "    }\n",
       "</style>\n",
       "<table border=\"1\" class=\"dataframe\">\n",
       "  <thead>\n",
       "    <tr style=\"text-align: right;\">\n",
       "      <th></th>\n",
       "      <th>Settings</th>\n",
       "      <th>Score_type</th>\n",
       "      <th>Output_type</th>\n",
       "      <th>F1</th>\n",
       "      <th>Precision</th>\n",
       "      <th>Recall</th>\n",
       "      <th>ROC_AUC</th>\n",
       "      <th>Accuracy</th>\n",
       "    </tr>\n",
       "  </thead>\n",
       "  <tbody>\n",
       "    <tr>\n",
       "      <th>0</th>\n",
       "      <td>(0.01, 5, 16, 0.1, 0.3, 0.05)</td>\n",
       "      <td>overall</td>\n",
       "      <td>class_scores</td>\n",
       "      <td>0.653333</td>\n",
       "      <td>0.612500</td>\n",
       "      <td>0.700000</td>\n",
       "      <td>0.628571</td>\n",
       "      <td>0.628571</td>\n",
       "    </tr>\n",
       "    <tr>\n",
       "      <th>2</th>\n",
       "      <td>(0.01, 5, 16, 0.1, 0.3, 0.05)</td>\n",
       "      <td>cluster1</td>\n",
       "      <td>class_scores</td>\n",
       "      <td>0.759494</td>\n",
       "      <td>0.681818</td>\n",
       "      <td>0.857143</td>\n",
       "      <td>0.728571</td>\n",
       "      <td>0.728571</td>\n",
       "    </tr>\n",
       "    <tr>\n",
       "      <th>4</th>\n",
       "      <td>(0.01, 5, 16, 0.1, 0.3, 0.05)</td>\n",
       "      <td>cluster2</td>\n",
       "      <td>class_scores</td>\n",
       "      <td>0.535211</td>\n",
       "      <td>0.527778</td>\n",
       "      <td>0.542857</td>\n",
       "      <td>0.528571</td>\n",
       "      <td>0.528571</td>\n",
       "    </tr>\n",
       "  </tbody>\n",
       "</table>\n",
       "</div>"
      ],
      "text/plain": [
       "                        Settings Score_type   Output_type        F1  \\\n",
       "0  (0.01, 5, 16, 0.1, 0.3, 0.05)    overall  class_scores  0.653333   \n",
       "2  (0.01, 5, 16, 0.1, 0.3, 0.05)   cluster1  class_scores  0.759494   \n",
       "4  (0.01, 5, 16, 0.1, 0.3, 0.05)   cluster2  class_scores  0.535211   \n",
       "\n",
       "   Precision    Recall   ROC_AUC  Accuracy  \n",
       "0   0.612500  0.700000  0.628571  0.628571  \n",
       "2   0.681818  0.857143  0.728571  0.728571  \n",
       "4   0.527778  0.542857  0.528571  0.528571  "
      ]
     },
     "execution_count": 86,
     "metadata": {},
     "output_type": "execute_result"
    }
   ],
   "source": [
    "print_res(metrics_test)"
   ]
  },
  {
   "cell_type": "markdown",
   "metadata": {},
   "source": [
    "## Multitask Glove - Extreme Dataset"
   ]
  },
  {
   "cell_type": "code",
   "execution_count": 120,
   "metadata": {
    "scrolled": true
   },
   "outputs": [
    {
     "name": "stdout",
     "output_type": "stream",
     "text": [
      "Selected data sizes : \n",
      "Train Size : 456.95\n",
      "Test Size : 140.6\n",
      "Val Size : 105.45\n",
      "Percentage of train size for c in c1mix : 411.255\n",
      "Percentage of Val size for c in c1mix : 94.905\n",
      "Percentage of test size for c in c1mix : 70.3\n",
      "\n",
      "Sampled Data Sizes: \n",
      "Train Size : (319, 14)\n",
      "1 : 160\n",
      "0 : 159\n",
      "Test Size : (140, 14)\n",
      "1 : 70\n",
      "0 : 70\n",
      "Val Size : (104, 14)\n",
      "1 : 52\n",
      "0 : 52\n"
     ]
    },
    {
     "name": "stderr",
     "output_type": "stream",
     "text": [
      "100%|██████████| 319/319 [00:02<00:00, 144.69it/s]\n",
      "100%|██████████| 140/140 [00:00<00:00, 144.43it/s]\n",
      "100%|██████████| 104/104 [00:00<00:00, 144.62it/s]\n"
     ]
    },
    {
     "name": "stdout",
     "output_type": "stream",
     "text": [
      "Number of param combinations : 1\n",
      "Param_setting : 0\n",
      "Running model for ----\n",
      " lr : 0.001\n",
      " epoch : 5\n",
      " batch_size : 16\n",
      " dropout : 0.1\n",
      "\n",
      "[ Using Seed :  42  ]\n"
     ]
    },
    {
     "name": "stderr",
     "output_type": "stream",
     "text": [
      "100%|██████████| 5/5 [00:08<00:00,  1.79s/it]\n"
     ]
    },
    {
     "name": "stdout",
     "output_type": "stream",
     "text": [
      "Y1 Pred Dist : \n",
      "1 : 166\n",
      "0 : 153\n",
      "Y2 Pred Dist : \n",
      "1 : 0\n",
      "0 : 319\n",
      "Predicted Label Shape : (319,)\n",
      "True Label Shape : (319,)\n",
      "One class predictions for word labels\n",
      "ROC Error\n",
      "Predicted Label Shape : (274,)\n",
      "True Label Shape : (274,)\n",
      "One class predictions for word labels\n",
      "ROC Error\n",
      "Predicted Label Shape : (45,)\n",
      "True Label Shape : (45,)\n",
      "One class predictions for word labels\n",
      "ROC Error\n",
      "\n",
      "Finished running 'evaluate_mt' in 0.0076 mins\n",
      "\n",
      "Y1 Pred Dist : \n",
      "1 : 48\n",
      "0 : 56\n",
      "Y2 Pred Dist : \n",
      "1 : 0\n",
      "0 : 104\n",
      "Predicted Label Shape : (104,)\n",
      "True Label Shape : (104,)\n",
      "One class predictions for word labels\n",
      "ROC Error\n",
      "Predicted Label Shape : (94,)\n",
      "True Label Shape : (94,)\n",
      "One class predictions for word labels\n",
      "ROC Error\n",
      "Predicted Label Shape : (10,)\n",
      "True Label Shape : (10,)\n",
      "One class predictions for word labels\n",
      "ROC Error\n",
      "\n",
      "Finished running 'evaluate_mt' in 0.0042 mins\n",
      "\n",
      "Y1 Pred Dist : \n",
      "1 : 67\n",
      "0 : 73\n",
      "Y2 Pred Dist : \n",
      "1 : 0\n",
      "0 : 140\n",
      "Predicted Label Shape : (140,)\n",
      "True Label Shape : (140,)\n",
      "One class predictions for word labels\n",
      "ROC Error\n",
      "Predicted Label Shape : (70,)\n",
      "True Label Shape : (70,)\n",
      "One class predictions for word labels\n",
      "ROC Error\n",
      "Predicted Label Shape : (70,)\n",
      "True Label Shape : (70,)\n",
      "One class predictions for word labels\n",
      "ROC Error\n",
      "\n",
      "Finished running 'evaluate_mt' in 0.0049 mins\n",
      "\n",
      "\n",
      "Finished running 'run_ssda_MT' in 0.1721 mins\n",
      "\n"
     ]
    }
   ],
   "source": [
    "metrics_train,metrics_test,metrics_val, losses_train,model_dict = run_ssda_cp_mt(df=rel_df_extreme,\n",
    "                                                                                 c1s=[35],\n",
    "                                                                                 c2=36,\n",
    "                                                                                 doc_2_cluster_map=d2c_map_extreme,\n",
    "                                                                                c2_train_perc=0.1,\n",
    "                                                                                   learning_rates=[0.001],\n",
    "                                                                                   epochs=[5],\n",
    "                                                                                   word_pred_loss_weights=[0.3],\n",
    "                                                                                   batch_sizes=[16],\n",
    "                                                                                   dropouts=[0.1],\n",
    "                                                                                   l2s=[0.05],\n",
    "                                                                                   cuda_device=torch.device('cuda:1'), \n",
    "                                                                                   return_model=False,\n",
    "                                                                                 avg_type=\"binary\",\n",
    "                                                                                 glove=True,\n",
    "                                                                                 extreme=True)"
   ]
  },
  {
   "cell_type": "code",
   "execution_count": 121,
   "metadata": {},
   "outputs": [
    {
     "data": {
      "text/html": [
       "<div>\n",
       "<style scoped>\n",
       "    .dataframe tbody tr th:only-of-type {\n",
       "        vertical-align: middle;\n",
       "    }\n",
       "\n",
       "    .dataframe tbody tr th {\n",
       "        vertical-align: top;\n",
       "    }\n",
       "\n",
       "    .dataframe thead th {\n",
       "        text-align: right;\n",
       "    }\n",
       "</style>\n",
       "<table border=\"1\" class=\"dataframe\">\n",
       "  <thead>\n",
       "    <tr style=\"text-align: right;\">\n",
       "      <th></th>\n",
       "      <th>Settings</th>\n",
       "      <th>Score_type</th>\n",
       "      <th>Output_type</th>\n",
       "      <th>F1</th>\n",
       "      <th>Precision</th>\n",
       "      <th>Recall</th>\n",
       "      <th>ROC_AUC</th>\n",
       "      <th>Accuracy</th>\n",
       "    </tr>\n",
       "  </thead>\n",
       "  <tbody>\n",
       "    <tr>\n",
       "      <th>0</th>\n",
       "      <td>(0.001, 5, 16, 0.1, 0.3, 0.05)</td>\n",
       "      <td>overall</td>\n",
       "      <td>class_scores</td>\n",
       "      <td>0.525547</td>\n",
       "      <td>0.537313</td>\n",
       "      <td>0.514286</td>\n",
       "      <td>0.535714</td>\n",
       "      <td>0.535714</td>\n",
       "    </tr>\n",
       "    <tr>\n",
       "      <th>2</th>\n",
       "      <td>(0.001, 5, 16, 0.1, 0.3, 0.05)</td>\n",
       "      <td>cluster1</td>\n",
       "      <td>class_scores</td>\n",
       "      <td>0.628571</td>\n",
       "      <td>0.628571</td>\n",
       "      <td>0.628571</td>\n",
       "      <td>0.628571</td>\n",
       "      <td>0.628571</td>\n",
       "    </tr>\n",
       "    <tr>\n",
       "      <th>4</th>\n",
       "      <td>(0.001, 5, 16, 0.1, 0.3, 0.05)</td>\n",
       "      <td>cluster2</td>\n",
       "      <td>class_scores</td>\n",
       "      <td>0.417910</td>\n",
       "      <td>0.437500</td>\n",
       "      <td>0.400000</td>\n",
       "      <td>0.442857</td>\n",
       "      <td>0.442857</td>\n",
       "    </tr>\n",
       "  </tbody>\n",
       "</table>\n",
       "</div>"
      ],
      "text/plain": [
       "                         Settings Score_type   Output_type        F1  \\\n",
       "0  (0.001, 5, 16, 0.1, 0.3, 0.05)    overall  class_scores  0.525547   \n",
       "2  (0.001, 5, 16, 0.1, 0.3, 0.05)   cluster1  class_scores  0.628571   \n",
       "4  (0.001, 5, 16, 0.1, 0.3, 0.05)   cluster2  class_scores  0.417910   \n",
       "\n",
       "   Precision    Recall   ROC_AUC  Accuracy  \n",
       "0   0.537313  0.514286  0.535714  0.535714  \n",
       "2   0.628571  0.628571  0.628571  0.628571  \n",
       "4   0.437500  0.400000  0.442857  0.442857  "
      ]
     },
     "execution_count": 121,
     "metadata": {},
     "output_type": "execute_result"
    }
   ],
   "source": [
    "print_res(metrics_test)"
   ]
  },
  {
   "cell_type": "markdown",
   "metadata": {},
   "source": [
    "# Experiments"
   ]
  },
  {
   "cell_type": "code",
   "execution_count": null,
   "metadata": {},
   "outputs": [],
   "source": [
    "26,64,94"
   ]
  },
  {
   "cell_type": "markdown",
   "metadata": {},
   "source": [
    "## Experiment 1 - Bert 2 cluster"
   ]
  },
  {
   "cell_type": "markdown",
   "metadata": {},
   "source": [
    "### Normal Dataset"
   ]
  },
  {
   "cell_type": "markdown",
   "metadata": {},
   "source": [
    "### Single Task without Attention"
   ]
  },
  {
   "cell_type": "code",
   "execution_count": 211,
   "metadata": {
    "scrolled": true
   },
   "outputs": [
    {
     "name": "stdout",
     "output_type": "stream",
     "text": [
      "Selected data sizes : \n",
      "Train Size : 386.75\n",
      "Test Size : 119.0\n",
      "Val Size : 89.25\n",
      "Percentage of train size for c in c1mix : 348.075\n",
      "Percentage of Val size for c in c1mix : 80.325\n",
      "Percentage of test size for c in c1mix : 59.5\n",
      "\n",
      "Sampled Data Sizes: \n",
      "Train Size : (386, 14)\n",
      "1 : 193\n",
      "0 : 193\n",
      "Test Size : (118, 14)\n",
      "1 : 58\n",
      "0 : 60\n",
      "Val Size : (88, 14)\n",
      "1 : 44\n",
      "0 : 44\n",
      "Number of param combinations : 24\n",
      "Param_setting : 0\n",
      "Running model for ----\n",
      " lr : 0.001\n",
      " epoch : 3\n",
      " batch_size : 8\n",
      " dropout : 0.1\n",
      "\n",
      "[ Using Seed :  42  ]\n"
     ]
    },
    {
     "name": "stderr",
     "output_type": "stream",
     "text": [
      "100%|██████████| 3/3 [00:03<00:00,  1.25s/it]\n"
     ]
    },
    {
     "name": "stdout",
     "output_type": "stream",
     "text": [
      "Y1 Pred Dist : \n",
      "1 : 59\n",
      "0 : 327\n",
      "Predicted Label Shape : (386,)\n",
      "True Label Shape : (386,)\n",
      "Predicted Label Shape : (348,)\n",
      "True Label Shape : (348,)\n",
      "Predicted Label Shape : (38,)\n",
      "True Label Shape : (38,)\n",
      "\n",
      "Finished running 'evaluate_st' in 0.0080 mins\n",
      "\n",
      "Y1 Pred Dist : \n",
      "1 : 9\n",
      "0 : 79\n",
      "Predicted Label Shape : (88,)\n",
      "True Label Shape : (88,)\n",
      "Predicted Label Shape : (80,)\n",
      "True Label Shape : (80,)\n",
      "Predicted Label Shape : (8,)\n",
      "True Label Shape : (8,)\n",
      "\n",
      "Finished running 'evaluate_st' in 0.0034 mins\n",
      "\n",
      "Y1 Pred Dist : \n",
      "1 : 6\n",
      "0 : 112\n",
      "Predicted Label Shape : (118,)\n",
      "True Label Shape : (118,)\n",
      "Predicted Label Shape : (59,)\n",
      "True Label Shape : (59,)\n",
      "Predicted Label Shape : (59,)\n",
      "True Label Shape : (59,)\n",
      "\n",
      "Finished running 'evaluate_st' in 0.0039 mins\n",
      "\n",
      "\n",
      "Finished running 'run_ssda_ST' in 0.0845 mins\n",
      "\n",
      "Param_setting : 1\n",
      "Running model for ----\n",
      " lr : 0.001\n",
      " epoch : 3\n",
      " batch_size : 8\n",
      " dropout : 0.3\n",
      "\n",
      "[ Using Seed :  42  ]\n"
     ]
    },
    {
     "name": "stderr",
     "output_type": "stream",
     "text": [
      "100%|██████████| 3/3 [00:03<00:00,  1.25s/it]\n"
     ]
    },
    {
     "name": "stdout",
     "output_type": "stream",
     "text": [
      "Y1 Pred Dist : \n",
      "1 : 59\n",
      "0 : 327\n",
      "Predicted Label Shape : (386,)\n",
      "True Label Shape : (386,)\n",
      "Predicted Label Shape : (348,)\n",
      "True Label Shape : (348,)\n",
      "Predicted Label Shape : (38,)\n",
      "True Label Shape : (38,)\n",
      "\n",
      "Finished running 'evaluate_st' in 0.0080 mins\n",
      "\n",
      "Y1 Pred Dist : \n",
      "1 : 9\n",
      "0 : 79\n",
      "Predicted Label Shape : (88,)\n",
      "True Label Shape : (88,)\n",
      "Predicted Label Shape : (80,)\n",
      "True Label Shape : (80,)\n",
      "Predicted Label Shape : (8,)\n",
      "True Label Shape : (8,)\n",
      "\n",
      "Finished running 'evaluate_st' in 0.0035 mins\n",
      "\n",
      "Y1 Pred Dist : \n",
      "1 : 6\n",
      "0 : 112\n",
      "Predicted Label Shape : (118,)\n",
      "True Label Shape : (118,)\n",
      "Predicted Label Shape : (59,)\n",
      "True Label Shape : (59,)\n",
      "Predicted Label Shape : (59,)\n",
      "True Label Shape : (59,)\n",
      "\n",
      "Finished running 'evaluate_st' in 0.0039 mins\n",
      "\n",
      "\n",
      "Finished running 'run_ssda_ST' in 0.0837 mins\n",
      "\n",
      "Param_setting : 2\n",
      "Running model for ----\n",
      " lr : 0.001\n",
      " epoch : 3\n",
      " batch_size : 16\n",
      " dropout : 0.1\n",
      "\n",
      "[ Using Seed :  42  ]\n"
     ]
    },
    {
     "name": "stderr",
     "output_type": "stream",
     "text": [
      "100%|██████████| 3/3 [00:03<00:00,  1.08s/it]\n"
     ]
    },
    {
     "name": "stdout",
     "output_type": "stream",
     "text": [
      "Y1 Pred Dist : \n",
      "1 : 219\n",
      "0 : 167\n",
      "Predicted Label Shape : (386,)\n",
      "True Label Shape : (386,)\n",
      "Predicted Label Shape : (348,)\n",
      "True Label Shape : (348,)\n",
      "Predicted Label Shape : (38,)\n",
      "True Label Shape : (38,)\n",
      "\n",
      "Finished running 'evaluate_st' in 0.0075 mins\n",
      "\n",
      "Y1 Pred Dist : \n",
      "1 : 46\n",
      "0 : 42\n",
      "Predicted Label Shape : (88,)\n",
      "True Label Shape : (88,)\n",
      "Predicted Label Shape : (80,)\n",
      "True Label Shape : (80,)\n",
      "Predicted Label Shape : (8,)\n",
      "True Label Shape : (8,)\n",
      "\n",
      "Finished running 'evaluate_st' in 0.0035 mins\n",
      "\n",
      "Y1 Pred Dist : \n",
      "1 : 61\n",
      "0 : 57\n",
      "Predicted Label Shape : (118,)\n",
      "True Label Shape : (118,)\n",
      "Predicted Label Shape : (59,)\n",
      "True Label Shape : (59,)\n",
      "Predicted Label Shape : (59,)\n",
      "True Label Shape : (59,)\n",
      "\n",
      "Finished running 'evaluate_st' in 0.0038 mins\n",
      "\n",
      "\n",
      "Finished running 'run_ssda_ST' in 0.0745 mins\n",
      "\n",
      "Param_setting : 3\n",
      "Running model for ----\n",
      " lr : 0.001\n",
      " epoch : 3\n",
      " batch_size : 16\n",
      " dropout : 0.3\n",
      "\n",
      "[ Using Seed :  42  ]\n"
     ]
    },
    {
     "name": "stderr",
     "output_type": "stream",
     "text": [
      "100%|██████████| 3/3 [00:03<00:00,  1.08s/it]\n"
     ]
    },
    {
     "name": "stdout",
     "output_type": "stream",
     "text": [
      "Y1 Pred Dist : \n",
      "1 : 219\n",
      "0 : 167\n",
      "Predicted Label Shape : (386,)\n",
      "True Label Shape : (386,)\n",
      "Predicted Label Shape : (348,)\n",
      "True Label Shape : (348,)\n",
      "Predicted Label Shape : (38,)\n",
      "True Label Shape : (38,)\n",
      "\n",
      "Finished running 'evaluate_st' in 0.0073 mins\n",
      "\n",
      "Y1 Pred Dist : \n",
      "1 : 46\n",
      "0 : 42\n",
      "Predicted Label Shape : (88,)\n",
      "True Label Shape : (88,)\n",
      "Predicted Label Shape : (80,)\n",
      "True Label Shape : (80,)\n",
      "Predicted Label Shape : (8,)\n",
      "True Label Shape : (8,)\n",
      "\n",
      "Finished running 'evaluate_st' in 0.0034 mins\n",
      "\n",
      "Y1 Pred Dist : \n",
      "1 : 61\n",
      "0 : 57\n",
      "Predicted Label Shape : (118,)\n",
      "True Label Shape : (118,)\n",
      "Predicted Label Shape : (59,)\n",
      "True Label Shape : (59,)\n",
      "Predicted Label Shape : (59,)\n",
      "True Label Shape : (59,)\n",
      "\n",
      "Finished running 'evaluate_st' in 0.0040 mins\n",
      "\n",
      "\n",
      "Finished running 'run_ssda_ST' in 0.0743 mins\n",
      "\n",
      "Param_setting : 4\n",
      "Running model for ----\n",
      " lr : 0.001\n",
      " epoch : 5\n",
      " batch_size : 8\n",
      " dropout : 0.1\n",
      "\n",
      "[ Using Seed :  42  ]\n"
     ]
    },
    {
     "name": "stderr",
     "output_type": "stream",
     "text": [
      "100%|██████████| 5/5 [00:06<00:00,  1.25s/it]\n"
     ]
    },
    {
     "name": "stdout",
     "output_type": "stream",
     "text": [
      "Y1 Pred Dist : \n",
      "1 : 328\n",
      "0 : 58\n",
      "Predicted Label Shape : (386,)\n",
      "True Label Shape : (386,)\n",
      "Predicted Label Shape : (348,)\n",
      "True Label Shape : (348,)\n",
      "Predicted Label Shape : (38,)\n",
      "True Label Shape : (38,)\n",
      "\n",
      "Finished running 'evaluate_st' in 0.0079 mins\n",
      "\n",
      "Y1 Pred Dist : \n",
      "1 : 78\n",
      "0 : 10\n",
      "Predicted Label Shape : (88,)\n",
      "True Label Shape : (88,)\n",
      "Predicted Label Shape : (80,)\n",
      "True Label Shape : (80,)\n",
      "Predicted Label Shape : (8,)\n",
      "True Label Shape : (8,)\n",
      "\n",
      "Finished running 'evaluate_st' in 0.0035 mins\n",
      "\n",
      "Y1 Pred Dist : \n",
      "1 : 106\n",
      "0 : 12\n",
      "Predicted Label Shape : (118,)\n",
      "True Label Shape : (118,)\n",
      "Predicted Label Shape : (59,)\n",
      "True Label Shape : (59,)\n",
      "Predicted Label Shape : (59,)\n",
      "True Label Shape : (59,)\n",
      "\n",
      "Finished running 'evaluate_st' in 0.0038 mins\n",
      "\n",
      "\n",
      "Finished running 'run_ssda_ST' in 0.1253 mins\n",
      "\n",
      "Param_setting : 5\n",
      "Running model for ----\n",
      " lr : 0.001\n",
      " epoch : 5\n",
      " batch_size : 8\n",
      " dropout : 0.3\n",
      "\n",
      "[ Using Seed :  42  ]\n"
     ]
    },
    {
     "name": "stderr",
     "output_type": "stream",
     "text": [
      "100%|██████████| 5/5 [00:06<00:00,  1.25s/it]\n"
     ]
    },
    {
     "name": "stdout",
     "output_type": "stream",
     "text": [
      "Y1 Pred Dist : \n",
      "1 : 328\n",
      "0 : 58\n",
      "Predicted Label Shape : (386,)\n",
      "True Label Shape : (386,)\n",
      "Predicted Label Shape : (348,)\n",
      "True Label Shape : (348,)\n",
      "Predicted Label Shape : (38,)\n",
      "True Label Shape : (38,)\n",
      "\n",
      "Finished running 'evaluate_st' in 0.0083 mins\n",
      "\n",
      "Y1 Pred Dist : \n",
      "1 : 78\n",
      "0 : 10\n",
      "Predicted Label Shape : (88,)\n",
      "True Label Shape : (88,)\n",
      "Predicted Label Shape : (80,)\n",
      "True Label Shape : (80,)\n",
      "Predicted Label Shape : (8,)\n",
      "True Label Shape : (8,)\n",
      "\n",
      "Finished running 'evaluate_st' in 0.0034 mins\n",
      "\n",
      "Y1 Pred Dist : \n",
      "1 : 106\n",
      "0 : 12\n",
      "Predicted Label Shape : (118,)\n",
      "True Label Shape : (118,)\n",
      "Predicted Label Shape : (59,)\n",
      "True Label Shape : (59,)\n",
      "Predicted Label Shape : (59,)\n",
      "True Label Shape : (59,)\n",
      "\n",
      "Finished running 'evaluate_st' in 0.0037 mins\n",
      "\n",
      "\n",
      "Finished running 'run_ssda_ST' in 0.1255 mins\n",
      "\n",
      "Param_setting : 6\n",
      "Running model for ----\n",
      " lr : 0.001\n",
      " epoch : 5\n",
      " batch_size : 16\n",
      " dropout : 0.1\n",
      "\n",
      "[ Using Seed :  42  ]\n"
     ]
    },
    {
     "name": "stderr",
     "output_type": "stream",
     "text": [
      "100%|██████████| 5/5 [00:05<00:00,  1.08s/it]\n"
     ]
    },
    {
     "name": "stdout",
     "output_type": "stream",
     "text": [
      "Y1 Pred Dist : \n",
      "1 : 235\n",
      "0 : 151\n",
      "Predicted Label Shape : (386,)\n",
      "True Label Shape : (386,)\n",
      "Predicted Label Shape : (348,)\n",
      "True Label Shape : (348,)\n",
      "Predicted Label Shape : (38,)\n",
      "True Label Shape : (38,)\n",
      "\n",
      "Finished running 'evaluate_st' in 0.0074 mins\n",
      "\n",
      "Y1 Pred Dist : \n",
      "1 : 50\n",
      "0 : 38\n",
      "Predicted Label Shape : (88,)\n",
      "True Label Shape : (88,)\n",
      "Predicted Label Shape : (80,)\n",
      "True Label Shape : (80,)\n",
      "Predicted Label Shape : (8,)\n",
      "True Label Shape : (8,)\n",
      "\n",
      "Finished running 'evaluate_st' in 0.0034 mins\n",
      "\n",
      "Y1 Pred Dist : \n",
      "1 : 66\n",
      "0 : 52\n",
      "Predicted Label Shape : (118,)\n",
      "True Label Shape : (118,)\n",
      "Predicted Label Shape : (59,)\n",
      "True Label Shape : (59,)\n",
      "Predicted Label Shape : (59,)\n",
      "True Label Shape : (59,)\n",
      "\n",
      "Finished running 'evaluate_st' in 0.0039 mins\n",
      "\n",
      "\n",
      "Finished running 'run_ssda_ST' in 0.1098 mins\n",
      "\n",
      "Param_setting : 7\n",
      "Running model for ----\n",
      " lr : 0.001\n",
      " epoch : 5\n",
      " batch_size : 16\n",
      " dropout : 0.3\n",
      "\n",
      "[ Using Seed :  42  ]\n"
     ]
    },
    {
     "name": "stderr",
     "output_type": "stream",
     "text": [
      "100%|██████████| 5/5 [00:05<00:00,  1.07s/it]\n"
     ]
    },
    {
     "name": "stdout",
     "output_type": "stream",
     "text": [
      "Y1 Pred Dist : \n",
      "1 : 235\n",
      "0 : 151\n",
      "Predicted Label Shape : (386,)\n",
      "True Label Shape : (386,)\n",
      "Predicted Label Shape : (348,)\n",
      "True Label Shape : (348,)\n",
      "Predicted Label Shape : (38,)\n",
      "True Label Shape : (38,)\n",
      "\n",
      "Finished running 'evaluate_st' in 0.0073 mins\n",
      "\n",
      "Y1 Pred Dist : \n",
      "1 : 50\n",
      "0 : 38\n",
      "Predicted Label Shape : (88,)\n",
      "True Label Shape : (88,)\n",
      "Predicted Label Shape : (80,)\n",
      "True Label Shape : (80,)\n",
      "Predicted Label Shape : (8,)\n",
      "True Label Shape : (8,)\n",
      "\n",
      "Finished running 'evaluate_st' in 0.0035 mins\n",
      "\n",
      "Y1 Pred Dist : \n",
      "1 : 66\n",
      "0 : 52\n",
      "Predicted Label Shape : (118,)\n",
      "True Label Shape : (118,)\n",
      "Predicted Label Shape : (59,)\n",
      "True Label Shape : (59,)\n",
      "Predicted Label Shape : (59,)\n",
      "True Label Shape : (59,)\n",
      "\n",
      "Finished running 'evaluate_st' in 0.0038 mins\n",
      "\n",
      "\n",
      "Finished running 'run_ssda_ST' in 0.1098 mins\n",
      "\n",
      "Param_setting : 8\n",
      "Running model for ----\n",
      " lr : 0.001\n",
      " epoch : 8\n",
      " batch_size : 8\n",
      " dropout : 0.1\n",
      "\n",
      "[ Using Seed :  42  ]\n"
     ]
    },
    {
     "name": "stderr",
     "output_type": "stream",
     "text": [
      "100%|██████████| 8/8 [00:10<00:00,  1.25s/it]\n"
     ]
    },
    {
     "name": "stdout",
     "output_type": "stream",
     "text": [
      "Y1 Pred Dist : \n",
      "1 : 189\n",
      "0 : 197\n",
      "Predicted Label Shape : (386,)\n",
      "True Label Shape : (386,)\n",
      "Predicted Label Shape : (348,)\n",
      "True Label Shape : (348,)\n",
      "Predicted Label Shape : (38,)\n",
      "True Label Shape : (38,)\n",
      "\n",
      "Finished running 'evaluate_st' in 0.0077 mins\n",
      "\n",
      "Y1 Pred Dist : \n",
      "1 : 42\n",
      "0 : 46\n",
      "Predicted Label Shape : (88,)\n",
      "True Label Shape : (88,)\n",
      "Predicted Label Shape : (80,)\n",
      "True Label Shape : (80,)\n",
      "Predicted Label Shape : (8,)\n",
      "True Label Shape : (8,)\n",
      "\n",
      "Finished running 'evaluate_st' in 0.0034 mins\n",
      "\n",
      "Y1 Pred Dist : \n",
      "1 : 42\n",
      "0 : 76\n",
      "Predicted Label Shape : (118,)\n",
      "True Label Shape : (118,)\n",
      "Predicted Label Shape : (59,)\n",
      "True Label Shape : (59,)\n",
      "Predicted Label Shape : (59,)\n",
      "True Label Shape : (59,)\n",
      "\n",
      "Finished running 'evaluate_st' in 0.0038 mins\n",
      "\n",
      "\n",
      "Finished running 'run_ssda_ST' in 0.1876 mins\n",
      "\n",
      "Param_setting : 9\n",
      "Running model for ----\n",
      " lr : 0.001\n",
      " epoch : 8\n",
      " batch_size : 8\n",
      " dropout : 0.3\n",
      "\n",
      "[ Using Seed :  42  ]\n"
     ]
    },
    {
     "name": "stderr",
     "output_type": "stream",
     "text": [
      "100%|██████████| 8/8 [00:10<00:00,  1.25s/it]\n"
     ]
    },
    {
     "name": "stdout",
     "output_type": "stream",
     "text": [
      "Y1 Pred Dist : \n",
      "1 : 189\n",
      "0 : 197\n",
      "Predicted Label Shape : (386,)\n",
      "True Label Shape : (386,)\n",
      "Predicted Label Shape : (348,)\n",
      "True Label Shape : (348,)\n",
      "Predicted Label Shape : (38,)\n",
      "True Label Shape : (38,)\n",
      "\n",
      "Finished running 'evaluate_st' in 0.0082 mins\n",
      "\n",
      "Y1 Pred Dist : \n",
      "1 : 42\n",
      "0 : 46\n",
      "Predicted Label Shape : (88,)\n",
      "True Label Shape : (88,)\n",
      "Predicted Label Shape : (80,)\n",
      "True Label Shape : (80,)\n",
      "Predicted Label Shape : (8,)\n",
      "True Label Shape : (8,)\n",
      "\n",
      "Finished running 'evaluate_st' in 0.0036 mins\n",
      "\n",
      "Y1 Pred Dist : \n",
      "1 : 42\n",
      "0 : 76\n",
      "Predicted Label Shape : (118,)\n",
      "True Label Shape : (118,)\n",
      "Predicted Label Shape : (59,)\n",
      "True Label Shape : (59,)\n",
      "Predicted Label Shape : (59,)\n",
      "True Label Shape : (59,)\n",
      "\n",
      "Finished running 'evaluate_st' in 0.0039 mins\n",
      "\n",
      "\n",
      "Finished running 'run_ssda_ST' in 0.1881 mins\n",
      "\n",
      "Param_setting : 10\n",
      "Running model for ----\n",
      " lr : 0.001\n",
      " epoch : 8\n",
      " batch_size : 16\n",
      " dropout : 0.1\n",
      "\n",
      "[ Using Seed :  42  ]\n"
     ]
    },
    {
     "name": "stderr",
     "output_type": "stream",
     "text": [
      "100%|██████████| 8/8 [00:08<00:00,  1.08s/it]\n"
     ]
    },
    {
     "name": "stdout",
     "output_type": "stream",
     "text": [
      "Y1 Pred Dist : \n",
      "1 : 197\n",
      "0 : 189\n",
      "Predicted Label Shape : (386,)\n",
      "True Label Shape : (386,)\n",
      "Predicted Label Shape : (348,)\n",
      "True Label Shape : (348,)\n",
      "Predicted Label Shape : (38,)\n",
      "True Label Shape : (38,)\n",
      "\n",
      "Finished running 'evaluate_st' in 0.0075 mins\n",
      "\n",
      "Y1 Pred Dist : \n",
      "1 : 42\n",
      "0 : 46\n",
      "Predicted Label Shape : (88,)\n",
      "True Label Shape : (88,)\n",
      "Predicted Label Shape : (80,)\n",
      "True Label Shape : (80,)\n",
      "Predicted Label Shape : (8,)\n",
      "True Label Shape : (8,)\n",
      "\n",
      "Finished running 'evaluate_st' in 0.0035 mins\n",
      "\n",
      "Y1 Pred Dist : \n",
      "1 : 46\n",
      "0 : 72\n",
      "Predicted Label Shape : (118,)\n",
      "True Label Shape : (118,)\n",
      "Predicted Label Shape : (59,)\n",
      "True Label Shape : (59,)\n",
      "Predicted Label Shape : (59,)\n",
      "True Label Shape : (59,)\n",
      "\n",
      "Finished running 'evaluate_st' in 0.0039 mins\n",
      "\n",
      "\n",
      "Finished running 'run_ssda_ST' in 0.1642 mins\n",
      "\n",
      "Param_setting : 11\n",
      "Running model for ----\n",
      " lr : 0.001\n",
      " epoch : 8\n",
      " batch_size : 16\n",
      " dropout : 0.3\n",
      "\n",
      "[ Using Seed :  42  ]\n"
     ]
    },
    {
     "name": "stderr",
     "output_type": "stream",
     "text": [
      "100%|██████████| 8/8 [00:08<00:00,  1.07s/it]\n"
     ]
    },
    {
     "name": "stdout",
     "output_type": "stream",
     "text": [
      "Y1 Pred Dist : \n",
      "1 : 197\n",
      "0 : 189\n",
      "Predicted Label Shape : (386,)\n",
      "True Label Shape : (386,)\n",
      "Predicted Label Shape : (348,)\n",
      "True Label Shape : (348,)\n",
      "Predicted Label Shape : (38,)\n",
      "True Label Shape : (38,)\n",
      "\n",
      "Finished running 'evaluate_st' in 0.0076 mins\n",
      "\n",
      "Y1 Pred Dist : \n",
      "1 : 42\n",
      "0 : 46\n",
      "Predicted Label Shape : (88,)\n",
      "True Label Shape : (88,)\n",
      "Predicted Label Shape : (80,)\n",
      "True Label Shape : (80,)\n",
      "Predicted Label Shape : (8,)\n",
      "True Label Shape : (8,)\n",
      "\n",
      "Finished running 'evaluate_st' in 0.0035 mins\n",
      "\n",
      "Y1 Pred Dist : \n",
      "1 : 46\n",
      "0 : 72\n",
      "Predicted Label Shape : (118,)\n",
      "True Label Shape : (118,)\n",
      "Predicted Label Shape : (59,)\n",
      "True Label Shape : (59,)\n",
      "Predicted Label Shape : (59,)\n",
      "True Label Shape : (59,)\n",
      "\n",
      "Finished running 'evaluate_st' in 0.0038 mins\n",
      "\n",
      "\n",
      "Finished running 'run_ssda_ST' in 0.1637 mins\n",
      "\n",
      "Param_setting : 12\n",
      "Running model for ----\n",
      " lr : 0.01\n",
      " epoch : 3\n",
      " batch_size : 8\n",
      " dropout : 0.1\n",
      "\n",
      "[ Using Seed :  42  ]\n"
     ]
    },
    {
     "name": "stderr",
     "output_type": "stream",
     "text": [
      "100%|██████████| 3/3 [00:03<00:00,  1.25s/it]\n"
     ]
    },
    {
     "name": "stdout",
     "output_type": "stream",
     "text": [
      "Y1 Pred Dist : \n",
      "1 : 192\n",
      "0 : 194\n",
      "Predicted Label Shape : (386,)\n",
      "True Label Shape : (386,)\n",
      "Predicted Label Shape : (348,)\n",
      "True Label Shape : (348,)\n",
      "Predicted Label Shape : (38,)\n",
      "True Label Shape : (38,)\n",
      "\n",
      "Finished running 'evaluate_st' in 0.0077 mins\n",
      "\n",
      "Y1 Pred Dist : \n",
      "1 : 39\n",
      "0 : 49\n",
      "Predicted Label Shape : (88,)\n",
      "True Label Shape : (88,)\n",
      "Predicted Label Shape : (80,)\n",
      "True Label Shape : (80,)\n",
      "Predicted Label Shape : (8,)\n",
      "True Label Shape : (8,)\n",
      "\n",
      "Finished running 'evaluate_st' in 0.0036 mins\n",
      "\n",
      "Y1 Pred Dist : \n",
      "1 : 39\n",
      "0 : 79\n",
      "Predicted Label Shape : (118,)\n",
      "True Label Shape : (118,)\n",
      "Predicted Label Shape : (59,)\n",
      "True Label Shape : (59,)\n",
      "Predicted Label Shape : (59,)\n",
      "True Label Shape : (59,)\n",
      "\n",
      "Finished running 'evaluate_st' in 0.0037 mins\n",
      "\n",
      "\n",
      "Finished running 'run_ssda_ST' in 0.0833 mins\n",
      "\n",
      "Param_setting : 13\n",
      "Running model for ----\n",
      " lr : 0.01\n",
      " epoch : 3\n",
      " batch_size : 8\n",
      " dropout : 0.3\n",
      "\n",
      "[ Using Seed :  42  ]\n"
     ]
    },
    {
     "name": "stderr",
     "output_type": "stream",
     "text": [
      "100%|██████████| 3/3 [00:03<00:00,  1.26s/it]\n"
     ]
    },
    {
     "name": "stdout",
     "output_type": "stream",
     "text": [
      "Y1 Pred Dist : \n",
      "1 : 192\n",
      "0 : 194\n",
      "Predicted Label Shape : (386,)\n",
      "True Label Shape : (386,)\n",
      "Predicted Label Shape : (348,)\n",
      "True Label Shape : (348,)\n",
      "Predicted Label Shape : (38,)\n",
      "True Label Shape : (38,)\n",
      "\n",
      "Finished running 'evaluate_st' in 0.0079 mins\n",
      "\n",
      "Y1 Pred Dist : \n",
      "1 : 39\n",
      "0 : 49\n",
      "Predicted Label Shape : (88,)\n",
      "True Label Shape : (88,)\n",
      "Predicted Label Shape : (80,)\n",
      "True Label Shape : (80,)\n",
      "Predicted Label Shape : (8,)\n",
      "True Label Shape : (8,)\n",
      "\n",
      "Finished running 'evaluate_st' in 0.0035 mins\n",
      "\n",
      "Y1 Pred Dist : \n",
      "1 : 39\n",
      "0 : 79\n",
      "Predicted Label Shape : (118,)\n",
      "True Label Shape : (118,)\n",
      "Predicted Label Shape : (59,)\n",
      "True Label Shape : (59,)\n",
      "Predicted Label Shape : (59,)\n",
      "True Label Shape : (59,)\n",
      "\n",
      "Finished running 'evaluate_st' in 0.0038 mins\n",
      "\n",
      "\n",
      "Finished running 'run_ssda_ST' in 0.0835 mins\n",
      "\n",
      "Param_setting : 14\n",
      "Running model for ----\n",
      " lr : 0.01\n",
      " epoch : 3\n",
      " batch_size : 16\n",
      " dropout : 0.1\n",
      "\n",
      "[ Using Seed :  42  ]\n"
     ]
    },
    {
     "name": "stderr",
     "output_type": "stream",
     "text": [
      "100%|██████████| 3/3 [00:03<00:00,  1.08s/it]\n"
     ]
    },
    {
     "name": "stdout",
     "output_type": "stream",
     "text": [
      "Y1 Pred Dist : \n",
      "1 : 187\n",
      "0 : 199\n",
      "Predicted Label Shape : (386,)\n",
      "True Label Shape : (386,)\n",
      "Predicted Label Shape : (348,)\n",
      "True Label Shape : (348,)\n",
      "Predicted Label Shape : (38,)\n",
      "True Label Shape : (38,)\n",
      "\n",
      "Finished running 'evaluate_st' in 0.0075 mins\n",
      "\n",
      "Y1 Pred Dist : \n",
      "1 : 39\n",
      "0 : 49\n",
      "Predicted Label Shape : (88,)\n",
      "True Label Shape : (88,)\n",
      "Predicted Label Shape : (80,)\n",
      "True Label Shape : (80,)\n",
      "Predicted Label Shape : (8,)\n",
      "True Label Shape : (8,)\n",
      "\n",
      "Finished running 'evaluate_st' in 0.0035 mins\n",
      "\n",
      "Y1 Pred Dist : \n",
      "1 : 45\n",
      "0 : 73\n",
      "Predicted Label Shape : (118,)\n",
      "True Label Shape : (118,)\n",
      "Predicted Label Shape : (59,)\n",
      "True Label Shape : (59,)\n",
      "Predicted Label Shape : (59,)\n",
      "True Label Shape : (59,)\n",
      "\n",
      "Finished running 'evaluate_st' in 0.0037 mins\n",
      "\n",
      "\n",
      "Finished running 'run_ssda_ST' in 0.0742 mins\n",
      "\n",
      "Param_setting : 15\n",
      "Running model for ----\n",
      " lr : 0.01\n",
      " epoch : 3\n",
      " batch_size : 16\n",
      " dropout : 0.3\n",
      "\n",
      "[ Using Seed :  42  ]\n"
     ]
    },
    {
     "name": "stderr",
     "output_type": "stream",
     "text": [
      "100%|██████████| 3/3 [00:03<00:00,  1.08s/it]\n"
     ]
    },
    {
     "name": "stdout",
     "output_type": "stream",
     "text": [
      "Y1 Pred Dist : \n",
      "1 : 187\n",
      "0 : 199\n",
      "Predicted Label Shape : (386,)\n",
      "True Label Shape : (386,)\n",
      "Predicted Label Shape : (348,)\n",
      "True Label Shape : (348,)\n",
      "Predicted Label Shape : (38,)\n",
      "True Label Shape : (38,)\n",
      "\n",
      "Finished running 'evaluate_st' in 0.0075 mins\n",
      "\n",
      "Y1 Pred Dist : \n",
      "1 : 39\n",
      "0 : 49\n",
      "Predicted Label Shape : (88,)\n",
      "True Label Shape : (88,)\n",
      "Predicted Label Shape : (80,)\n",
      "True Label Shape : (80,)\n",
      "Predicted Label Shape : (8,)\n",
      "True Label Shape : (8,)\n",
      "\n",
      "Finished running 'evaluate_st' in 0.0038 mins\n",
      "\n",
      "Y1 Pred Dist : \n",
      "1 : 45\n",
      "0 : 73\n",
      "Predicted Label Shape : (118,)\n",
      "True Label Shape : (118,)\n",
      "Predicted Label Shape : (59,)\n",
      "True Label Shape : (59,)\n",
      "Predicted Label Shape : (59,)\n",
      "True Label Shape : (59,)\n",
      "\n",
      "Finished running 'evaluate_st' in 0.0041 mins\n",
      "\n",
      "\n",
      "Finished running 'run_ssda_ST' in 0.0751 mins\n",
      "\n",
      "Param_setting : 16\n",
      "Running model for ----\n",
      " lr : 0.01\n",
      " epoch : 5\n",
      " batch_size : 8\n",
      " dropout : 0.1\n",
      "\n",
      "[ Using Seed :  42  ]\n"
     ]
    },
    {
     "name": "stderr",
     "output_type": "stream",
     "text": [
      "100%|██████████| 5/5 [00:06<00:00,  1.25s/it]\n"
     ]
    },
    {
     "name": "stdout",
     "output_type": "stream",
     "text": [
      "Y1 Pred Dist : \n",
      "1 : 193\n",
      "0 : 193\n",
      "Predicted Label Shape : (386,)\n",
      "True Label Shape : (386,)\n",
      "Predicted Label Shape : (348,)\n",
      "True Label Shape : (348,)\n",
      "Predicted Label Shape : (38,)\n",
      "True Label Shape : (38,)\n",
      "\n",
      "Finished running 'evaluate_st' in 0.0080 mins\n",
      "\n",
      "Y1 Pred Dist : \n",
      "1 : 53\n",
      "0 : 35\n",
      "Predicted Label Shape : (88,)\n",
      "True Label Shape : (88,)\n",
      "Predicted Label Shape : (80,)\n",
      "True Label Shape : (80,)\n",
      "Predicted Label Shape : (8,)\n",
      "True Label Shape : (8,)\n",
      "\n",
      "Finished running 'evaluate_st' in 0.0035 mins\n",
      "\n",
      "Y1 Pred Dist : \n",
      "1 : 68\n",
      "0 : 50\n",
      "Predicted Label Shape : (118,)\n",
      "True Label Shape : (118,)\n",
      "Predicted Label Shape : (59,)\n",
      "True Label Shape : (59,)\n",
      "Predicted Label Shape : (59,)\n",
      "True Label Shape : (59,)\n",
      "\n",
      "Finished running 'evaluate_st' in 0.0038 mins\n",
      "\n",
      "\n",
      "Finished running 'run_ssda_ST' in 0.1256 mins\n",
      "\n",
      "Param_setting : 17\n",
      "Running model for ----\n",
      " lr : 0.01\n",
      " epoch : 5\n",
      " batch_size : 8\n",
      " dropout : 0.3\n",
      "\n",
      "[ Using Seed :  42  ]\n"
     ]
    },
    {
     "name": "stderr",
     "output_type": "stream",
     "text": [
      "100%|██████████| 5/5 [00:06<00:00,  1.25s/it]\n"
     ]
    },
    {
     "name": "stdout",
     "output_type": "stream",
     "text": [
      "Y1 Pred Dist : \n",
      "1 : 193\n",
      "0 : 193\n",
      "Predicted Label Shape : (386,)\n",
      "True Label Shape : (386,)\n",
      "Predicted Label Shape : (348,)\n",
      "True Label Shape : (348,)\n",
      "Predicted Label Shape : (38,)\n",
      "True Label Shape : (38,)\n",
      "\n",
      "Finished running 'evaluate_st' in 0.0079 mins\n",
      "\n",
      "Y1 Pred Dist : \n",
      "1 : 53\n",
      "0 : 35\n",
      "Predicted Label Shape : (88,)\n",
      "True Label Shape : (88,)\n",
      "Predicted Label Shape : (80,)\n",
      "True Label Shape : (80,)\n",
      "Predicted Label Shape : (8,)\n",
      "True Label Shape : (8,)\n",
      "\n",
      "Finished running 'evaluate_st' in 0.0034 mins\n",
      "\n",
      "Y1 Pred Dist : \n",
      "1 : 68\n",
      "0 : 50\n",
      "Predicted Label Shape : (118,)\n",
      "True Label Shape : (118,)\n",
      "Predicted Label Shape : (59,)\n",
      "True Label Shape : (59,)\n",
      "Predicted Label Shape : (59,)\n",
      "True Label Shape : (59,)\n",
      "\n",
      "Finished running 'evaluate_st' in 0.0038 mins\n",
      "\n",
      "\n",
      "Finished running 'run_ssda_ST' in 0.1254 mins\n",
      "\n",
      "Param_setting : 18\n",
      "Running model for ----\n",
      " lr : 0.01\n",
      " epoch : 5\n",
      " batch_size : 16\n",
      " dropout : 0.1\n",
      "\n",
      "[ Using Seed :  42  ]\n"
     ]
    },
    {
     "name": "stderr",
     "output_type": "stream",
     "text": [
      "100%|██████████| 5/5 [00:05<00:00,  1.07s/it]\n"
     ]
    },
    {
     "name": "stdout",
     "output_type": "stream",
     "text": [
      "Y1 Pred Dist : \n",
      "1 : 194\n",
      "0 : 192\n",
      "Predicted Label Shape : (386,)\n",
      "True Label Shape : (386,)\n",
      "Predicted Label Shape : (348,)\n",
      "True Label Shape : (348,)\n",
      "Predicted Label Shape : (38,)\n",
      "True Label Shape : (38,)\n",
      "\n",
      "Finished running 'evaluate_st' in 0.0076 mins\n",
      "\n",
      "Y1 Pred Dist : \n",
      "1 : 58\n",
      "0 : 30\n",
      "Predicted Label Shape : (88,)\n",
      "True Label Shape : (88,)\n",
      "Predicted Label Shape : (80,)\n",
      "True Label Shape : (80,)\n",
      "Predicted Label Shape : (8,)\n",
      "True Label Shape : (8,)\n",
      "\n",
      "Finished running 'evaluate_st' in 0.0035 mins\n",
      "\n",
      "Y1 Pred Dist : \n",
      "1 : 71\n",
      "0 : 47\n",
      "Predicted Label Shape : (118,)\n",
      "True Label Shape : (118,)\n",
      "Predicted Label Shape : (59,)\n",
      "True Label Shape : (59,)\n",
      "Predicted Label Shape : (59,)\n",
      "True Label Shape : (59,)\n",
      "\n",
      "Finished running 'evaluate_st' in 0.0038 mins\n",
      "\n",
      "\n",
      "Finished running 'run_ssda_ST' in 0.1100 mins\n",
      "\n",
      "Param_setting : 19\n",
      "Running model for ----\n",
      " lr : 0.01\n",
      " epoch : 5\n",
      " batch_size : 16\n",
      " dropout : 0.3\n",
      "\n",
      "[ Using Seed :  42  ]\n"
     ]
    },
    {
     "name": "stderr",
     "output_type": "stream",
     "text": [
      "100%|██████████| 5/5 [00:05<00:00,  1.07s/it]\n"
     ]
    },
    {
     "name": "stdout",
     "output_type": "stream",
     "text": [
      "Y1 Pred Dist : \n",
      "1 : 194\n",
      "0 : 192\n",
      "Predicted Label Shape : (386,)\n",
      "True Label Shape : (386,)\n",
      "Predicted Label Shape : (348,)\n",
      "True Label Shape : (348,)\n",
      "Predicted Label Shape : (38,)\n",
      "True Label Shape : (38,)\n",
      "\n",
      "Finished running 'evaluate_st' in 0.0076 mins\n",
      "\n",
      "Y1 Pred Dist : \n",
      "1 : 58\n",
      "0 : 30\n",
      "Predicted Label Shape : (88,)\n",
      "True Label Shape : (88,)\n",
      "Predicted Label Shape : (80,)\n",
      "True Label Shape : (80,)\n",
      "Predicted Label Shape : (8,)\n",
      "True Label Shape : (8,)\n",
      "\n",
      "Finished running 'evaluate_st' in 0.0035 mins\n",
      "\n",
      "Y1 Pred Dist : \n",
      "1 : 71\n",
      "0 : 47\n",
      "Predicted Label Shape : (118,)\n",
      "True Label Shape : (118,)\n",
      "Predicted Label Shape : (59,)\n",
      "True Label Shape : (59,)\n",
      "Predicted Label Shape : (59,)\n",
      "True Label Shape : (59,)\n",
      "\n",
      "Finished running 'evaluate_st' in 0.0038 mins\n",
      "\n",
      "\n",
      "Finished running 'run_ssda_ST' in 0.1097 mins\n",
      "\n",
      "Param_setting : 20\n",
      "Running model for ----\n",
      " lr : 0.01\n",
      " epoch : 8\n",
      " batch_size : 8\n",
      " dropout : 0.1\n",
      "\n",
      "[ Using Seed :  42  ]\n"
     ]
    },
    {
     "name": "stderr",
     "output_type": "stream",
     "text": [
      "100%|██████████| 8/8 [00:10<00:00,  1.25s/it]\n"
     ]
    },
    {
     "name": "stdout",
     "output_type": "stream",
     "text": [
      "Y1 Pred Dist : \n",
      "1 : 193\n",
      "0 : 193\n",
      "Predicted Label Shape : (386,)\n",
      "True Label Shape : (386,)\n",
      "Predicted Label Shape : (348,)\n",
      "True Label Shape : (348,)\n",
      "Predicted Label Shape : (38,)\n",
      "True Label Shape : (38,)\n",
      "\n",
      "Finished running 'evaluate_st' in 0.0080 mins\n",
      "\n",
      "Y1 Pred Dist : \n",
      "1 : 46\n",
      "0 : 42\n",
      "Predicted Label Shape : (88,)\n",
      "True Label Shape : (88,)\n",
      "Predicted Label Shape : (80,)\n",
      "True Label Shape : (80,)\n",
      "Predicted Label Shape : (8,)\n",
      "True Label Shape : (8,)\n",
      "\n",
      "Finished running 'evaluate_st' in 0.0036 mins\n",
      "\n",
      "Y1 Pred Dist : \n",
      "1 : 56\n",
      "0 : 62\n",
      "Predicted Label Shape : (118,)\n",
      "True Label Shape : (118,)\n",
      "Predicted Label Shape : (59,)\n",
      "True Label Shape : (59,)\n",
      "Predicted Label Shape : (59,)\n",
      "True Label Shape : (59,)\n",
      "\n",
      "Finished running 'evaluate_st' in 0.0038 mins\n",
      "\n",
      "\n",
      "Finished running 'run_ssda_ST' in 0.1881 mins\n",
      "\n",
      "Param_setting : 21\n",
      "Running model for ----\n",
      " lr : 0.01\n",
      " epoch : 8\n",
      " batch_size : 8\n",
      " dropout : 0.3\n",
      "\n",
      "[ Using Seed :  42  ]\n"
     ]
    },
    {
     "name": "stderr",
     "output_type": "stream",
     "text": [
      "100%|██████████| 8/8 [00:10<00:00,  1.25s/it]\n"
     ]
    },
    {
     "name": "stdout",
     "output_type": "stream",
     "text": [
      "Y1 Pred Dist : \n",
      "1 : 193\n",
      "0 : 193\n",
      "Predicted Label Shape : (386,)\n",
      "True Label Shape : (386,)\n",
      "Predicted Label Shape : (348,)\n",
      "True Label Shape : (348,)\n",
      "Predicted Label Shape : (38,)\n",
      "True Label Shape : (38,)\n",
      "\n",
      "Finished running 'evaluate_st' in 0.0079 mins\n",
      "\n",
      "Y1 Pred Dist : \n",
      "1 : 46\n",
      "0 : 42\n",
      "Predicted Label Shape : (88,)\n",
      "True Label Shape : (88,)\n",
      "Predicted Label Shape : (80,)\n",
      "True Label Shape : (80,)\n",
      "Predicted Label Shape : (8,)\n",
      "True Label Shape : (8,)\n",
      "\n",
      "Finished running 'evaluate_st' in 0.0034 mins\n",
      "\n",
      "Y1 Pred Dist : \n",
      "1 : 56\n",
      "0 : 62\n",
      "Predicted Label Shape : (118,)\n",
      "True Label Shape : (118,)\n",
      "Predicted Label Shape : (59,)\n",
      "True Label Shape : (59,)\n",
      "Predicted Label Shape : (59,)\n",
      "True Label Shape : (59,)\n",
      "\n",
      "Finished running 'evaluate_st' in 0.0038 mins\n",
      "\n",
      "\n",
      "Finished running 'run_ssda_ST' in 0.1880 mins\n",
      "\n",
      "Param_setting : 22\n",
      "Running model for ----\n",
      " lr : 0.01\n",
      " epoch : 8\n",
      " batch_size : 16\n",
      " dropout : 0.1\n",
      "\n",
      "[ Using Seed :  42  ]\n"
     ]
    },
    {
     "name": "stderr",
     "output_type": "stream",
     "text": [
      "100%|██████████| 8/8 [00:08<00:00,  1.08s/it]\n"
     ]
    },
    {
     "name": "stdout",
     "output_type": "stream",
     "text": [
      "Y1 Pred Dist : \n",
      "1 : 193\n",
      "0 : 193\n",
      "Predicted Label Shape : (386,)\n",
      "True Label Shape : (386,)\n",
      "Predicted Label Shape : (348,)\n",
      "True Label Shape : (348,)\n",
      "Predicted Label Shape : (38,)\n",
      "True Label Shape : (38,)\n",
      "\n",
      "Finished running 'evaluate_st' in 0.0073 mins\n",
      "\n",
      "Y1 Pred Dist : \n",
      "1 : 44\n",
      "0 : 44\n",
      "Predicted Label Shape : (88,)\n",
      "True Label Shape : (88,)\n",
      "Predicted Label Shape : (80,)\n",
      "True Label Shape : (80,)\n",
      "Predicted Label Shape : (8,)\n",
      "True Label Shape : (8,)\n",
      "\n",
      "Finished running 'evaluate_st' in 0.0034 mins\n",
      "\n",
      "Y1 Pred Dist : \n",
      "1 : 56\n",
      "0 : 62\n",
      "Predicted Label Shape : (118,)\n",
      "True Label Shape : (118,)\n",
      "Predicted Label Shape : (59,)\n",
      "True Label Shape : (59,)\n",
      "Predicted Label Shape : (59,)\n",
      "True Label Shape : (59,)\n",
      "\n",
      "Finished running 'evaluate_st' in 0.0039 mins\n",
      "\n",
      "\n",
      "Finished running 'run_ssda_ST' in 0.1636 mins\n",
      "\n",
      "Param_setting : 23\n",
      "Running model for ----\n",
      " lr : 0.01\n",
      " epoch : 8\n",
      " batch_size : 16\n",
      " dropout : 0.3\n",
      "\n",
      "[ Using Seed :  42  ]\n"
     ]
    },
    {
     "name": "stderr",
     "output_type": "stream",
     "text": [
      "100%|██████████| 8/8 [00:08<00:00,  1.07s/it]\n"
     ]
    },
    {
     "name": "stdout",
     "output_type": "stream",
     "text": [
      "Y1 Pred Dist : \n",
      "1 : 193\n",
      "0 : 193\n",
      "Predicted Label Shape : (386,)\n",
      "True Label Shape : (386,)\n",
      "Predicted Label Shape : (348,)\n",
      "True Label Shape : (348,)\n",
      "Predicted Label Shape : (38,)\n",
      "True Label Shape : (38,)\n",
      "\n",
      "Finished running 'evaluate_st' in 0.0075 mins\n",
      "\n",
      "Y1 Pred Dist : \n",
      "1 : 44\n",
      "0 : 44\n",
      "Predicted Label Shape : (88,)\n",
      "True Label Shape : (88,)\n",
      "Predicted Label Shape : (80,)\n",
      "True Label Shape : (80,)\n",
      "Predicted Label Shape : (8,)\n",
      "True Label Shape : (8,)\n",
      "\n",
      "Finished running 'evaluate_st' in 0.0034 mins\n",
      "\n",
      "Y1 Pred Dist : \n",
      "1 : 56\n",
      "0 : 62\n",
      "Predicted Label Shape : (118,)\n",
      "True Label Shape : (118,)\n",
      "Predicted Label Shape : (59,)\n",
      "True Label Shape : (59,)\n",
      "Predicted Label Shape : (59,)\n",
      "True Label Shape : (59,)\n",
      "\n",
      "Finished running 'evaluate_st' in 0.0038 mins\n",
      "\n",
      "\n",
      "Finished running 'run_ssda_ST' in 0.1632 mins\n",
      "\n"
     ]
    }
   ],
   "source": [
    "metrics_train,metrics_test,metrics_val, losses_train,model_dict = run_ssda_cp_st(df=rel_df_extreme,\n",
    "                                                                                 c1s=[28],\n",
    "                                                                                 c2=35,\n",
    "                                                                                 doc_2_cluster_map=d2c_map_extreme,\n",
    "                                                                                   c2_train_perc=0.1,\n",
    "                                                                                   learning_rates=[0.001,0.01],\n",
    "                                                                                   epochs=[3,5,8],\n",
    "                                                                                   batch_sizes=[8,16],\n",
    "                                                                                   dropouts=[0.1,0.3],\n",
    "                                                                                   with_attention=False,\n",
    "                                                                                   cuda_device=torch.device('cuda:1'), \n",
    "                                                                                   return_model=False,\n",
    "                                                                                 avg_type=\"binary\",\n",
    "                                                                                 glove=True,\n",
    "                                                                                 extreme=True)"
   ]
  },
  {
   "cell_type": "code",
   "execution_count": 212,
   "metadata": {},
   "outputs": [
    {
     "data": {
      "text/html": [
       "<div>\n",
       "<style scoped>\n",
       "    .dataframe tbody tr th:only-of-type {\n",
       "        vertical-align: middle;\n",
       "    }\n",
       "\n",
       "    .dataframe tbody tr th {\n",
       "        vertical-align: top;\n",
       "    }\n",
       "\n",
       "    .dataframe thead th {\n",
       "        text-align: right;\n",
       "    }\n",
       "</style>\n",
       "<table border=\"1\" class=\"dataframe\">\n",
       "  <thead>\n",
       "    <tr style=\"text-align: right;\">\n",
       "      <th></th>\n",
       "      <th>Settings</th>\n",
       "      <th>Score_type</th>\n",
       "      <th>Output_type</th>\n",
       "      <th>F1</th>\n",
       "      <th>Precision</th>\n",
       "      <th>Recall</th>\n",
       "      <th>ROC_AUC</th>\n",
       "      <th>Accuracy</th>\n",
       "    </tr>\n",
       "  </thead>\n",
       "  <tbody>\n",
       "    <tr>\n",
       "      <th>60</th>\n",
       "      <td>(0.01, 8, 8, 0.1)</td>\n",
       "      <td>overall</td>\n",
       "      <td>class_scores</td>\n",
       "      <td>0.800000</td>\n",
       "      <td>0.782609</td>\n",
       "      <td>0.818182</td>\n",
       "      <td>0.795455</td>\n",
       "      <td>0.795455</td>\n",
       "    </tr>\n",
       "    <tr>\n",
       "      <th>61</th>\n",
       "      <td>(0.01, 8, 8, 0.1)</td>\n",
       "      <td>cluster1</td>\n",
       "      <td>class_scores</td>\n",
       "      <td>0.829268</td>\n",
       "      <td>0.809524</td>\n",
       "      <td>0.850000</td>\n",
       "      <td>0.825000</td>\n",
       "      <td>0.825000</td>\n",
       "    </tr>\n",
       "    <tr>\n",
       "      <th>62</th>\n",
       "      <td>(0.01, 8, 8, 0.1)</td>\n",
       "      <td>cluster2</td>\n",
       "      <td>class_scores</td>\n",
       "      <td>0.500000</td>\n",
       "      <td>0.500000</td>\n",
       "      <td>0.500000</td>\n",
       "      <td>0.500000</td>\n",
       "      <td>0.500000</td>\n",
       "    </tr>\n",
       "  </tbody>\n",
       "</table>\n",
       "</div>"
      ],
      "text/plain": [
       "             Settings Score_type   Output_type        F1  Precision    Recall  \\\n",
       "60  (0.01, 8, 8, 0.1)    overall  class_scores  0.800000   0.782609  0.818182   \n",
       "61  (0.01, 8, 8, 0.1)   cluster1  class_scores  0.829268   0.809524  0.850000   \n",
       "62  (0.01, 8, 8, 0.1)   cluster2  class_scores  0.500000   0.500000  0.500000   \n",
       "\n",
       "     ROC_AUC  Accuracy  \n",
       "60  0.795455  0.795455  \n",
       "61  0.825000  0.825000  \n",
       "62  0.500000  0.500000  "
      ]
     },
     "execution_count": 212,
     "metadata": {},
     "output_type": "execute_result"
    }
   ],
   "source": [
    "select_top_settings(metrics_val,metric_type=\"F1\")"
   ]
  },
  {
   "cell_type": "code",
   "execution_count": 213,
   "metadata": {},
   "outputs": [
    {
     "data": {
      "text/html": [
       "<div>\n",
       "<style scoped>\n",
       "    .dataframe tbody tr th:only-of-type {\n",
       "        vertical-align: middle;\n",
       "    }\n",
       "\n",
       "    .dataframe tbody tr th {\n",
       "        vertical-align: top;\n",
       "    }\n",
       "\n",
       "    .dataframe thead th {\n",
       "        text-align: right;\n",
       "    }\n",
       "</style>\n",
       "<table border=\"1\" class=\"dataframe\">\n",
       "  <thead>\n",
       "    <tr style=\"text-align: right;\">\n",
       "      <th></th>\n",
       "      <th>Settings</th>\n",
       "      <th>Score_type</th>\n",
       "      <th>Output_type</th>\n",
       "      <th>F1</th>\n",
       "      <th>Precision</th>\n",
       "      <th>Recall</th>\n",
       "      <th>ROC_AUC</th>\n",
       "      <th>Accuracy</th>\n",
       "    </tr>\n",
       "  </thead>\n",
       "  <tbody>\n",
       "    <tr>\n",
       "      <th>60</th>\n",
       "      <td>(0.01, 8, 8, 0.1)</td>\n",
       "      <td>overall</td>\n",
       "      <td>class_scores</td>\n",
       "      <td>0.800000</td>\n",
       "      <td>0.782609</td>\n",
       "      <td>0.818182</td>\n",
       "      <td>0.795455</td>\n",
       "      <td>0.795455</td>\n",
       "    </tr>\n",
       "    <tr>\n",
       "      <th>61</th>\n",
       "      <td>(0.01, 8, 8, 0.1)</td>\n",
       "      <td>cluster1</td>\n",
       "      <td>class_scores</td>\n",
       "      <td>0.829268</td>\n",
       "      <td>0.809524</td>\n",
       "      <td>0.850000</td>\n",
       "      <td>0.825000</td>\n",
       "      <td>0.825000</td>\n",
       "    </tr>\n",
       "    <tr>\n",
       "      <th>62</th>\n",
       "      <td>(0.01, 8, 8, 0.1)</td>\n",
       "      <td>cluster2</td>\n",
       "      <td>class_scores</td>\n",
       "      <td>0.500000</td>\n",
       "      <td>0.500000</td>\n",
       "      <td>0.500000</td>\n",
       "      <td>0.500000</td>\n",
       "      <td>0.500000</td>\n",
       "    </tr>\n",
       "  </tbody>\n",
       "</table>\n",
       "</div>"
      ],
      "text/plain": [
       "             Settings Score_type   Output_type        F1  Precision    Recall  \\\n",
       "60  (0.01, 8, 8, 0.1)    overall  class_scores  0.800000   0.782609  0.818182   \n",
       "61  (0.01, 8, 8, 0.1)   cluster1  class_scores  0.829268   0.809524  0.850000   \n",
       "62  (0.01, 8, 8, 0.1)   cluster2  class_scores  0.500000   0.500000  0.500000   \n",
       "\n",
       "     ROC_AUC  Accuracy  \n",
       "60  0.795455  0.795455  \n",
       "61  0.825000  0.825000  \n",
       "62  0.500000  0.500000  "
      ]
     },
     "execution_count": 213,
     "metadata": {},
     "output_type": "execute_result"
    }
   ],
   "source": [
    "select_top_settings(metrics_val,metric_type=\"Accuracy\")"
   ]
  },
  {
   "cell_type": "code",
   "execution_count": 215,
   "metadata": {},
   "outputs": [
    {
     "data": {
      "text/html": [
       "<div>\n",
       "<style scoped>\n",
       "    .dataframe tbody tr th:only-of-type {\n",
       "        vertical-align: middle;\n",
       "    }\n",
       "\n",
       "    .dataframe tbody tr th {\n",
       "        vertical-align: top;\n",
       "    }\n",
       "\n",
       "    .dataframe thead th {\n",
       "        text-align: right;\n",
       "    }\n",
       "</style>\n",
       "<table border=\"1\" class=\"dataframe\">\n",
       "  <thead>\n",
       "    <tr style=\"text-align: right;\">\n",
       "      <th></th>\n",
       "      <th>Settings</th>\n",
       "      <th>Score_type</th>\n",
       "      <th>Output_type</th>\n",
       "      <th>F1</th>\n",
       "      <th>Precision</th>\n",
       "      <th>Recall</th>\n",
       "      <th>ROC_AUC</th>\n",
       "      <th>Accuracy</th>\n",
       "    </tr>\n",
       "  </thead>\n",
       "  <tbody>\n",
       "    <tr>\n",
       "      <th>60</th>\n",
       "      <td>(0.01, 8, 8, 0.1)</td>\n",
       "      <td>overall</td>\n",
       "      <td>class_scores</td>\n",
       "      <td>0.631579</td>\n",
       "      <td>0.642857</td>\n",
       "      <td>0.620690</td>\n",
       "      <td>0.644068</td>\n",
       "      <td>0.643678</td>\n",
       "    </tr>\n",
       "    <tr>\n",
       "      <th>61</th>\n",
       "      <td>(0.01, 8, 8, 0.1)</td>\n",
       "      <td>cluster1</td>\n",
       "      <td>class_scores</td>\n",
       "      <td>0.848485</td>\n",
       "      <td>0.756757</td>\n",
       "      <td>0.965517</td>\n",
       "      <td>0.830508</td>\n",
       "      <td>0.832759</td>\n",
       "    </tr>\n",
       "    <tr>\n",
       "      <th>62</th>\n",
       "      <td>(0.01, 8, 8, 0.1)</td>\n",
       "      <td>cluster2</td>\n",
       "      <td>class_scores</td>\n",
       "      <td>0.333333</td>\n",
       "      <td>0.421053</td>\n",
       "      <td>0.275862</td>\n",
       "      <td>0.457627</td>\n",
       "      <td>0.454598</td>\n",
       "    </tr>\n",
       "  </tbody>\n",
       "</table>\n",
       "</div>"
      ],
      "text/plain": [
       "             Settings Score_type   Output_type        F1  Precision    Recall  \\\n",
       "60  (0.01, 8, 8, 0.1)    overall  class_scores  0.631579   0.642857  0.620690   \n",
       "61  (0.01, 8, 8, 0.1)   cluster1  class_scores  0.848485   0.756757  0.965517   \n",
       "62  (0.01, 8, 8, 0.1)   cluster2  class_scores  0.333333   0.421053  0.275862   \n",
       "\n",
       "     ROC_AUC  Accuracy  \n",
       "60  0.644068  0.643678  \n",
       "61  0.830508  0.832759  \n",
       "62  0.457627  0.454598  "
      ]
     },
     "execution_count": 215,
     "metadata": {},
     "output_type": "execute_result"
    }
   ],
   "source": [
    "test_res_df = print_res(metrics_test)\n",
    "test_res_df.loc[test_res_df.Settings == (0.01, 8, 8, 0.1)]"
   ]
  },
  {
   "cell_type": "code",
   "execution_count": 130,
   "metadata": {},
   "outputs": [
    {
     "data": {
      "image/png": "[encoded data removed]",
      "text/plain": [
       "<Figure size 1800x720 with 1 Axes>"
      ]
     },
     "metadata": {
      "needs_background": "light"
     },
     "output_type": "display_data"
    }
   ],
   "source": [
    "plot_epoch_loss(losses_train[(0.01, 5, 8, 0.1)])"
   ]
  },
  {
   "cell_type": "markdown",
   "metadata": {},
   "source": [
    "### Singlet Task with Attention"
   ]
  },
  {
   "cell_type": "code",
   "execution_count": null,
   "metadata": {},
   "outputs": [],
   "source": [
    "(0.01, 3, 16, 0.1)"
   ]
  },
  {
   "cell_type": "code",
   "execution_count": 342,
   "metadata": {
    "scrolled": true
   },
   "outputs": [
    {
     "name": "stderr",
     "output_type": "stream",
     "text": [
      "  0%|          | 0/3 [00:00<?, ?it/s]"
     ]
    },
    {
     "name": "stdout",
     "output_type": "stream",
     "text": [
      "Selected data sizes : \n",
      "Train Size : 1136.8500000000001\n",
      "Test Size : 349.8\n",
      "Val Size : 262.34999999999997\n",
      "Percentage of train size for c in c1mix : 1023.1650000000002\n",
      "Percentage of Val size for c in c1mix : 236.11499999999998\n",
      "Percentage of test size for c in c1mix : 174.9\n",
      "\n",
      "Sampled Data Sizes: \n",
      "Train Size : (1136, 14)\n",
      "1 : 569\n",
      "0 : 567\n",
      "Test Size : (348, 14)\n",
      "1 : 174\n",
      "0 : 174\n",
      "Val Size : (262, 14)\n",
      "1 : 131\n",
      "0 : 131\n",
      "Number of param combinations : 1\n",
      "Param_setting : 0\n",
      "Running model for ----\n",
      " lr : 0.01\n",
      " epoch : 3\n",
      " batch_size : 16\n",
      " dropout : 0.1\n",
      "\n",
      "[ Using Seed :  42  ]\n"
     ]
    },
    {
     "name": "stderr",
     "output_type": "stream",
     "text": [
      "100%|██████████| 3/3 [00:04<00:00,  1.53s/it]\n"
     ]
    },
    {
     "name": "stdout",
     "output_type": "stream",
     "text": [
      "Y1 Pred Dist : \n",
      "1 : 889\n",
      "0 : 247\n",
      "Predicted Label Shape : (1136,)\n",
      "True Label Shape : (1136,)\n",
      "Predicted Label Shape : (1023,)\n",
      "True Label Shape : (1023,)\n",
      "Predicted Label Shape : (113,)\n",
      "True Label Shape : (113,)\n",
      "\n",
      "Finished running 'evaluate_st' in 0.0184 mins\n",
      "\n",
      "Y1 Pred Dist : \n",
      "1 : 206\n",
      "0 : 56\n",
      "Predicted Label Shape : (262,)\n",
      "True Label Shape : (262,)\n",
      "Predicted Label Shape : (236,)\n",
      "True Label Shape : (236,)\n",
      "Predicted Label Shape : (26,)\n",
      "True Label Shape : (26,)\n",
      "\n",
      "Finished running 'evaluate_st' in 0.0073 mins\n",
      "\n",
      "Y1 Pred Dist : \n",
      "1 : 293\n",
      "0 : 55\n",
      "Predicted Label Shape : (348,)\n",
      "True Label Shape : (348,)\n",
      "Predicted Label Shape : (174,)\n",
      "True Label Shape : (174,)\n",
      "Predicted Label Shape : (174,)\n",
      "True Label Shape : (174,)\n",
      "\n",
      "Finished running 'evaluate_st' in 0.0084 mins\n",
      "\n",
      "\n",
      "Finished running 'run_ssda_ST' in 0.1121 mins\n",
      "\n"
     ]
    }
   ],
   "source": [
    "metrics_train,metrics_test,metrics_val, losses_train,model_dict = run_ssda_cp_st(df=rel_df,\n",
    "                                                                                 c1s=[77],\n",
    "                                                                                 c2=26,\n",
    "                                                                                 doc_2_cluster_map=d2c_map,\n",
    "                                                                                   c2_train_perc=0.1,\n",
    "                                                                                   learning_rates=[0.01],\n",
    "                                                                                   epochs=[3],\n",
    "                                                                                   batch_sizes=[16],\n",
    "                                                                                   dropouts=[0.1],\n",
    "                                                                                   with_attention=True,\n",
    "                                                                                   cuda_device=torch.device('cuda:1'), \n",
    "                                                                                   return_model=True,\n",
    "                                                                                 avg_type=\"binary\",\n",
    "                                                                                 glove=False,\n",
    "                                                                                 extreme=False)"
   ]
  },
  {
   "cell_type": "code",
   "execution_count": 343,
   "metadata": {},
   "outputs": [],
   "source": [
    "attm_s_model = model_dict[(0.01, 3, 16, 0.1)]"
   ]
  },
  {
   "cell_type": "code",
   "execution_count": 221,
   "metadata": {},
   "outputs": [
    {
     "data": {
      "text/html": [
       "<div>\n",
       "<style scoped>\n",
       "    .dataframe tbody tr th:only-of-type {\n",
       "        vertical-align: middle;\n",
       "    }\n",
       "\n",
       "    .dataframe tbody tr th {\n",
       "        vertical-align: top;\n",
       "    }\n",
       "\n",
       "    .dataframe thead th {\n",
       "        text-align: right;\n",
       "    }\n",
       "</style>\n",
       "<table border=\"1\" class=\"dataframe\">\n",
       "  <thead>\n",
       "    <tr style=\"text-align: right;\">\n",
       "      <th></th>\n",
       "      <th>Settings</th>\n",
       "      <th>Score_type</th>\n",
       "      <th>Output_type</th>\n",
       "      <th>F1</th>\n",
       "      <th>Precision</th>\n",
       "      <th>Recall</th>\n",
       "      <th>ROC_AUC</th>\n",
       "      <th>Accuracy</th>\n",
       "    </tr>\n",
       "  </thead>\n",
       "  <tbody>\n",
       "    <tr>\n",
       "      <th>42</th>\n",
       "      <td>(0.01, 3, 16, 0.1)</td>\n",
       "      <td>overall</td>\n",
       "      <td>class_scores</td>\n",
       "      <td>0.767677</td>\n",
       "      <td>0.690909</td>\n",
       "      <td>0.863636</td>\n",
       "      <td>0.738636</td>\n",
       "      <td>0.738636</td>\n",
       "    </tr>\n",
       "    <tr>\n",
       "      <th>43</th>\n",
       "      <td>(0.01, 3, 16, 0.1)</td>\n",
       "      <td>cluster1</td>\n",
       "      <td>class_scores</td>\n",
       "      <td>0.800000</td>\n",
       "      <td>0.720000</td>\n",
       "      <td>0.900000</td>\n",
       "      <td>0.775000</td>\n",
       "      <td>0.775000</td>\n",
       "    </tr>\n",
       "    <tr>\n",
       "      <th>44</th>\n",
       "      <td>(0.01, 3, 16, 0.1)</td>\n",
       "      <td>cluster2</td>\n",
       "      <td>class_scores</td>\n",
       "      <td>0.444444</td>\n",
       "      <td>0.400000</td>\n",
       "      <td>0.500000</td>\n",
       "      <td>0.375000</td>\n",
       "      <td>0.375000</td>\n",
       "    </tr>\n",
       "  </tbody>\n",
       "</table>\n",
       "</div>"
      ],
      "text/plain": [
       "              Settings Score_type   Output_type        F1  Precision  \\\n",
       "42  (0.01, 3, 16, 0.1)    overall  class_scores  0.767677   0.690909   \n",
       "43  (0.01, 3, 16, 0.1)   cluster1  class_scores  0.800000   0.720000   \n",
       "44  (0.01, 3, 16, 0.1)   cluster2  class_scores  0.444444   0.400000   \n",
       "\n",
       "      Recall   ROC_AUC  Accuracy  \n",
       "42  0.863636  0.738636  0.738636  \n",
       "43  0.900000  0.775000  0.775000  \n",
       "44  0.500000  0.375000  0.375000  "
      ]
     },
     "execution_count": 221,
     "metadata": {},
     "output_type": "execute_result"
    }
   ],
   "source": [
    "select_top_settings(metrics_val,metric_type=\"F1\")"
   ]
  },
  {
   "cell_type": "code",
   "execution_count": 222,
   "metadata": {},
   "outputs": [
    {
     "data": {
      "text/html": [
       "<div>\n",
       "<style scoped>\n",
       "    .dataframe tbody tr th:only-of-type {\n",
       "        vertical-align: middle;\n",
       "    }\n",
       "\n",
       "    .dataframe tbody tr th {\n",
       "        vertical-align: top;\n",
       "    }\n",
       "\n",
       "    .dataframe thead th {\n",
       "        text-align: right;\n",
       "    }\n",
       "</style>\n",
       "<table border=\"1\" class=\"dataframe\">\n",
       "  <thead>\n",
       "    <tr style=\"text-align: right;\">\n",
       "      <th></th>\n",
       "      <th>Settings</th>\n",
       "      <th>Score_type</th>\n",
       "      <th>Output_type</th>\n",
       "      <th>F1</th>\n",
       "      <th>Precision</th>\n",
       "      <th>Recall</th>\n",
       "      <th>ROC_AUC</th>\n",
       "      <th>Accuracy</th>\n",
       "    </tr>\n",
       "  </thead>\n",
       "  <tbody>\n",
       "    <tr>\n",
       "      <th>42</th>\n",
       "      <td>(0.01, 3, 16, 0.1)</td>\n",
       "      <td>overall</td>\n",
       "      <td>class_scores</td>\n",
       "      <td>0.767677</td>\n",
       "      <td>0.690909</td>\n",
       "      <td>0.863636</td>\n",
       "      <td>0.738636</td>\n",
       "      <td>0.738636</td>\n",
       "    </tr>\n",
       "    <tr>\n",
       "      <th>43</th>\n",
       "      <td>(0.01, 3, 16, 0.1)</td>\n",
       "      <td>cluster1</td>\n",
       "      <td>class_scores</td>\n",
       "      <td>0.800000</td>\n",
       "      <td>0.720000</td>\n",
       "      <td>0.900000</td>\n",
       "      <td>0.775000</td>\n",
       "      <td>0.775000</td>\n",
       "    </tr>\n",
       "    <tr>\n",
       "      <th>44</th>\n",
       "      <td>(0.01, 3, 16, 0.1)</td>\n",
       "      <td>cluster2</td>\n",
       "      <td>class_scores</td>\n",
       "      <td>0.444444</td>\n",
       "      <td>0.400000</td>\n",
       "      <td>0.500000</td>\n",
       "      <td>0.375000</td>\n",
       "      <td>0.375000</td>\n",
       "    </tr>\n",
       "  </tbody>\n",
       "</table>\n",
       "</div>"
      ],
      "text/plain": [
       "              Settings Score_type   Output_type        F1  Precision  \\\n",
       "42  (0.01, 3, 16, 0.1)    overall  class_scores  0.767677   0.690909   \n",
       "43  (0.01, 3, 16, 0.1)   cluster1  class_scores  0.800000   0.720000   \n",
       "44  (0.01, 3, 16, 0.1)   cluster2  class_scores  0.444444   0.400000   \n",
       "\n",
       "      Recall   ROC_AUC  Accuracy  \n",
       "42  0.863636  0.738636  0.738636  \n",
       "43  0.900000  0.775000  0.775000  \n",
       "44  0.500000  0.375000  0.375000  "
      ]
     },
     "execution_count": 222,
     "metadata": {},
     "output_type": "execute_result"
    }
   ],
   "source": [
    "select_top_settings(metrics_val,metric_type=\"Accuracy\")"
   ]
  },
  {
   "cell_type": "code",
   "execution_count": 223,
   "metadata": {},
   "outputs": [
    {
     "data": {
      "text/html": [
       "<div>\n",
       "<style scoped>\n",
       "    .dataframe tbody tr th:only-of-type {\n",
       "        vertical-align: middle;\n",
       "    }\n",
       "\n",
       "    .dataframe tbody tr th {\n",
       "        vertical-align: top;\n",
       "    }\n",
       "\n",
       "    .dataframe thead th {\n",
       "        text-align: right;\n",
       "    }\n",
       "</style>\n",
       "<table border=\"1\" class=\"dataframe\">\n",
       "  <thead>\n",
       "    <tr style=\"text-align: right;\">\n",
       "      <th></th>\n",
       "      <th>Settings</th>\n",
       "      <th>Score_type</th>\n",
       "      <th>Output_type</th>\n",
       "      <th>F1</th>\n",
       "      <th>Precision</th>\n",
       "      <th>Recall</th>\n",
       "      <th>ROC_AUC</th>\n",
       "      <th>Accuracy</th>\n",
       "    </tr>\n",
       "  </thead>\n",
       "  <tbody>\n",
       "    <tr>\n",
       "      <th>42</th>\n",
       "      <td>(0.01, 3, 16, 0.1)</td>\n",
       "      <td>overall</td>\n",
       "      <td>class_scores</td>\n",
       "      <td>0.610169</td>\n",
       "      <td>0.600000</td>\n",
       "      <td>0.620690</td>\n",
       "      <td>0.610169</td>\n",
       "      <td>0.610345</td>\n",
       "    </tr>\n",
       "    <tr>\n",
       "      <th>43</th>\n",
       "      <td>(0.01, 3, 16, 0.1)</td>\n",
       "      <td>cluster1</td>\n",
       "      <td>class_scores</td>\n",
       "      <td>0.709677</td>\n",
       "      <td>0.666667</td>\n",
       "      <td>0.758621</td>\n",
       "      <td>0.694915</td>\n",
       "      <td>0.695977</td>\n",
       "    </tr>\n",
       "    <tr>\n",
       "      <th>44</th>\n",
       "      <td>(0.01, 3, 16, 0.1)</td>\n",
       "      <td>cluster2</td>\n",
       "      <td>class_scores</td>\n",
       "      <td>0.500000</td>\n",
       "      <td>0.518519</td>\n",
       "      <td>0.482759</td>\n",
       "      <td>0.525424</td>\n",
       "      <td>0.524713</td>\n",
       "    </tr>\n",
       "  </tbody>\n",
       "</table>\n",
       "</div>"
      ],
      "text/plain": [
       "              Settings Score_type   Output_type        F1  Precision  \\\n",
       "42  (0.01, 3, 16, 0.1)    overall  class_scores  0.610169   0.600000   \n",
       "43  (0.01, 3, 16, 0.1)   cluster1  class_scores  0.709677   0.666667   \n",
       "44  (0.01, 3, 16, 0.1)   cluster2  class_scores  0.500000   0.518519   \n",
       "\n",
       "      Recall   ROC_AUC  Accuracy  \n",
       "42  0.620690  0.610169  0.610345  \n",
       "43  0.758621  0.694915  0.695977  \n",
       "44  0.482759  0.525424  0.524713  "
      ]
     },
     "execution_count": 223,
     "metadata": {},
     "output_type": "execute_result"
    }
   ],
   "source": [
    "test_res_df = print_res(metrics_test)\n",
    "test_res_df.loc[test_res_df.Settings == (0.01, 3, 16, 0.1)]"
   ]
  },
  {
   "cell_type": "code",
   "execution_count": 193,
   "metadata": {},
   "outputs": [
    {
     "data": {
      "image/png": "[encoded data removed]",
      "text/plain": [
       "<Figure size 1800x720 with 1 Axes>"
      ]
     },
     "metadata": {
      "needs_background": "light"
     },
     "output_type": "display_data"
    }
   ],
   "source": [
    "plot_epoch_loss(losses_train[(0.001, 3, 8, 0.1)])"
   ]
  },
  {
   "cell_type": "markdown",
   "metadata": {},
   "source": [
    "### Multitask With Attention"
   ]
  },
  {
   "cell_type": "code",
   "execution_count": null,
   "metadata": {},
   "outputs": [],
   "source": [
    "(0.001, 8, 16, 0.3, 0.3, 0.05)"
   ]
  },
  {
   "cell_type": "code",
   "execution_count": 359,
   "metadata": {
    "scrolled": true
   },
   "outputs": [
    {
     "name": "stdout",
     "output_type": "stream",
     "text": [
      "Selected data sizes : \n",
      "Train Size : 1136.8500000000001\n",
      "Test Size : 349.8\n",
      "Val Size : 262.34999999999997\n",
      "Percentage of train size for c in c1mix : 1023.1650000000002\n",
      "Percentage of Val size for c in c1mix : 236.11499999999998\n",
      "Percentage of test size for c in c1mix : 174.9\n",
      "\n",
      "Sampled Data Sizes: \n",
      "Train Size : (1136, 14)\n",
      "1 : 569\n",
      "0 : 567\n",
      "Test Size : (348, 14)\n",
      "1 : 174\n",
      "0 : 174\n",
      "Val Size : (262, 14)\n",
      "1 : 131\n",
      "0 : 131\n"
     ]
    },
    {
     "name": "stderr",
     "output_type": "stream",
     "text": [
      "100%|██████████| 1136/1136 [00:07<00:00, 148.89it/s]\n",
      "100%|██████████| 348/348 [00:02<00:00, 145.85it/s]\n",
      "100%|██████████| 262/262 [00:01<00:00, 147.84it/s]\n",
      "  0%|          | 0/8 [00:00<?, ?it/s]"
     ]
    },
    {
     "name": "stdout",
     "output_type": "stream",
     "text": [
      "Number of param combinations : 1\n",
      "Param_setting : 0\n",
      "Running model for ----\n",
      " lr : 0.001\n",
      " epoch : 8\n",
      " batch_size : 16\n",
      " dropout : 0.3\n",
      "\n",
      "[ Using Seed :  42  ]\n"
     ]
    },
    {
     "name": "stderr",
     "output_type": "stream",
     "text": [
      "100%|██████████| 8/8 [00:14<00:00,  1.75s/it]\n"
     ]
    },
    {
     "name": "stdout",
     "output_type": "stream",
     "text": [
      "Y1 Pred Dist : \n",
      "1 : 514\n",
      "0 : 622\n",
      "Y2 Pred Dist : \n",
      "1 : 0\n",
      "0 : 1136\n",
      "Predicted Label Shape : (1136,)\n",
      "True Label Shape : (1136,)\n",
      "One class predictions for word labels\n",
      "ROC Error\n",
      "Predicted Label Shape : (1023,)\n",
      "True Label Shape : (1023,)\n",
      "One class predictions for word labels\n",
      "ROC Error\n",
      "Predicted Label Shape : (113,)\n",
      "True Label Shape : (113,)\n",
      "One class predictions for word labels\n",
      "ROC Error\n",
      "\n",
      "Finished running 'evaluate_mt' in 0.0185 mins\n",
      "\n",
      "Y1 Pred Dist : \n",
      "1 : 120\n",
      "0 : 142\n",
      "Y2 Pred Dist : \n",
      "1 : 0\n",
      "0 : 262\n",
      "Predicted Label Shape : (262,)\n",
      "True Label Shape : (262,)\n",
      "One class predictions for word labels\n",
      "ROC Error\n",
      "Predicted Label Shape : (236,)\n",
      "True Label Shape : (236,)\n",
      "One class predictions for word labels\n",
      "ROC Error\n",
      "Predicted Label Shape : (26,)\n",
      "True Label Shape : (26,)\n",
      "One class predictions for word labels\n",
      "ROC Error\n",
      "\n",
      "Finished running 'evaluate_mt' in 0.0066 mins\n",
      "\n",
      "Y1 Pred Dist : \n",
      "1 : 135\n",
      "0 : 213\n",
      "Y2 Pred Dist : \n",
      "1 : 0\n",
      "0 : 348\n",
      "Predicted Label Shape : (348,)\n",
      "True Label Shape : (348,)\n",
      "One class predictions for word labels\n",
      "ROC Error\n",
      "Predicted Label Shape : (174,)\n",
      "True Label Shape : (174,)\n",
      "One class predictions for word labels\n",
      "ROC Error\n",
      "Predicted Label Shape : (174,)\n",
      "True Label Shape : (174,)\n",
      "One class predictions for word labels\n",
      "ROC Error\n",
      "\n",
      "Finished running 'evaluate_mt' in 0.0082 mins\n",
      "\n",
      "\n",
      "Finished running 'run_ssda_MT' in 0.2685 mins\n",
      "\n"
     ]
    }
   ],
   "source": [
    "metrics_train,metrics_test,metrics_val, losses_train,model_dict = run_ssda_cp_mt(df=rel_df,\n",
    "                                                                                 c1s=[77],\n",
    "                                                                                 c2=26,\n",
    "                                                                                 doc_2_cluster_map=d2c_map,\n",
    "                                                                                   c2_train_perc=0.1,\n",
    "                                                                                   learning_rates=[0.001],\n",
    "                                                                                   epochs=[8],\n",
    "                                                                                   batch_sizes=[16],\n",
    "                                                                                   dropouts=[0.3],\n",
    "                                                                                    word_pred_loss_weights=[0.3],\n",
    "                                                                                   l2s=[0.05],\n",
    "                                                                                   cuda_device=torch.device('cuda:1'), \n",
    "                                                                                   return_model=True,\n",
    "                                                                                 avg_type=\"binary\",\n",
    "                                                                                 glove=False,\n",
    "                                                                                 extreme=False,loss2=False,bad_term_embeds=bad_term_embeds)"
   ]
  },
  {
   "cell_type": "code",
   "execution_count": 360,
   "metadata": {},
   "outputs": [],
   "source": [
    "attm_m_model = model_dict[(0.001, 8, 16, 0.3, 0.3, 0.05)]"
   ]
  },
  {
   "cell_type": "code",
   "execution_count": 326,
   "metadata": {},
   "outputs": [
    {
     "data": {
      "text/html": [
       "<div>\n",
       "<style scoped>\n",
       "    .dataframe tbody tr th:only-of-type {\n",
       "        vertical-align: middle;\n",
       "    }\n",
       "\n",
       "    .dataframe tbody tr th {\n",
       "        vertical-align: top;\n",
       "    }\n",
       "\n",
       "    .dataframe thead th {\n",
       "        text-align: right;\n",
       "    }\n",
       "</style>\n",
       "<table border=\"1\" class=\"dataframe\">\n",
       "  <thead>\n",
       "    <tr style=\"text-align: right;\">\n",
       "      <th></th>\n",
       "      <th>Settings</th>\n",
       "      <th>Score_type</th>\n",
       "      <th>Output_type</th>\n",
       "      <th>F1</th>\n",
       "      <th>Precision</th>\n",
       "      <th>Recall</th>\n",
       "      <th>ROC_AUC</th>\n",
       "      <th>Accuracy</th>\n",
       "    </tr>\n",
       "  </thead>\n",
       "  <tbody>\n",
       "    <tr>\n",
       "      <th>36</th>\n",
       "      <td>(0.001, 3, 16, 0.1, 0.1, 0.05)</td>\n",
       "      <td>overall</td>\n",
       "      <td>class_scores</td>\n",
       "      <td>0.694118</td>\n",
       "      <td>0.564593</td>\n",
       "      <td>0.900763</td>\n",
       "      <td>0.603053</td>\n",
       "      <td>0.603053</td>\n",
       "    </tr>\n",
       "    <tr>\n",
       "      <th>38</th>\n",
       "      <td>(0.001, 3, 16, 0.1, 0.1, 0.05)</td>\n",
       "      <td>cluster1</td>\n",
       "      <td>class_scores</td>\n",
       "      <td>0.697368</td>\n",
       "      <td>0.569892</td>\n",
       "      <td>0.898305</td>\n",
       "      <td>0.610169</td>\n",
       "      <td>0.610169</td>\n",
       "    </tr>\n",
       "    <tr>\n",
       "      <th>40</th>\n",
       "      <td>(0.001, 3, 16, 0.1, 0.1, 0.05)</td>\n",
       "      <td>cluster2</td>\n",
       "      <td>class_scores</td>\n",
       "      <td>0.666667</td>\n",
       "      <td>0.521739</td>\n",
       "      <td>0.923077</td>\n",
       "      <td>0.538462</td>\n",
       "      <td>0.538462</td>\n",
       "    </tr>\n",
       "  </tbody>\n",
       "</table>\n",
       "</div>"
      ],
      "text/plain": [
       "                          Settings Score_type   Output_type        F1  \\\n",
       "36  (0.001, 3, 16, 0.1, 0.1, 0.05)    overall  class_scores  0.694118   \n",
       "38  (0.001, 3, 16, 0.1, 0.1, 0.05)   cluster1  class_scores  0.697368   \n",
       "40  (0.001, 3, 16, 0.1, 0.1, 0.05)   cluster2  class_scores  0.666667   \n",
       "\n",
       "    Precision    Recall   ROC_AUC  Accuracy  \n",
       "36   0.564593  0.900763  0.603053  0.603053  \n",
       "38   0.569892  0.898305  0.610169  0.610169  \n",
       "40   0.521739  0.923077  0.538462  0.538462  "
      ]
     },
     "execution_count": 326,
     "metadata": {},
     "output_type": "execute_result"
    }
   ],
   "source": [
    "select_top_settings(metrics_val,metric_type=\"F1\")"
   ]
  },
  {
   "cell_type": "code",
   "execution_count": 327,
   "metadata": {},
   "outputs": [
    {
     "data": {
      "text/html": [
       "<div>\n",
       "<style scoped>\n",
       "    .dataframe tbody tr th:only-of-type {\n",
       "        vertical-align: middle;\n",
       "    }\n",
       "\n",
       "    .dataframe tbody tr th {\n",
       "        vertical-align: top;\n",
       "    }\n",
       "\n",
       "    .dataframe thead th {\n",
       "        text-align: right;\n",
       "    }\n",
       "</style>\n",
       "<table border=\"1\" class=\"dataframe\">\n",
       "  <thead>\n",
       "    <tr style=\"text-align: right;\">\n",
       "      <th></th>\n",
       "      <th>Settings</th>\n",
       "      <th>Score_type</th>\n",
       "      <th>Output_type</th>\n",
       "      <th>F1</th>\n",
       "      <th>Precision</th>\n",
       "      <th>Recall</th>\n",
       "      <th>ROC_AUC</th>\n",
       "      <th>Accuracy</th>\n",
       "    </tr>\n",
       "  </thead>\n",
       "  <tbody>\n",
       "    <tr>\n",
       "      <th>126</th>\n",
       "      <td>(0.001, 5, 16, 0.3, 0.1, 0.05)</td>\n",
       "      <td>overall</td>\n",
       "      <td>class_scores</td>\n",
       "      <td>0.656827</td>\n",
       "      <td>0.635714</td>\n",
       "      <td>0.679389</td>\n",
       "      <td>0.645038</td>\n",
       "      <td>0.645038</td>\n",
       "    </tr>\n",
       "    <tr>\n",
       "      <th>128</th>\n",
       "      <td>(0.001, 5, 16, 0.3, 0.1, 0.05)</td>\n",
       "      <td>cluster1</td>\n",
       "      <td>class_scores</td>\n",
       "      <td>0.658333</td>\n",
       "      <td>0.647541</td>\n",
       "      <td>0.669492</td>\n",
       "      <td>0.652542</td>\n",
       "      <td>0.652542</td>\n",
       "    </tr>\n",
       "    <tr>\n",
       "      <th>130</th>\n",
       "      <td>(0.001, 5, 16, 0.3, 0.1, 0.05)</td>\n",
       "      <td>cluster2</td>\n",
       "      <td>class_scores</td>\n",
       "      <td>0.645161</td>\n",
       "      <td>0.555556</td>\n",
       "      <td>0.769231</td>\n",
       "      <td>0.576923</td>\n",
       "      <td>0.576923</td>\n",
       "    </tr>\n",
       "  </tbody>\n",
       "</table>\n",
       "</div>"
      ],
      "text/plain": [
       "                           Settings Score_type   Output_type        F1  \\\n",
       "126  (0.001, 5, 16, 0.3, 0.1, 0.05)    overall  class_scores  0.656827   \n",
       "128  (0.001, 5, 16, 0.3, 0.1, 0.05)   cluster1  class_scores  0.658333   \n",
       "130  (0.001, 5, 16, 0.3, 0.1, 0.05)   cluster2  class_scores  0.645161   \n",
       "\n",
       "     Precision    Recall   ROC_AUC  Accuracy  \n",
       "126   0.635714  0.679389  0.645038  0.645038  \n",
       "128   0.647541  0.669492  0.652542  0.652542  \n",
       "130   0.555556  0.769231  0.576923  0.576923  "
      ]
     },
     "execution_count": 327,
     "metadata": {},
     "output_type": "execute_result"
    }
   ],
   "source": [
    "select_top_settings(metrics_val,metric_type=\"Accuracy\")"
   ]
  },
  {
   "cell_type": "code",
   "execution_count": 330,
   "metadata": {},
   "outputs": [
    {
     "data": {
      "text/html": [
       "<div>\n",
       "<style scoped>\n",
       "    .dataframe tbody tr th:only-of-type {\n",
       "        vertical-align: middle;\n",
       "    }\n",
       "\n",
       "    .dataframe tbody tr th {\n",
       "        vertical-align: top;\n",
       "    }\n",
       "\n",
       "    .dataframe thead th {\n",
       "        text-align: right;\n",
       "    }\n",
       "</style>\n",
       "<table border=\"1\" class=\"dataframe\">\n",
       "  <thead>\n",
       "    <tr style=\"text-align: right;\">\n",
       "      <th></th>\n",
       "      <th>Settings</th>\n",
       "      <th>Score_type</th>\n",
       "      <th>Output_type</th>\n",
       "      <th>F1</th>\n",
       "      <th>Precision</th>\n",
       "      <th>Recall</th>\n",
       "      <th>ROC_AUC</th>\n",
       "      <th>Accuracy</th>\n",
       "    </tr>\n",
       "  </thead>\n",
       "  <tbody>\n",
       "    <tr>\n",
       "      <th>126</th>\n",
       "      <td>(0.001, 5, 16, 0.3, 0.1, 0.05)</td>\n",
       "      <td>overall</td>\n",
       "      <td>class_scores</td>\n",
       "      <td>0.565217</td>\n",
       "      <td>0.536082</td>\n",
       "      <td>0.597701</td>\n",
       "      <td>0.540230</td>\n",
       "      <td>0.540230</td>\n",
       "    </tr>\n",
       "    <tr>\n",
       "      <th>128</th>\n",
       "      <td>(0.001, 5, 16, 0.3, 0.1, 0.05)</td>\n",
       "      <td>cluster1</td>\n",
       "      <td>class_scores</td>\n",
       "      <td>0.678161</td>\n",
       "      <td>0.678161</td>\n",
       "      <td>0.678161</td>\n",
       "      <td>0.678161</td>\n",
       "      <td>0.678161</td>\n",
       "    </tr>\n",
       "    <tr>\n",
       "      <th>130</th>\n",
       "      <td>(0.001, 5, 16, 0.3, 0.1, 0.05)</td>\n",
       "      <td>cluster2</td>\n",
       "      <td>class_scores</td>\n",
       "      <td>0.463918</td>\n",
       "      <td>0.420561</td>\n",
       "      <td>0.517241</td>\n",
       "      <td>0.402299</td>\n",
       "      <td>0.402299</td>\n",
       "    </tr>\n",
       "  </tbody>\n",
       "</table>\n",
       "</div>"
      ],
      "text/plain": [
       "                           Settings Score_type   Output_type        F1  \\\n",
       "126  (0.001, 5, 16, 0.3, 0.1, 0.05)    overall  class_scores  0.565217   \n",
       "128  (0.001, 5, 16, 0.3, 0.1, 0.05)   cluster1  class_scores  0.678161   \n",
       "130  (0.001, 5, 16, 0.3, 0.1, 0.05)   cluster2  class_scores  0.463918   \n",
       "\n",
       "     Precision    Recall   ROC_AUC  Accuracy  \n",
       "126   0.536082  0.597701  0.540230  0.540230  \n",
       "128   0.678161  0.678161  0.678161  0.678161  \n",
       "130   0.420561  0.517241  0.402299  0.402299  "
      ]
     },
     "execution_count": 330,
     "metadata": {},
     "output_type": "execute_result"
    }
   ],
   "source": [
    "test_res_df = print_res(metrics_test)\n",
    "test_res_df.loc[test_res_df.Settings == (0.001, 5, 16, 0.3, 0.1, 0.05)]"
   ]
  },
  {
   "cell_type": "code",
   "execution_count": 331,
   "metadata": {},
   "outputs": [
    {
     "data": {
      "image/png": "[encoded data removed]",
      "text/plain": [
       "<Figure size 1800x720 with 2 Axes>"
      ]
     },
     "metadata": {
      "needs_background": "light"
     },
     "output_type": "display_data"
    }
   ],
   "source": [
    "plot_epoch_loss_multi(losses_train[(0.001, 3, 16, 0.1, 0.1, 0.05)])"
   ]
  },
  {
   "cell_type": "markdown",
   "metadata": {},
   "source": [
    "### Attention Weights"
   ]
  },
  {
   "cell_type": "code",
   "execution_count": 333,
   "metadata": {},
   "outputs": [
    {
     "name": "stdout",
     "output_type": "stream",
     "text": [
      "Selected data sizes : \n",
      "Train Size : 1136.8500000000001\n",
      "Test Size : 349.8\n",
      "Val Size : 262.34999999999997\n",
      "Percentage of train size for c in c1mix : 1023.1650000000002\n",
      "Percentage of Val size for c in c1mix : 236.11499999999998\n",
      "Percentage of test size for c in c1mix : 174.9\n",
      "\n",
      "Sampled Data Sizes: \n",
      "Train Size : (1136, 14)\n",
      "1 : 569\n",
      "0 : 567\n",
      "Test Size : (348, 14)\n",
      "1 : 174\n",
      "0 : 174\n",
      "Val Size : (262, 14)\n",
      "1 : 131\n",
      "0 : 131\n",
      "Selected data sizes : \n",
      "Train Size : 386.75\n",
      "Test Size : 119.0\n",
      "Val Size : 89.25\n",
      "Percentage of train size for c in c1mix : 348.075\n",
      "Percentage of Val size for c in c1mix : 80.325\n",
      "Percentage of test size for c in c1mix : 59.5\n",
      "\n",
      "Sampled Data Sizes: \n",
      "Train Size : (386, 14)\n",
      "1 : 193\n",
      "0 : 193\n",
      "Test Size : (118, 14)\n",
      "1 : 58\n",
      "0 : 60\n",
      "Val Size : (88, 14)\n",
      "1 : 44\n",
      "0 : 44\n"
     ]
    }
   ],
   "source": [
    "train_n,test_n,val = split_data_mixed(c1s=[77],c2=26,cluster_2_doc_map=d2c_map,df=rel_df,c2_train_perc=0.10)\n",
    "train_e,test_e,val = split_data_mixed(c1s=[28],c2=35,cluster_2_doc_map=d2c_map_extreme,df=rel_df_extreme,c2_train_perc=0.10)"
   ]
  },
  {
   "cell_type": "code",
   "execution_count": 361,
   "metadata": {},
   "outputs": [
    {
     "name": "stderr",
     "output_type": "stream",
     "text": [
      "100%|██████████| 348/348 [00:02<00:00, 143.86it/s]\n"
     ]
    }
   ],
   "source": [
    "multi_att_w_n = get_attention_weights(attm_m_model,test_n,single=False)"
   ]
  },
  {
   "cell_type": "code",
   "execution_count": 345,
   "metadata": {},
   "outputs": [
    {
     "name": "stderr",
     "output_type": "stream",
     "text": [
      "100%|██████████| 348/348 [00:02<00:00, 134.31it/s]\n"
     ]
    }
   ],
   "source": [
    "single_att_w_n = get_attention_weights(attm_s_model,test_n,single=True)"
   ]
  },
  {
   "cell_type": "code",
   "execution_count": 362,
   "metadata": {},
   "outputs": [
    {
     "name": "stdout",
     "output_type": "stream",
     "text": [
      "('president', 0.09364412201744104)\n",
      "('white', 0.03676608626787316)\n",
      "('said', 0.031780452950038)\n",
      "('senate', 0.028107487204614052)\n",
      "('donald', 0.025296009088992065)\n",
      "('percent', 0.017589995036149646)\n",
      "('week', 0.017130842634808435)\n",
      "('adam', 0.016334127089020812)\n",
      "('tuesday', 0.016075442347719522)\n",
      "('democrats', 0.015369330900067)\n",
      "('fox', 0.013554216127495152)\n",
      "('john', 0.013206429557428526)\n",
      "('media', 0.012896961092389855)\n",
      "('poll', 0.012315049594281216)\n",
      "('public', 0.01152573133595485)\n",
      "('democratic', 0.00910125867212937)\n",
      "('month', 0.008852433731221217)\n",
      "('house', 0.008841062887659266)\n",
      "('news', 0.008709089352161765)\n",
      "('electoral', 0.008474777249740134)\n",
      "('clinton', 0.008316713360483329)\n",
      "('presidential', 0.008201811688193726)\n",
      "('joe', 0.008065498046768772)\n",
      "('year', 0.008007112313592427)\n",
      "('far', 0.007835272584968857)\n"
     ]
    }
   ],
   "source": [
    "multi_att_w_agg = aggregate_attW(multi_att_w_n)\n",
    "ranks = sorted(list(multi_att_w_agg.items()),key=lambda x:x[1],reverse=True)[:25]\n",
    "for r in ranks:\n",
    "    print(r)"
   ]
  },
  {
   "cell_type": "code",
   "execution_count": 350,
   "metadata": {},
   "outputs": [
    {
     "name": "stdout",
     "output_type": "stream",
     "text": [
      "('polls', 0.11025277036074299)\n",
      "('media', 0.0862050393527039)\n",
      "('news', 0.05059659658453443)\n",
      "('said', 0.045915529252475246)\n",
      "('cnn', 0.031384280441997134)\n",
      "('reporters', 0.029520724000294145)\n",
      "('press', 0.026753937796389574)\n",
      "('opinion', 0.02528168232985196)\n",
      "('public', 0.024616548318197675)\n",
      "('released', 0.024447420234761926)\n",
      "('senate', 0.023913818453271046)\n",
      "('chamber', 0.02222890521878006)\n",
      "('polling', 0.018531603508373275)\n",
      "('conference', 0.017139360600351997)\n",
      "('told', 0.01522234873664252)\n",
      "('live', 0.013345269828313959)\n",
      "('post', 0.013340402666525098)\n",
      "('real', 0.011456033049306978)\n",
      "('evidence', 0.011278734370454662)\n",
      "('articles', 0.010040584291881342)\n",
      "('wednesday', 0.009662084122023329)\n",
      "('pressure', 0.009018791363826254)\n",
      "('short', 0.008940418944669471)\n",
      "('new', 0.00882725781899361)\n",
      "('big', 0.00810320845788368)\n"
     ]
    }
   ],
   "source": [
    "single_att_w_agg = aggregate_attW(single_att_w_n)\n",
    "ranks = sorted(list(single_att_w_agg.items()),key=lambda x:x[1],reverse=True)[:25]\n",
    "for r in ranks:\n",
    "    print(r)"
   ]
  },
  {
   "cell_type": "code",
   "execution_count": 363,
   "metadata": {},
   "outputs": [],
   "source": [
    "rank_changes = calc_change_in_rank(single_att_w_n,multi_att_w_n)\n",
    "rank_changes_list = list(rank_changes.items())"
   ]
  },
  {
   "cell_type": "code",
   "execution_count": 364,
   "metadata": {},
   "outputs": [
    {
     "data": {
      "text/plain": [
       "[('donald', 492),\n",
       " ('presidential', 464),\n",
       " ('obama', 459),\n",
       " ('john', 457),\n",
       " ('electoral', 456),\n",
       " ('attorney', 425),\n",
       " ('mike', 390),\n",
       " ('governor', 388),\n",
       " ('mitch', 377),\n",
       " ('joe', 371),\n",
       " ('voter', 369),\n",
       " ('vice', 366),\n",
       " ('candidate', 365),\n",
       " ('chuck', 364),\n",
       " ('nancy', 362),\n",
       " ('year', 359),\n",
       " ('clinton', 348),\n",
       " ('registered', 347),\n",
       " ('united', 343),\n",
       " ('election', 343)]"
      ]
     },
     "execution_count": 364,
     "metadata": {},
     "output_type": "execute_result"
    }
   ],
   "source": [
    "sorted(rank_changes_list,key=lambda x: x[1], reverse=True)[:20]"
   ]
  },
  {
   "cell_type": "code",
   "execution_count": 365,
   "metadata": {},
   "outputs": [
    {
     "data": {
      "text/plain": [
       "[('doing', -429),\n",
       " ('upper', -423),\n",
       " ('politics', -401),\n",
       " ('short', -400),\n",
       " ('lines', -399),\n",
       " ('line', -377),\n",
       " ('course', -372),\n",
       " ('coming', -358),\n",
       " ('proceedings', -351),\n",
       " ('deal', -347),\n",
       " ('matter', -345),\n",
       " ('power', -339),\n",
       " ('chamber', -325),\n",
       " ('fight', -322),\n",
       " ('colleagues', -322),\n",
       " ('constitution', -308),\n",
       " ('meeting', -302),\n",
       " ('conference', -299),\n",
       " ('center', -296),\n",
       " ('sure', -296)]"
      ]
     },
     "execution_count": 365,
     "metadata": {},
     "output_type": "execute_result"
    }
   ],
   "source": [
    "sorted(rank_changes_list,key=lambda x: x[1], reverse=False)[:20]"
   ]
  },
  {
   "cell_type": "markdown",
   "metadata": {},
   "source": [
    "### Extreme Dataset"
   ]
  },
  {
   "cell_type": "markdown",
   "metadata": {},
   "source": [
    "### Single Task without Attention"
   ]
  },
  {
   "cell_type": "markdown",
   "metadata": {},
   "source": [
    "### Singlet Task with Attention"
   ]
  },
  {
   "cell_type": "markdown",
   "metadata": {},
   "source": [
    "### Multitask With Attention"
   ]
  },
  {
   "cell_type": "markdown",
   "metadata": {},
   "source": [
    "## Experiment 2 - Bert 3 cluster"
   ]
  },
  {
   "cell_type": "markdown",
   "metadata": {},
   "source": [
    "### Normal Dataset"
   ]
  },
  {
   "cell_type": "markdown",
   "metadata": {},
   "source": [
    "### Single Task without Attention"
   ]
  },
  {
   "cell_type": "markdown",
   "metadata": {},
   "source": [
    "### Singlet Task with Attention"
   ]
  },
  {
   "cell_type": "markdown",
   "metadata": {},
   "source": [
    "### Multitask With Attention"
   ]
  },
  {
   "cell_type": "markdown",
   "metadata": {},
   "source": [
    "### Extreme Dataset"
   ]
  },
  {
   "cell_type": "markdown",
   "metadata": {},
   "source": [
    "### Single Task without Attention"
   ]
  },
  {
   "cell_type": "markdown",
   "metadata": {},
   "source": [
    "### Singlet Task with Attention"
   ]
  },
  {
   "cell_type": "markdown",
   "metadata": {},
   "source": [
    "### Multitask With Attention"
   ]
  },
  {
   "cell_type": "markdown",
   "metadata": {},
   "source": [
    "## Experiment 3 - Bert 4 cluster"
   ]
  },
  {
   "cell_type": "markdown",
   "metadata": {},
   "source": [
    "### Normal Dataset"
   ]
  },
  {
   "cell_type": "markdown",
   "metadata": {},
   "source": [
    "### Single Task without Attention"
   ]
  },
  {
   "cell_type": "markdown",
   "metadata": {},
   "source": [
    "### Singlet Task with Attention"
   ]
  },
  {
   "cell_type": "markdown",
   "metadata": {},
   "source": [
    "### Multitask With Attention"
   ]
  },
  {
   "cell_type": "markdown",
   "metadata": {},
   "source": [
    "### Extreme Dataset"
   ]
  },
  {
   "cell_type": "markdown",
   "metadata": {},
   "source": [
    "### Single Task without Attention"
   ]
  },
  {
   "cell_type": "markdown",
   "metadata": {},
   "source": [
    "### Singlet Task with Attention"
   ]
  },
  {
   "cell_type": "markdown",
   "metadata": {},
   "source": [
    "### Multitask With Attention"
   ]
  },
  {
   "cell_type": "markdown",
   "metadata": {},
   "source": [
    "## Experiment 4 - Glove 2 cluster"
   ]
  },
  {
   "cell_type": "markdown",
   "metadata": {},
   "source": [
    "### Normal Dataset"
   ]
  },
  {
   "cell_type": "markdown",
   "metadata": {},
   "source": [
    "### Single Task without Attention"
   ]
  },
  {
   "cell_type": "markdown",
   "metadata": {},
   "source": [
    "### Singlet Task with Attention"
   ]
  },
  {
   "cell_type": "markdown",
   "metadata": {},
   "source": [
    "### Multitask With Attention"
   ]
  },
  {
   "cell_type": "markdown",
   "metadata": {},
   "source": [
    "### Extreme Dataset"
   ]
  },
  {
   "cell_type": "markdown",
   "metadata": {},
   "source": [
    "### Single Task without Attention"
   ]
  },
  {
   "cell_type": "markdown",
   "metadata": {},
   "source": [
    "### Singlet Task with Attention"
   ]
  },
  {
   "cell_type": "markdown",
   "metadata": {},
   "source": [
    "### Multitask With Attention"
   ]
  },
  {
   "cell_type": "markdown",
   "metadata": {},
   "source": [
    "## Experiment 5 - Glove 3 cluster"
   ]
  },
  {
   "cell_type": "markdown",
   "metadata": {},
   "source": [
    "### Normal Dataset"
   ]
  },
  {
   "cell_type": "markdown",
   "metadata": {},
   "source": [
    "### Single Task without Attention"
   ]
  },
  {
   "cell_type": "markdown",
   "metadata": {},
   "source": [
    "### Singlet Task with Attention"
   ]
  },
  {
   "cell_type": "markdown",
   "metadata": {},
   "source": [
    "### Multitask With Attention"
   ]
  },
  {
   "cell_type": "markdown",
   "metadata": {},
   "source": [
    "### Extreme Dataset"
   ]
  },
  {
   "cell_type": "markdown",
   "metadata": {},
   "source": [
    "### Single Task without Attention"
   ]
  },
  {
   "cell_type": "markdown",
   "metadata": {},
   "source": [
    "### Singlet Task with Attention"
   ]
  },
  {
   "cell_type": "markdown",
   "metadata": {},
   "source": [
    "### Multitask With Attention"
   ]
  },
  {
   "cell_type": "markdown",
   "metadata": {},
   "source": [
    "## Experiment 6 - Glove 4 cluster"
   ]
  },
  {
   "cell_type": "markdown",
   "metadata": {},
   "source": [
    "### Normal Dataset"
   ]
  },
  {
   "cell_type": "markdown",
   "metadata": {},
   "source": [
    "### Single Task without Attention"
   ]
  },
  {
   "cell_type": "markdown",
   "metadata": {},
   "source": [
    "### Singlet Task with Attention"
   ]
  },
  {
   "cell_type": "markdown",
   "metadata": {},
   "source": [
    "### Multitask With Attention"
   ]
  },
  {
   "cell_type": "markdown",
   "metadata": {},
   "source": [
    "### Extreme Dataset"
   ]
  },
  {
   "cell_type": "markdown",
   "metadata": {},
   "source": [
    "### Single Task without Attention"
   ]
  },
  {
   "cell_type": "markdown",
   "metadata": {},
   "source": [
    "### Singlet Task with Attention"
   ]
  },
  {
   "cell_type": "markdown",
   "metadata": {},
   "source": [
    "### Multitask With Attention"
   ]
  },
  {
   "cell_type": "code",
   "execution_count": null,
   "metadata": {},
   "outputs": [],
   "source": []
  },
  {
   "cell_type": "code",
   "execution_count": null,
   "metadata": {},
   "outputs": [],
   "source": []
  },
  {
   "cell_type": "code",
   "execution_count": null,
   "metadata": {},
   "outputs": [],
   "source": []
  }
 ],
 "metadata": {
  "kernelspec": {
   "display_name": "Frames",
   "language": "python",
   "name": "myenv"
  },
  "language_info": {
   "codemirror_mode": {
    "name": "ipython",
    "version": 3
   },
   "file_extension": ".py",
   "mimetype": "text/x-python",
   "name": "python",
   "nbconvert_exporter": "python",
   "pygments_lexer": "ipython3",
   "version": "3.8.5"
  }
 },
 "nbformat": 4,
 "nbformat_minor": 4
}
