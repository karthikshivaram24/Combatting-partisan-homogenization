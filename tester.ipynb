{
 "cells": [
  {
   "cell_type": "code",
   "execution_count": 1,
   "metadata": {},
   "outputs": [],
   "source": [
    "from nltk.tokenize import word_tokenize\n",
    "import pandas as pd"
   ]
  },
  {
   "cell_type": "code",
   "execution_count": 7,
   "metadata": {},
   "outputs": [],
   "source": [
    "df_main = pd.read_excel(open('/home/karthikshivaram/Desktop/Test Date.xlsx','rb'), engine='openpyxl',sheet_name='Source data 1')"
   ]
  },
  {
   "cell_type": "code",
   "execution_count": 8,
   "metadata": {},
   "outputs": [
    {
     "data": {
      "text/html": [
       "<div>\n",
       "<style scoped>\n",
       "    .dataframe tbody tr th:only-of-type {\n",
       "        vertical-align: middle;\n",
       "    }\n",
       "\n",
       "    .dataframe tbody tr th {\n",
       "        vertical-align: top;\n",
       "    }\n",
       "\n",
       "    .dataframe thead th {\n",
       "        text-align: right;\n",
       "    }\n",
       "</style>\n",
       "<table border=\"1\" class=\"dataframe\">\n",
       "  <thead>\n",
       "    <tr style=\"text-align: right;\">\n",
       "      <th></th>\n",
       "      <th>Accountid</th>\n",
       "      <th>Transaction ID</th>\n",
       "      <th>Narrative</th>\n",
       "    </tr>\n",
       "  </thead>\n",
       "  <tbody>\n",
       "    <tr>\n",
       "      <th>0</th>\n",
       "      <td>Ab8654</td>\n",
       "      <td>xxx123</td>\n",
       "      <td>Accrual Jun 20, Receipt, code 6785</td>\n",
       "    </tr>\n",
       "    <tr>\n",
       "      <th>1</th>\n",
       "      <td>Ab8654</td>\n",
       "      <td>xxx786</td>\n",
       "      <td>Credited Apr21, draft, xxxxx</td>\n",
       "    </tr>\n",
       "    <tr>\n",
       "      <th>2</th>\n",
       "      <td>CB8754</td>\n",
       "      <td>yyy9876</td>\n",
       "      <td>credit draft yyyy Paid</td>\n",
       "    </tr>\n",
       "    <tr>\n",
       "      <th>3</th>\n",
       "      <td>CB8734</td>\n",
       "      <td>yyy1065</td>\n",
       "      <td>accountable new account receipt</td>\n",
       "    </tr>\n",
       "    <tr>\n",
       "      <th>4</th>\n",
       "      <td>CB8754</td>\n",
       "      <td>yyy2456</td>\n",
       "      <td>open credit , new receipt</td>\n",
       "    </tr>\n",
       "    <tr>\n",
       "      <th>5</th>\n",
       "      <td>MS9845</td>\n",
       "      <td>vvv6543</td>\n",
       "      <td>credit discounted</td>\n",
       "    </tr>\n",
       "    <tr>\n",
       "      <th>6</th>\n",
       "      <td>MS9845</td>\n",
       "      <td>vvv6547</td>\n",
       "      <td>accrual Aug 20, discounted</td>\n",
       "    </tr>\n",
       "  </tbody>\n",
       "</table>\n",
       "</div>"
      ],
      "text/plain": [
       "  Accountid Transaction ID                           Narrative\n",
       "0    Ab8654         xxx123  Accrual Jun 20, Receipt, code 6785\n",
       "1    Ab8654         xxx786        Credited Apr21, draft, xxxxx\n",
       "2    CB8754        yyy9876              credit draft yyyy Paid\n",
       "3    CB8734        yyy1065     accountable new account receipt\n",
       "4    CB8754        yyy2456           open credit , new receipt\n",
       "5    MS9845        vvv6543                   credit discounted\n",
       "6    MS9845        vvv6547          accrual Aug 20, discounted"
      ]
     },
     "execution_count": 8,
     "metadata": {},
     "output_type": "execute_result"
    }
   ],
   "source": [
    "df_main"
   ]
  },
  {
   "cell_type": "code",
   "execution_count": 10,
   "metadata": {},
   "outputs": [],
   "source": [
    "df_terms = pd.read_excel(open('/home/karthikshivaram/Desktop/Test Date.xlsx','rb'), engine='openpyxl',sheet_name='Source data 2')\n"
   ]
  },
  {
   "cell_type": "code",
   "execution_count": 11,
   "metadata": {},
   "outputs": [
    {
     "data": {
      "text/html": [
       "<div>\n",
       "<style scoped>\n",
       "    .dataframe tbody tr th:only-of-type {\n",
       "        vertical-align: middle;\n",
       "    }\n",
       "\n",
       "    .dataframe tbody tr th {\n",
       "        vertical-align: top;\n",
       "    }\n",
       "\n",
       "    .dataframe thead th {\n",
       "        text-align: right;\n",
       "    }\n",
       "</style>\n",
       "<table border=\"1\" class=\"dataframe\">\n",
       "  <thead>\n",
       "    <tr style=\"text-align: right;\">\n",
       "      <th></th>\n",
       "      <th>Account ID</th>\n",
       "      <th>Tag word list</th>\n",
       "    </tr>\n",
       "  </thead>\n",
       "  <tbody>\n",
       "    <tr>\n",
       "      <th>0</th>\n",
       "      <td>Ab8654</td>\n",
       "      <td>Credit</td>\n",
       "    </tr>\n",
       "    <tr>\n",
       "      <th>1</th>\n",
       "      <td>Ab8654</td>\n",
       "      <td>Accrual</td>\n",
       "    </tr>\n",
       "    <tr>\n",
       "      <th>2</th>\n",
       "      <td>Ab8654</td>\n",
       "      <td>Discounted</td>\n",
       "    </tr>\n",
       "    <tr>\n",
       "      <th>3</th>\n",
       "      <td>Ab8654</td>\n",
       "      <td>Credited</td>\n",
       "    </tr>\n",
       "    <tr>\n",
       "      <th>4</th>\n",
       "      <td>CB8754</td>\n",
       "      <td>Paid</td>\n",
       "    </tr>\n",
       "    <tr>\n",
       "      <th>5</th>\n",
       "      <td>CB8754</td>\n",
       "      <td>Open credit</td>\n",
       "    </tr>\n",
       "    <tr>\n",
       "      <th>6</th>\n",
       "      <td>CB8754</td>\n",
       "      <td>New receipt</td>\n",
       "    </tr>\n",
       "    <tr>\n",
       "      <th>7</th>\n",
       "      <td>CB8754</td>\n",
       "      <td>discounted</td>\n",
       "    </tr>\n",
       "    <tr>\n",
       "      <th>8</th>\n",
       "      <td>CB8734</td>\n",
       "      <td>Accrual</td>\n",
       "    </tr>\n",
       "    <tr>\n",
       "      <th>9</th>\n",
       "      <td>CB8734</td>\n",
       "      <td>discounted</td>\n",
       "    </tr>\n",
       "    <tr>\n",
       "      <th>10</th>\n",
       "      <td>MS9845</td>\n",
       "      <td>discounted</td>\n",
       "    </tr>\n",
       "    <tr>\n",
       "      <th>11</th>\n",
       "      <td>MS9845</td>\n",
       "      <td>credit</td>\n",
       "    </tr>\n",
       "    <tr>\n",
       "      <th>12</th>\n",
       "      <td>MS9845</td>\n",
       "      <td>accrual</td>\n",
       "    </tr>\n",
       "  </tbody>\n",
       "</table>\n",
       "</div>"
      ],
      "text/plain": [
       "   Account ID Tag word list\n",
       "0      Ab8654       Credit \n",
       "1      Ab8654       Accrual\n",
       "2      Ab8654    Discounted\n",
       "3      Ab8654      Credited\n",
       "4      CB8754          Paid\n",
       "5      CB8754   Open credit\n",
       "6      CB8754   New receipt\n",
       "7      CB8754    discounted\n",
       "8      CB8734       Accrual\n",
       "9      CB8734    discounted\n",
       "10     MS9845    discounted\n",
       "11     MS9845        credit\n",
       "12     MS9845       accrual"
      ]
     },
     "execution_count": 11,
     "metadata": {},
     "output_type": "execute_result"
    }
   ],
   "source": [
    "df_terms"
   ]
  },
  {
   "cell_type": "code",
   "execution_count": 14,
   "metadata": {},
   "outputs": [
    {
     "name": "stdout",
     "output_type": "stream",
     "text": [
      "Index(['Account ID', 'Tag word list'], dtype='object')\n",
      "Index(['Account ID', 'Tag word list'], dtype='object')\n",
      "Index(['Account ID', 'Tag word list'], dtype='object')\n",
      "Index(['Account ID', 'Tag word list'], dtype='object')\n"
     ]
    }
   ],
   "source": [
    "terms_dict = {}\n",
    "for grp, df_grp in df_terms.groupby(\"Account ID\"):\n",
    "    print(df_grp.columns)\n",
    "    terms_dict[grp] = df_grp[\"Tag word list\"].tolist()"
   ]
  },
  {
   "cell_type": "code",
   "execution_count": 15,
   "metadata": {},
   "outputs": [
    {
     "data": {
      "text/plain": [
       "{'Ab8654': ['Credit ', 'Accrual', 'Discounted', 'Credited'],\n",
       " 'CB8734': ['Accrual', 'discounted'],\n",
       " 'CB8754': ['Paid', 'Open credit', 'New receipt', 'discounted'],\n",
       " 'MS9845': ['discounted', 'credit', 'accrual']}"
      ]
     },
     "execution_count": 15,
     "metadata": {},
     "output_type": "execute_result"
    }
   ],
   "source": [
    "terms_dict"
   ]
  },
  {
   "cell_type": "code",
   "execution_count": 58,
   "metadata": {},
   "outputs": [],
   "source": [
    "from nltk.tokenize import word_tokenize\n",
    "import pandas as pd\n",
    "\n",
    "def find_terms(filepath='/home/karthikshivaram/Desktop/Test Date.xlsx'):\n",
    "    \"\"\"\n",
    "    \"\"\"\n",
    "    df_main = pd.read_excel(open(filepath,'rb'), engine='openpyxl',sheet_name='Source data 1')\n",
    "    df_terms = pd.read_excel(open(filepath,'rb'), engine='openpyxl',sheet_name='Source data 2')\n",
    "    \n",
    "    terms_dict = {}\n",
    "    for grp, df_grp in df_terms.groupby(\"Account ID\"):\n",
    "        terms_dict[grp] = df_grp[\"Tag word list\"].apply(lambda x: x.lower()).tolist()\n",
    "    \n",
    "    df_main[\"tokens\"] = df_main[\"Narrative\"].apply(lambda x: x.lower()).apply(lambda x: word_tokenize(x))\n",
    "    \n",
    "    tagwords = []\n",
    "    for index,row in df_main.iterrows():\n",
    "        tagwords.append(list(set(terms_dict[row.Accountid]).intersection(row.tokens)))\n",
    "    \n",
    "    df_main[\"Tagword Chk\"] = tagwords\n",
    "    df_main.drop(columns=['tokens'],inplace=True)\n",
    "    return df_main"
   ]
  },
  {
   "cell_type": "code",
   "execution_count": 59,
   "metadata": {},
   "outputs": [
    {
     "name": "stdout",
     "output_type": "stream",
     "text": [
      "Index(['Accountid', 'Transaction ID', 'Narrative', 'tokens'], dtype='object')\n"
     ]
    },
    {
     "data": {
      "text/html": [
       "<div>\n",
       "<style scoped>\n",
       "    .dataframe tbody tr th:only-of-type {\n",
       "        vertical-align: middle;\n",
       "    }\n",
       "\n",
       "    .dataframe tbody tr th {\n",
       "        vertical-align: top;\n",
       "    }\n",
       "\n",
       "    .dataframe thead th {\n",
       "        text-align: right;\n",
       "    }\n",
       "</style>\n",
       "<table border=\"1\" class=\"dataframe\">\n",
       "  <thead>\n",
       "    <tr style=\"text-align: right;\">\n",
       "      <th></th>\n",
       "      <th>Accountid</th>\n",
       "      <th>Transaction ID</th>\n",
       "      <th>Narrative</th>\n",
       "      <th>Tagword Chk</th>\n",
       "    </tr>\n",
       "  </thead>\n",
       "  <tbody>\n",
       "    <tr>\n",
       "      <th>0</th>\n",
       "      <td>Ab8654</td>\n",
       "      <td>xxx123</td>\n",
       "      <td>Accrual Jun 20, Receipt, code 6785</td>\n",
       "      <td>[accrual]</td>\n",
       "    </tr>\n",
       "    <tr>\n",
       "      <th>1</th>\n",
       "      <td>Ab8654</td>\n",
       "      <td>xxx786</td>\n",
       "      <td>Credited Apr21, draft, xxxxx</td>\n",
       "      <td>[credited]</td>\n",
       "    </tr>\n",
       "    <tr>\n",
       "      <th>2</th>\n",
       "      <td>CB8754</td>\n",
       "      <td>yyy9876</td>\n",
       "      <td>credit draft yyyy Paid</td>\n",
       "      <td>[paid]</td>\n",
       "    </tr>\n",
       "    <tr>\n",
       "      <th>3</th>\n",
       "      <td>CB8734</td>\n",
       "      <td>yyy1065</td>\n",
       "      <td>accountable new account receipt</td>\n",
       "      <td>[]</td>\n",
       "    </tr>\n",
       "    <tr>\n",
       "      <th>4</th>\n",
       "      <td>CB8754</td>\n",
       "      <td>yyy2456</td>\n",
       "      <td>open credit , new receipt</td>\n",
       "      <td>[]</td>\n",
       "    </tr>\n",
       "    <tr>\n",
       "      <th>5</th>\n",
       "      <td>MS9845</td>\n",
       "      <td>vvv6543</td>\n",
       "      <td>credit discounted</td>\n",
       "      <td>[credit, discounted]</td>\n",
       "    </tr>\n",
       "    <tr>\n",
       "      <th>6</th>\n",
       "      <td>MS9845</td>\n",
       "      <td>vvv6547</td>\n",
       "      <td>accrual Aug 20, discounted</td>\n",
       "      <td>[discounted, accrual]</td>\n",
       "    </tr>\n",
       "  </tbody>\n",
       "</table>\n",
       "</div>"
      ],
      "text/plain": [
       "  Accountid Transaction ID                           Narrative  \\\n",
       "0    Ab8654         xxx123  Accrual Jun 20, Receipt, code 6785   \n",
       "1    Ab8654         xxx786        Credited Apr21, draft, xxxxx   \n",
       "2    CB8754        yyy9876              credit draft yyyy Paid   \n",
       "3    CB8734        yyy1065     accountable new account receipt   \n",
       "4    CB8754        yyy2456           open credit , new receipt   \n",
       "5    MS9845        vvv6543                   credit discounted   \n",
       "6    MS9845        vvv6547          accrual Aug 20, discounted   \n",
       "\n",
       "             Tagword Chk  \n",
       "0              [accrual]  \n",
       "1             [credited]  \n",
       "2                 [paid]  \n",
       "3                     []  \n",
       "4                     []  \n",
       "5   [credit, discounted]  \n",
       "6  [discounted, accrual]  "
      ]
     },
     "execution_count": 59,
     "metadata": {},
     "output_type": "execute_result"
    }
   ],
   "source": [
    "find_terms(filepath='/home/karthikshivaram/Desktop/Test Date.xlsx')"
   ]
  },
  {
   "cell_type": "code",
   "execution_count": null,
   "metadata": {},
   "outputs": [],
   "source": []
  }
 ],
 "metadata": {
  "kernelspec": {
   "display_name": "Frames",
   "language": "python",
   "name": "myenv"
  },
  "language_info": {
   "codemirror_mode": {
    "name": "ipython",
    "version": 3
   },
   "file_extension": ".py",
   "mimetype": "text/x-python",
   "name": "python",
   "nbconvert_exporter": "python",
   "pygments_lexer": "ipython3",
   "version": "3.8.5"
  }
 },
 "nbformat": 4,
 "nbformat_minor": 2
}
